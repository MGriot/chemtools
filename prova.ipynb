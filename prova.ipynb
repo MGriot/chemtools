{
 "cells": [
  {
   "attachments": {},
   "cell_type": "markdown",
   "metadata": {},
   "source": [
    "# New"
   ]
  },
  {
   "cell_type": "code",
   "execution_count": 1,
   "metadata": {},
   "outputs": [],
   "source": [
    "import numpy as np\n",
    "from scipy import stats\n",
    "import matplotlib.pyplot as plt"
   ]
  },
  {
   "attachments": {},
   "cell_type": "markdown",
   "metadata": {},
   "source": [
    "Certo! Ecco un esempio di classe in Python che implementa la regressione lineare OLS, WLS e GLS (Generalized Least Squares):\n",
    "\n",
    "Questa classe ha quattro attributi: coefficients, method, weights e omega. L’attributo method può essere impostato a 'ols', 'wls' o 'gls' per scegliere il metodo di regressione da utilizzare. Se si sceglie il metodo 'wls', è necessario fornire anche un vettore di pesi tramite l’attributo weights. Se si sceglie il metodo 'gls', è necessario fornire anche una matrice di covarianza degli errori tramite l’attributo omega.\n",
    "\n",
    "La classe ha due metodi principali: fit e predict. Il metodo fit prende in input la matrice delle variabili indipendenti X e il vettore della variabile dipendente y, e calcola i coefficienti del modello di regressione lineare utilizzando la formula matriciale per l’OLS, il WLS o il GLS a seconda del metodo scelto. Il metodo predict prende in input una nuova matrice di variabili indipendenti e restituisce le previsioni del modello."
   ]
  },
  {
   "cell_type": "code",
   "execution_count": 3,
   "metadata": {},
   "outputs": [],
   "source": [
    "def add_intercept(X):\n",
    "    intercept = np.ones((X.shape[0], 1))\n",
    "    return np.hstack((intercept, X))"
   ]
  },
  {
   "attachments": {},
   "cell_type": "markdown",
   "metadata": {},
   "source": [
    "Certo! Ecco un esempio di funzione in Python che può essere utilizzata per aggiungere una colonna di 1 alla matrice delle variabili indipendenti X:\n",
    "\n",
    "Questa funzione prende in input la matrice delle variabili indipendenti X e restituisce una nuova matrice con una colonna aggiuntiva di 1 all’inizio. Questa nuova matrice può quindi essere utilizzata come input per il metodo fit della classe LinearRegression che hai menzionato in precedenza."
   ]
  },
  {
   "cell_type": "code",
   "execution_count": 4,
   "metadata": {},
   "outputs": [],
   "source": [
    "np.random.seed(0)\n",
    "X = np.random.rand(100, 1)\n",
    "Y = 4 + 3 * X + np.random.randn(100, 1)"
   ]
  },
  {
   "cell_type": "code",
   "execution_count": 2,
   "metadata": {},
   "outputs": [],
   "source": [
    "import numpy as np\n",
    "from scipy import stats\n",
    "import matplotlib.pyplot as plt\n",
    "\n",
    "class LinearRegression:\n",
    "    def __init__(self, intercept=True, method='ols', weights=None, omega=None):\n",
    "        self.intercept=intercept\n",
    "        self.coefficients = None\n",
    "        self.method = method\n",
    "        self.weights = weights\n",
    "        self.omega = omega\n",
    "\n",
    "    def fit(self, X, y):\n",
    "        if self.intercept is True:\n",
    "            X = np.hstack((np.ones((X.shape[0], 1)), X)) #aggiunge alla matrice delle X una colonna di 1 per l'intercetta\n",
    "        if self.method == 'ols':\n",
    "            self.coefficients = np.linalg.inv(X.T.dot(X)).dot(X.T).dot(y)\n",
    "        elif self.method == 'wls':\n",
    "            if self.weights is None:\n",
    "                raise ValueError(\"Weights must be provided for WLS method\")\n",
    "            W = np.diag(self.weights)\n",
    "            self.coefficients = np.linalg.inv(X.T.dot(W).dot(X)).dot(X.T).dot(W).dot(y)\n",
    "        elif self.method == 'gls':\n",
    "            if self.omega is None:\n",
    "                raise ValueError(\"Omega matrix must be provided for GLS method\")\n",
    "            Omega_inv = np.linalg.inv(self.omega)\n",
    "            self.coefficients = np.linalg.inv(X.T.dot(Omega_inv).dot(X)).dot(X.T).dot(Omega_inv).dot(y)\n",
    "\n",
    "    def predict(self,X):\n",
    "        if self.intercept is True:\n",
    "            X=np.hstack((np.ones((X.shape[0],1)),X))\n",
    "        return X.dot(self.coefficients)\n",
    "\n",
    "    def plot_residuals(self,X,y):\n",
    "        y_pred=self.predict(X)\n",
    "        residuals=y-y_pred\n",
    "        plt.scatter(range(len(residuals)),residuals)\n",
    "        plt.axhline(0,color='r',linestyle='--')\n",
    "        plt.xlabel('Observations')\n",
    "        plt.ylabel('Residuals')\n",
    "\n",
    "    def plot_data(self,X,y):\n",
    "        plt.scatter(X,y,label='Data')\n",
    "        x_min,x_max=plt.xlim()\n",
    "        x_line=np.linspace(x_min,x_max,num=100)\n",
    "        x_line=x_line.reshape(-1,1)\n",
    "        y_line=self.predict(x_line)\n",
    "        plt.plot(x_line,y_line,'r',label='Regression Line')\n",
    "      \n",
    "    def plot_confidence_band(self,X,y,alpha=0.05):\n",
    "        n=X.shape[0]\n",
    "        df=n-2 #gradi di libertà \n",
    "        t=stats.t.ppf(1-alpha/2.,df) #valore critico della distribuzione t-student \n",
    "        sse=np.sum((y-self.predict(X))**2) #somma dei quadrati degli errori \n",
    "        s2=sse/df #varianza residua \n",
    "        x_min,x_max=plt.xlim()\n",
    "        x_line=np.linspace(x_min,x_max,num=100)[:,None]\n",
    "        if self.intercept is True:\n",
    "            x_line=np.hstack((np.ones((x_line.shape[0],1)),x_line))\n",
    "        y_pred=self.predict(x_line[:,1:])\n",
    "        se=s2*np.sum(np.power(x_line-np.mean(x_line),2),axis=1)[:,None] #errore standard della stima \n",
    "        ci=t*np.sqrt(se) #intervallo di confidenza \n",
    "        plt.fill_between(x_line[:,1:].flatten(),(y_pred-ci).flatten(),(y_pred+ci).flatten(),color='b',alpha=.3,label=\"Confidence Band\")\n",
    "        plt.legend(loc='best')\n",
    "        \n",
    "    def plot_prediction_band(self,X,y,alpha=0.05):\n",
    "        n=X.shape[0]\n",
    "        df=n-2 #gradi di libertà \n",
    "        t=stats.t.ppf(1-alpha/2.,df) #valore critico della distribuzione t-student \n",
    "        sse=np.sum((y-self.predict(X))**2) #somma dei quadrati degli errori \n",
    "        s2=sse/df #varianza residua \n",
    "        x_min,x_max=plt.xlim()\n",
    "        x_line=np.linspace(x_min,x_max,num=100)[:,None]\n",
    "        if self.intercept is True:\n",
    "            x_line=np.hstack((np.ones((x_line.shape[0],1)),x_line))\n",
    "        y_pred=self.predict(x_line[:,1:])\n",
    "        se=s2*np.sum(np.power(x_line-np.mean(x_line),2),axis=1)[:,None] #errore standard della stima\n",
    "        pi=t*np.sqrt(se+s2) #intervallo di predizione\n",
    "        plt.fill_between(x_line[:,1:].flatten(),(y_pred-pi).flatten(),(y_pred+pi).flatten(),color='g',alpha=.3,label=\"Prediction Band\")\n",
    "        plt.legend(loc='best')\n",
    "        \n",
    "    def plot_all(self,X,y,alpha=0.05):\n",
    "        fig=plt.figure(figsize=(10,6))\n",
    "        ax=plt.gca()\n",
    "        ax.scatter(X,y,label=\"Data\")\n",
    "        ax.set_xlabel(\"X\",fontsize=14)\n",
    "        ax.set_ylabel(\"Y\",fontsize=14)\n",
    "        ax.set_title(\"Linear Regression with Confidence and Prediction Bands\",fontsize=18)\n",
    "        x_min,x_max=ax.get_xlim()\n",
    "        x_plot=np.linspace(x_min,x_max,num=100)[:,None]    \n",
    "        y_plot=self.predict(x_plot)\n",
    "        ax.plot(x_plot,y_plot,'r',label='Regression Line')\n",
    "        self.plot_confidence_bands(X,y,alpha=alpha)\n",
    "        ax.legend(loc='best',fontsize=14)\n",
    "        \n",
    "    def plot_data_only(self,X,y):\n",
    "        plt.scatter(X,y,label='Data')"
   ]
  },
  {
   "cell_type": "code",
   "execution_count": 12,
   "metadata": {},
   "outputs": [
    {
     "data": {
      "image/png": "[encoded data removed]",
      "text/plain": [
       "<Figure size 640x480 with 1 Axes>"
      ]
     },
     "metadata": {},
     "output_type": "display_data"
    },
    {
     "data": {
      "image/png": "[encoded data removed]",
      "text/plain": [
       "<Figure size 640x480 with 1 Axes>"
      ]
     },
     "metadata": {},
     "output_type": "display_data"
    },
    {
     "data": {
      "text/plain": [
       "<matplotlib.legend.Legend at 0x16470273e90>"
      ]
     },
     "execution_count": 12,
     "metadata": {},
     "output_type": "execute_result"
    },
    {
     "data": {
      "image/png": "[encoded data removed]",
      "text/plain": [
       "<Figure size 640x480 with 1 Axes>"
      ]
     },
     "metadata": {},
     "output_type": "display_data"
    }
   ],
   "source": [
    "reg=LinearRegression(intercept=True)\n",
    "reg.fit(X,Y)\n",
    "reg.coefficients\n",
    "reg.plot_data(X,Y)\n",
    "plt.show()\n",
    "reg.plot_residuals(X,Y)\n",
    "plt.show()\n",
    "reg.plot_confidence_band(X,Y)\n",
    "reg.plot_prediction_band(X,Y)\n",
    "plt.legend(loc='best')"
   ]
  },
  {
   "cell_type": "code",
   "execution_count": null,
   "metadata": {},
   "outputs": [],
   "source": [
    "import numpy as np\n",
    "from scipy import stats\n",
    "import matplotlib.pyplot as plt\n",
    "\n",
    "class LinearRegression:\n",
    "    def __init__(self, intercept=True, method='ols', weights=None, omega=None):\n",
    "        self.intercept=intercept\n",
    "        self.coefficients = None\n",
    "        self.method = method\n",
    "        self.weights = weights\n",
    "        self.omega = omega\n",
    "\n",
    "    def fit(self, X, y):\n",
    "        if self.intercept is True:\n",
    "            X = np.hstack((np.ones((X.shape[0], 1)), X)) #aggiunge alla matrice delle X una colonna di 1 per l'intercetta\n",
    "        if self.method == 'ols':\n",
    "            self.coefficients = np.linalg.inv(X.T.dot(X)).dot(X.T).dot(y)\n",
    "        elif self.method == 'wls':\n",
    "            if self.weights is None:\n",
    "                raise ValueError(\"Weights must be provided for WLS method\")\n",
    "            W = np.diag(self.weights)\n",
    "            self.coefficients = np.linalg.inv(X.T.dot(W).dot(X)).dot(X.T).dot(W).dot(y)\n",
    "        elif self.method == 'gls':\n",
    "            if self.omega is None:\n",
    "                raise ValueError(\"Omega matrix must be provided for GLS method\")\n",
    "            Omega_inv = np.linalg.inv(self.omega)\n",
    "            self.coefficients = np.linalg.inv(X.T.dot(Omega_inv).dot(X)).dot(X.T).dot(Omega_inv).dot(y)\n",
    "    \n",
    "    def statistics(self, X, y):\n",
    "        self.objects_number = X.shape[0]\n",
    "        self.object_order = np.arange(1, X.shape[0] + 1)\n",
    "        self.x_mean = np.mean(X)\n",
    "        self.y_mean = np.mean(y)\n",
    "        self.y_pred_orig=self.predict(X)\n",
    "        self.residuals=y-self.y_pred_orig\n",
    "        self.SSxx = np.sum((X - self.x_mean) ** 2)\n",
    "        self.SSyy = np.sum((y - self.y_mean) ** 2)\n",
    "        self.SSxy = np.sum((X - self.x_mean) * (y - self.y_mean))\n",
    "        self.S2x = np.sum(X**2)\n",
    "        self.S2y = np.sum(y**2) ####continuation\n",
    "        self.SSres = ((y -self.y_pred_orig)**2).sum()\n",
    "        self.SStot= ((y-self.y_mean)**2).sum()\n",
    "        self.SSexp=((self.y_pred_orig-self.y_mean)**2).sum()\n",
    "\n",
    "        self.se = math.sqrt(self.SSres / (self.objects_number - 2))\n",
    "        self.se2 = (\n",
    "            1\n",
    "            / (self.objects_number * (self.objects_number - 2))\n",
    "            * (\n",
    "                self.objects_number * self.SSyy\n",
    "                - self.S2y\n",
    "                - self.slope**2 * (self.objects_number * self.SSxx - self.S2x)\n",
    "            )\n",
    "        )\n",
    "        self.Sslope2 = (\n",
    "            self.objects_number\n",
    "            * self.se2\n",
    "            / (self.objects_number * self.SSxx - self.S2x)\n",
    "        )\n",
    "        self.Sintercept2 = self.Sslope2 * (1 / self.objects_number) * self.SSxx\n",
    "\n",
    "        d_f_ = self.objects_number - 2\n",
    "        self.t_one, self.t_two = t_students(alpha, d_f_)\n",
    "        self.residual = y - self.y_pred_orig\n",
    "        k = 1  # oltre all'intercetta ho anche un coefficiente angolare, se avessi solo l'intercetta satebbe 0\n",
    "        # due è il numero di parametri che determino slope and intercept\n",
    "        self.rse = math.sqrt(self.SSres / (self.objects_number - (k + 1)))\n",
    "\n",
    "        def predict(x, b0, b1):\n",
    "            return b0 + b1 * x\n",
    "\n",
    "        mse = np.sum((y - predict(x, self.intercept, self.slope)) ** 2) / len(y)\n",
    "        self.mse = mse\n",
    "        self.rmse = mse ** (1 / 2)\n",
    "        self.R2 = self.SSexp / self.SStot\n",
    "        self.r2 = 1 - (self.SSres / self.SStot)\n",
    "        self.adjusted_r_squared = (\n",
    "            1\n",
    "            - ((self.objects_number - 1) / (self.objects_number - k - 1))\n",
    "            * self.SSres\n",
    "            / self.SStot\n",
    "        )\n",
    "        self.correlation_coefficent = f\"{self.R2}\\n{self.r2}\\n{self.adjusted_r_squared}\"\n",
    "\n",
    "        self.CI_Y_upper, self.CI_Y_lower = confidence_band.confidence_band(\n",
    "            number_data=self.objects_number,\n",
    "            x=x,\n",
    "            x_mean=self.x_mean,\n",
    "            y_pred_orig=self.y_pred_orig,\n",
    "            SSxx=self.SSxx,\n",
    "            t_two=self.t_two,\n",
    "        )\n",
    "        self.PI_Y_upper, self.PI_Y_lower = prediction_band.prediction_band(\n",
    "            number_data=self.objects_number,\n",
    "            x=x,\n",
    "            x_mean=self.x_mean,\n",
    "            y_pred_orig=self.y_pred_orig,\n",
    "            SSxx=self.SSxx,\n",
    "            t_two=self.t_two,\n",
    "        )\n",
    "\n",
    "    def predict(self,X):\n",
    "        if self.intercept is True:\n",
    "            X=np.hstack((np.ones((X.shape[0],1)),X))\n",
    "        return X.dot(self.coefficients)\n",
    "\n",
    "    def plot_residuals(self,X,y):\n",
    "        y_pred=self.predict(X)\n",
    "        residuals=y-y_pred\n",
    "        plt.scatter(range(len(residuals)),residuals)\n",
    "        plt.axhline(0,color='r',linestyle='--')\n",
    "        plt.xlabel('Observations')\n",
    "        plt.ylabel('Residuals')\n",
    "\n",
    "    def plot_data(self,X,y):\n",
    "        plt.scatter(X,y,label='Data')\n",
    "        x_min,x_max=plt.xlim()\n",
    "        x_line=np.linspace(x_min,x_max,num=100)\n",
    "        x_line=x_line.reshape(-1,1)\n",
    "        y_line=self.predict(x_line)\n",
    "        plt.plot(x_line,y_line,'r',label='Regression Line')\n",
    "      \n",
    "    def plot_confidence_band(self,X,y,alpha=0.05):\n",
    "        n=X.shape[0]\n",
    "        df=n-2 #gradi di libertà \n",
    "        t=stats.t.ppf(1-alpha/2.,df) #valore critico della distribuzione t-student \n",
    "        sse=np.sum((y-self.predict(X))**2) #somma dei quadrati degli errori \n",
    "        s2=sse/df #varianza residua \n",
    "        x_min,x_max=plt.xlim()\n",
    "        x_line=np.linspace(x_min,x_max,num=100)[:,None]\n",
    "        if self.intercept is True:\n",
    "            x_line=np.hstack((np.ones((x_line.shape[0],1)),x_line))\n",
    "        y_pred=self.predict(x_line[:,1:])\n",
    "        se=s2*np.sum(np.power(x_line-np.mean(x_line),2),axis=1)[:,None] #errore standard della stima \n",
    "        ci=t*np.sqrt(se) #intervallo di confidenza \n",
    "        plt.fill_between(x_line[:,1:].flatten(),(y_pred-ci).flatten(),(y_pred+ci).flatten(),color='b',alpha=.3,label=\"Confidence Band\")\n",
    "        plt.legend(loc='best')\n",
    "        \n",
    "    def plot_prediction_band(self,X,y,alpha=0.05):\n",
    "        n=X.shape[0]\n",
    "        df=n-2 #gradi di libertà \n",
    "        t=stats.t.ppf(1-alpha/2.,df) #valore critico della distribuzione t-student \n",
    "        sse=np.sum((y-self.predict(X))**2) #somma dei quadrati degli errori \n",
    "        s2=sse/df #varianza residua \n",
    "        x_min,x_max=plt.xlim()\n",
    "        x_line=np.linspace(x_min,x_max,num=100)[:,None]\n",
    "        if self.intercept is True:\n",
    "            x_line=np.hstack((np.ones((x_line.shape[0],1)),x_line))\n",
    "        y_pred=self.predict(x_line[:,1:])\n",
    "        se=s2*np.sum(np.power(x_line-np.mean(x_line),2),axis=1)[:,None] #errore standard della stima\n",
    "        pi=t*np.sqrt(se+s2) #intervallo di predizione\n",
    "        plt.fill_between(x_line[:,1:].flatten(),(y_pred-pi).flatten(),(y_pred+pi).flatten(),color='g',alpha=.3,label=\"Prediction Band\")\n",
    "        plt.legend(loc='best')\n",
    "        \n",
    "    def plot_all(self,X,y,alpha=0.05):\n",
    "        fig=plt.figure(figsize=(10,6))\n",
    "        ax=plt.gca()\n",
    "        ax.scatter(X,y,label=\"Data\")\n",
    "        ax.set_xlabel(\"X\",fontsize=14)\n",
    "        ax.set_ylabel(\"Y\",fontsize=14)\n",
    "        ax.set_title(\"Linear Regression with Confidence and Prediction Bands\",fontsize=18)\n",
    "        x_min,x_max=ax.get_xlim()\n",
    "        x_plot=np.linspace(x_min,x_max,num=100)[:,None]    \n",
    "        y_plot=self.predict(x_plot)\n",
    "        ax.plot(x_plot,y_plot,'r',label='Regression Line')\n",
    "        self.plot_confidence_bands(X,y,alpha=alpha)\n",
    "        ax.legend(loc='best',fontsize=14)\n",
    "        \n",
    "    def plot_data_only(self,X,y):\n",
    "        plt.scatter(X,y,label='Data')"
   ]
  },
  {
   "attachments": {},
   "cell_type": "markdown",
   "metadata": {},
   "source": [
    "# Dendrogramma"
   ]
  },
  {
   "cell_type": "code",
   "execution_count": 29,
   "metadata": {},
   "outputs": [],
   "source": [
    "import numpy as np\n",
    "import matplotlib.pyplot as plt"
   ]
  },
  {
   "cell_type": "code",
   "execution_count": 30,
   "metadata": {},
   "outputs": [],
   "source": [
    "def pdist(data):\n",
    "    m, n = data.shape\n",
    "    dm = np.zeros((m * (m - 1)) // 2, dtype=np.double)\n",
    "    k = 0\n",
    "    for i in range(0, m - 1):\n",
    "        for j in range(i + 1, m):\n",
    "            dm[k] = np.sqrt(np.sum((data[i] - data[j]) ** 2))\n",
    "            k += 1\n",
    "    return dm"
   ]
  },
  {
   "cell_type": "code",
   "execution_count": 35,
   "metadata": {},
   "outputs": [],
   "source": [
    "def linkage(Y):\n",
    "    m = int(np.ceil(np.sqrt(Y.shape[0] * 2)))\n",
    "    Z = np.zeros((m - 1, 4))\n",
    "    data = np.zeros((m, m))\n",
    "    data[np.triu_indices(m, k=1)] = Y\n",
    "    for k in range(m - 1):\n",
    "        x, y = np.where(data == np.min(data[np.nonzero(data)]))\n",
    "        i = min(x[0], y[0])\n",
    "        j = max(x[0], y[0])\n",
    "        Z[k, :2] = i, j\n",
    "        Z[k, 2] = data[i, j]\n",
    "        Z[k, 3] = (data[i] != 0).sum() + (data[j] != 0).sum()\n",
    "        data[i] = (data[i] + data[j]) / 2\n",
    "        data[:, i] = (data[:, i] + data[:, j]) / 2\n",
    "        data[j] = 0\n",
    "        data[:, j] = 0\n",
    "    return Z"
   ]
  },
  {
   "cell_type": "code",
   "execution_count": 33,
   "metadata": {},
   "outputs": [],
   "source": [
    "def plot_dendrogram(Z):\n",
    "    m = Z.shape[0] + 1\n",
    "    plt.figure(figsize=(10, 5))\n",
    "    plt.title('Dendrogram')\n",
    "    plt.xlabel('Index')\n",
    "    plt.ylabel('Distance')\n",
    "    for k in range(m - 1):\n",
    "        i = int(Z[k, 0])\n",
    "        j = int(Z[k, 1])\n",
    "        x = [k, k, m + k - 1]\n",
    "        y = [i, j, (Z[i - 1, 2] + Z[j - 1 ,2]) / 2]\n",
    "        plt.plot(x[:2], y[:2], c='k')\n",
    "        plt.plot(x[1:], y[1:], c='k')\n",
    "    plt.show()"
   ]
  },
  {
   "cell_type": "code",
   "execution_count": 37,
   "metadata": {},
   "outputs": [
    {
     "name": "stdout",
     "output_type": "stream",
     "text": [
      "[[0.         1.         2.82842712 3.        ]\n",
      " [0.         0.         0.70710678 4.        ]]\n"
     ]
    },
    {
     "data": {
      "image/png": "[encoded data removed]",
      "text/plain": [
       "<Figure size 1000x500 with 1 Axes>"
      ]
     },
     "metadata": {},
     "output_type": "display_data"
    }
   ],
   "source": [
    "data = np.array([[1., 2.], [3., 4.], [5., 6.]])\n",
    "Y = pdist(data)\n",
    "Z = linkage(Y)\n",
    "print(Z)\n",
    "plot_dendrogram(Z)"
   ]
  },
  {
   "cell_type": "markdown",
   "metadata": {},
   "source": [
    "# Test OrdinaryLeastSquares"
   ]
  },
  {
   "cell_type": "code",
   "execution_count": 1,
   "metadata": {},
   "outputs": [],
   "source": [
    "import numpy as np\n",
    "import pandas as pd"
   ]
  },
  {
   "cell_type": "code",
   "execution_count": 2,
   "metadata": {},
   "outputs": [],
   "source": [
    "x=np.array([[0,1,2,3,4,5,6]])\n",
    "c=np.array([0,1,2,3,4,5,6])\n",
    "y=np.array([[0,1,3,5,9,10,14]])"
   ]
  },
  {
   "cell_type": "code",
   "execution_count": 3,
   "metadata": {},
   "outputs": [],
   "source": [
    "def check_is_matrix(x):\n",
    "    try:\n",
    "        if x.shape[0] and x.shape[1]:\n",
    "            pass\n",
    "    except IndexError:\n",
    "        return np.array([x[:]])"
   ]
  },
  {
   "cell_type": "code",
   "execution_count": 4,
   "metadata": {},
   "outputs": [],
   "source": [
    "c=check_is_matrix(c)"
   ]
  },
  {
   "cell_type": "code",
   "execution_count": 5,
   "metadata": {},
   "outputs": [],
   "source": [
    "def aad_ones_column():\n",
    "    c.shape[0]"
   ]
  },
  {
   "cell_type": "code",
   "execution_count": 6,
   "metadata": {},
   "outputs": [
    {
     "data": {
      "text/plain": [
       "array([[0],\n",
       "       [1],\n",
       "       [2],\n",
       "       [3],\n",
       "       [4],\n",
       "       [5],\n",
       "       [6]])"
      ]
     },
     "execution_count": 6,
     "metadata": {},
     "output_type": "execute_result"
    }
   ],
   "source": [
    "c.T"
   ]
  },
  {
   "cell_type": "code",
   "execution_count": 7,
   "metadata": {},
   "outputs": [
    {
     "data": {
      "text/plain": [
       "(1, 7)"
      ]
     },
     "execution_count": 7,
     "metadata": {},
     "output_type": "execute_result"
    }
   ],
   "source": [
    "c.shape"
   ]
  },
  {
   "cell_type": "code",
   "execution_count": 8,
   "metadata": {},
   "outputs": [
    {
     "data": {
      "text/plain": [
       "(1, 7)"
      ]
     },
     "execution_count": 8,
     "metadata": {},
     "output_type": "execute_result"
    }
   ],
   "source": [
    "x.shape"
   ]
  },
  {
   "cell_type": "code",
   "execution_count": 9,
   "metadata": {},
   "outputs": [
    {
     "name": "stdout",
     "output_type": "stream",
     "text": [
      "[[0 1 2 3 4 5 6]]\n"
     ]
    }
   ],
   "source": [
    "print(x)"
   ]
  },
  {
   "cell_type": "code",
   "execution_count": 10,
   "metadata": {},
   "outputs": [
    {
     "data": {
      "text/plain": [
       "array([[0],\n",
       "       [1],\n",
       "       [2],\n",
       "       [3],\n",
       "       [4],\n",
       "       [5],\n",
       "       [6]])"
      ]
     },
     "execution_count": 10,
     "metadata": {},
     "output_type": "execute_result"
    }
   ],
   "source": [
    "x=x.T\n",
    "x"
   ]
  },
  {
   "cell_type": "code",
   "execution_count": 11,
   "metadata": {},
   "outputs": [
    {
     "data": {
      "text/plain": [
       "array([[ 0],\n",
       "       [ 1],\n",
       "       [ 3],\n",
       "       [ 5],\n",
       "       [ 9],\n",
       "       [10],\n",
       "       [14]])"
      ]
     },
     "execution_count": 11,
     "metadata": {},
     "output_type": "execute_result"
    }
   ],
   "source": [
    "y=y.T\n",
    "y"
   ]
  },
  {
   "cell_type": "code",
   "execution_count": 94,
   "metadata": {},
   "outputs": [
    {
     "data": {
      "text/plain": [
       "(7, 1)"
      ]
     },
     "execution_count": 94,
     "metadata": {},
     "output_type": "execute_result"
    }
   ],
   "source": [
    "x.shape"
   ]
  },
  {
   "cell_type": "code",
   "execution_count": 95,
   "metadata": {},
   "outputs": [
    {
     "data": {
      "text/plain": [
       "array([[1., 0.],\n",
       "       [1., 1.],\n",
       "       [1., 2.],\n",
       "       [1., 3.],\n",
       "       [1., 4.],\n",
       "       [1., 5.],\n",
       "       [1., 6.]])"
      ]
     },
     "execution_count": 95,
     "metadata": {},
     "output_type": "execute_result"
    }
   ],
   "source": [
    "x=np.c_[np.ones(x.shape[0]),x] \n",
    "x"
   ]
  },
  {
   "cell_type": "code",
   "execution_count": 96,
   "metadata": {},
   "outputs": [],
   "source": [
    "X=X.T"
   ]
  },
  {
   "cell_type": "code",
   "execution_count": 98,
   "metadata": {},
   "outputs": [
    {
     "data": {
      "text/plain": [
       "array([[ 42.],\n",
       "       [192.]])"
      ]
     },
     "execution_count": 98,
     "metadata": {},
     "output_type": "execute_result"
    }
   ],
   "source": [
    "np.dot(x.T,y)"
   ]
  },
  {
   "cell_type": "code",
   "execution_count": 99,
   "metadata": {},
   "outputs": [
    {
     "data": {
      "text/plain": [
       "array([[ 7., 21.],\n",
       "       [21., 91.]])"
      ]
     },
     "execution_count": 99,
     "metadata": {},
     "output_type": "execute_result"
    }
   ],
   "source": [
    "(np.dot(x.T,x))"
   ]
  },
  {
   "cell_type": "code",
   "execution_count": 102,
   "metadata": {},
   "outputs": [
    {
     "name": "stdout",
     "output_type": "stream",
     "text": [
      "a\n",
      "[[-1.07142857]\n",
      " [ 2.35714286]]\n"
     ]
    }
   ],
   "source": [
    "try:\n",
    "    beta = np.dot((np.linalg.inv(np.dot(x.T,x))), np.dot(x.T,y))\n",
    "    print(\"a\")\n",
    "except Exception:\n",
    "    beta = np.dot((np.linalg.pinv(np.dot(x.T,x))), np.dot(x.T,y))\n",
    "    print(\"b\")\n",
    "print(beta)"
   ]
  },
  {
   "cell_type": "code",
   "execution_count": 12,
   "metadata": {},
   "outputs": [
    {
     "ename": "NameError",
     "evalue": "name 'ols' is not defined",
     "output_type": "error",
     "traceback": [
      "\u001b[1;31m---------------------------------------------------------------------------\u001b[0m",
      "\u001b[1;31mNameError\u001b[0m                                 Traceback (most recent call last)",
      "Cell \u001b[1;32mIn[12], line 1\u001b[0m\n\u001b[1;32m----> 1\u001b[0m ols\u001b[39m.\u001b[39mregression(x\u001b[39m=\u001b[39mx,y\u001b[39m=\u001b[39my)\n",
      "\u001b[1;31mNameError\u001b[0m: name 'ols' is not defined"
     ]
    }
   ],
   "source": [
    "ols.regression(x=x,y=y)"
   ]
  },
  {
   "cell_type": "code",
   "execution_count": 13,
   "metadata": {},
   "outputs": [
    {
     "name": "stdout",
     "output_type": "stream",
     "text": [
      "Print of data calculated of test:\n",
      "\n",
      "\n",
      "  Number of sample    Avarage of x    Avarage of y\n",
      "------------------  --------------  --------------\n",
      "                 7               3         4.85714\n",
      "\n",
      "\n",
      "  SSxx    SSxy     SSres    SStot    SSexp                     MSE\n",
      "                                              (Mean Squared Error)\n",
      "------  ------  --------  -------  -------  ----------------------\n",
      "    28      45  0.535714  72.8571  72.3214               0.0765306\n",
      "\n",
      "\n",
      "                       RMSE  R^2=SSexp/SStot\n",
      "  (Root Mean Squared Error)  R^2=1-(SSres/SStot)\n",
      "                             adjusted R^2\n",
      "---------------------------  ---------------------\n",
      "                   0.276642  0.9926470588235293\n",
      "                             0.9926470588235294\n",
      "                             0.9911764705882353\n",
      "\n",
      "\n",
      "      SE     α     tα/2       tα\n",
      "--------  ----  -------  -------\n",
      "0.327327  0.05  2.57058  2.01505\n",
      "\n",
      "\n",
      "  Slope    Intercept\n",
      "     b1           b0\n",
      "-------  -----------\n",
      "1.60714    0.0357143\n",
      "\n",
      "\n",
      "X value    Y value    Predicted Y for original X    Residual\n",
      "---------  ---------  ----------------------------  --------------------\n",
      "0          0          0.03571428571428559           -0.03571428571428559\n",
      "1          2          1.6428571428571428            0.3571428571428572\n",
      "2          3          3.25                          -0.25\n",
      "3          5          4.857142857142857             0.14285714285714324\n",
      "4          6          6.464285714285714             -0.4642857142857144\n",
      "5          8          8.071428571428573             -0.07142857142857295\n",
      "6          10         9.678571428571427             0.32142857142857295\n",
      "\n",
      "\n",
      "New value for X         Y predicted\n",
      "----------------------  ------------------------------------------------------------------\n",
      "[0. 1. 2. 3. 4. 5. 6.]  [0.03571429 1.64285714 3.25       4.85714286 6.46428571 8.07142857\n",
      "                         9.67857143]\n",
      "\n",
      "\n",
      "Confidence Interval lower                                                 Confidence Interval upper\n",
      "------------------------------------------------------------------------  ------------------------------------------------------------------------\n",
      "[-1.71584199  0.26882335  2.16373091  3.88555425  5.37801663  6.69739478  [ 1.78727056  3.01689093  4.33626909  5.82873147  7.5505548   9.44546236\n",
      "  7.92701515]                                                              11.4301277 ]\n",
      "\n",
      "\n",
      "Prediction Interval lower                                                 Prediction Interval upper\n",
      "------------------------------------------------------------------------  -----------------------------------------------------------------------\n",
      "[-3.074887   -1.27190868  0.45932418  2.10907528  3.6736099   5.15666274  [ 3.14631557  4.55762297  6.04067582  7.60521043  9.25496153 10.9861944\n",
      "  6.56797014]                                                              12.78917271]\n"
     ]
    },
    {
     "name": "stderr",
     "output_type": "stream",
     "text": [
      "d:\\Documents\\GitHub\\chemtools\\venv\\Lib\\site-packages\\tabulate\\__init__.py:107: FutureWarning: elementwise comparison failed; returning scalar instead, but in the future will perform elementwise comparison\n",
      "  (len(row) >= 1 and row[0] == SEPARATING_LINE)\n",
      "d:\\Documents\\GitHub\\chemtools\\venv\\Lib\\site-packages\\tabulate\\__init__.py:108: FutureWarning: elementwise comparison failed; returning scalar instead, but in the future will perform elementwise comparison\n",
      "  or (len(row) >= 2 and row[1] == SEPARATING_LINE)\n"
     ]
    }
   ],
   "source": [
    "ols.summary()"
   ]
  },
  {
   "cell_type": "markdown",
   "metadata": {},
   "source": [
    "# Test ordinary_least_squares"
   ]
  },
  {
   "cell_type": "code",
   "execution_count": null,
   "metadata": {},
   "outputs": [],
   "source": [
    "import numpy as np\n",
    "import pandas as pd\n",
    "from chemtools.regression import ordinary_least_squares as ols"
   ]
  },
  {
   "cell_type": "code",
   "execution_count": 8,
   "metadata": {},
   "outputs": [],
   "source": [
    "x=np.array([0,1,2,3,4,5,6])\n",
    "y=np.array([0,2,3,5,6,8,10])"
   ]
  },
  {
   "cell_type": "code",
   "execution_count": 3,
   "metadata": {},
   "outputs": [
    {
     "name": "stdout",
     "output_type": "stream",
     "text": [
      "807 µs ± 89.1 µs per loop (mean ± std. dev. of 7 runs, 1,000 loops each)\n"
     ]
    }
   ],
   "source": [
    "%timeit ols(x,y)"
   ]
  },
  {
   "cell_type": "code",
   "execution_count": 13,
   "metadata": {},
   "outputs": [],
   "source": [
    "ols=ols(x,y)\n"
   ]
  },
  {
   "cell_type": "code",
   "execution_count": 5,
   "metadata": {},
   "outputs": [
    {
     "data": {
      "text/plain": [
       "array([ 3.14631557,  4.55762297,  6.04067582,  7.60521043,  9.25496153,\n",
       "       10.9861944 , 12.78917271])"
      ]
     },
     "execution_count": 5,
     "metadata": {},
     "output_type": "execute_result"
    }
   ],
   "source": [
    "ols.x\n",
    "ols.y\n",
    "ols.objects_number\n",
    "ols.object_order\n",
    "ols.x_mean\n",
    "ols.y_mean\n",
    "ols.SSxx\n",
    "ols.SSyy\n",
    "ols.SSxy\n",
    "ols.S2x\n",
    "ols.S2y\n",
    "ols.slope\n",
    "ols.intercept\n",
    "ols.x_new\n",
    "ols.y_pred\n",
    "ols.y_pred_orig\n",
    "ols.sd_yx\n",
    "ols.sd_slope\n",
    "ols.sd_intercept\n",
    "ols.SSres\n",
    "ols.SStot\n",
    "ols.SSexp\n",
    "ols.se\n",
    "ols.se2\n",
    "ols.Sslope2\n",
    "ols.Sintercept2\n",
    "ols.t_one\n",
    "ols.t_two\n",
    "ols.residual\n",
    "ols.rse\n",
    "ols.mse\n",
    "ols.rmse\n",
    "ols.R2\n",
    "ols.r2\n",
    "ols.adjusted_r_squared\n",
    "ols.CI_Y_lower\n",
    "ols.CI_Y_upper\n",
    "ols.PI_Y_lower\n",
    "ols.PI_Y_upper"
   ]
  },
  {
   "cell_type": "code",
   "execution_count": 8,
   "metadata": {},
   "outputs": [
    {
     "data": {
      "text/plain": [
       "1.222"
      ]
     },
     "execution_count": 8,
     "metadata": {},
     "output_type": "execute_result"
    }
   ],
   "source": [
    "ols.predict(y=2,decimal=3)"
   ]
  },
  {
   "cell_type": "code",
   "execution_count": 4,
   "metadata": {},
   "outputs": [
    {
     "data": {
      "image/png": "[encoded data removed]",
      "text/plain": [
       "<Figure size 640x480 with 1 Axes>"
      ]
     },
     "metadata": {},
     "output_type": "display_data"
    }
   ],
   "source": [
    "ols.regression_plot()"
   ]
  },
  {
   "cell_type": "code",
   "execution_count": 14,
   "metadata": {},
   "outputs": [],
   "source": [
    "data={\"X\":ols.x,\n",
    "      \"Y\":ols.y,\n",
    "      \"y predicted\": ols.y_pred_orig,\n",
    "      \"Residual (Y-y)\": ols.residual}\n",
    "data=pd.DataFrame(data)"
   ]
  },
  {
   "cell_type": "code",
   "execution_count": null,
   "metadata": {},
   "outputs": [],
   "source": [
    "ols.summary()"
   ]
  },
  {
   "cell_type": "code",
   "execution_count": 15,
   "metadata": {},
   "outputs": [
    {
     "data": {
      "text/html": [
       "<div>\n",
       "<style scoped>\n",
       "    .dataframe tbody tr th:only-of-type {\n",
       "        vertical-align: middle;\n",
       "    }\n",
       "\n",
       "    .dataframe tbody tr th {\n",
       "        vertical-align: top;\n",
       "    }\n",
       "\n",
       "    .dataframe thead th {\n",
       "        text-align: right;\n",
       "    }\n",
       "</style>\n",
       "<table border=\"1\" class=\"dataframe\">\n",
       "  <thead>\n",
       "    <tr style=\"text-align: right;\">\n",
       "      <th></th>\n",
       "      <th>X</th>\n",
       "      <th>Y</th>\n",
       "      <th>y predicted</th>\n",
       "      <th>Residual (Y-y)</th>\n",
       "    </tr>\n",
       "  </thead>\n",
       "  <tbody>\n",
       "    <tr>\n",
       "      <th>0</th>\n",
       "      <td>0</td>\n",
       "      <td>0</td>\n",
       "      <td>0.035714</td>\n",
       "      <td>-0.035714</td>\n",
       "    </tr>\n",
       "    <tr>\n",
       "      <th>1</th>\n",
       "      <td>1</td>\n",
       "      <td>2</td>\n",
       "      <td>1.642857</td>\n",
       "      <td>0.357143</td>\n",
       "    </tr>\n",
       "    <tr>\n",
       "      <th>2</th>\n",
       "      <td>2</td>\n",
       "      <td>3</td>\n",
       "      <td>3.250000</td>\n",
       "      <td>-0.250000</td>\n",
       "    </tr>\n",
       "    <tr>\n",
       "      <th>3</th>\n",
       "      <td>3</td>\n",
       "      <td>5</td>\n",
       "      <td>4.857143</td>\n",
       "      <td>0.142857</td>\n",
       "    </tr>\n",
       "    <tr>\n",
       "      <th>4</th>\n",
       "      <td>4</td>\n",
       "      <td>6</td>\n",
       "      <td>6.464286</td>\n",
       "      <td>-0.464286</td>\n",
       "    </tr>\n",
       "    <tr>\n",
       "      <th>5</th>\n",
       "      <td>5</td>\n",
       "      <td>8</td>\n",
       "      <td>8.071429</td>\n",
       "      <td>-0.071429</td>\n",
       "    </tr>\n",
       "    <tr>\n",
       "      <th>6</th>\n",
       "      <td>6</td>\n",
       "      <td>10</td>\n",
       "      <td>9.678571</td>\n",
       "      <td>0.321429</td>\n",
       "    </tr>\n",
       "  </tbody>\n",
       "</table>\n",
       "</div>"
      ],
      "text/plain": [
       "   X   Y  y predicted  Residual (Y-y)\n",
       "0  0   0     0.035714       -0.035714\n",
       "1  1   2     1.642857        0.357143\n",
       "2  2   3     3.250000       -0.250000\n",
       "3  3   5     4.857143        0.142857\n",
       "4  4   6     6.464286       -0.464286\n",
       "5  5   8     8.071429       -0.071429\n",
       "6  6  10     9.678571        0.321429"
      ]
     },
     "execution_count": 15,
     "metadata": {},
     "output_type": "execute_result"
    }
   ],
   "source": [
    "data"
   ]
  },
  {
   "cell_type": "code",
   "execution_count": 24,
   "metadata": {},
   "outputs": [],
   "source": [
    "save_model(data,name=\"ols\")"
   ]
  },
  {
   "cell_type": "code",
   "execution_count": 28,
   "metadata": {},
   "outputs": [
    {
     "data": {
      "text/html": [
       "<div>\n",
       "<style scoped>\n",
       "    .dataframe tbody tr th:only-of-type {\n",
       "        vertical-align: middle;\n",
       "    }\n",
       "\n",
       "    .dataframe tbody tr th {\n",
       "        vertical-align: top;\n",
       "    }\n",
       "\n",
       "    .dataframe thead th {\n",
       "        text-align: right;\n",
       "    }\n",
       "</style>\n",
       "<table border=\"1\" class=\"dataframe\">\n",
       "  <thead>\n",
       "    <tr style=\"text-align: right;\">\n",
       "      <th></th>\n",
       "      <th>X</th>\n",
       "      <th>Y</th>\n",
       "      <th>y predicted</th>\n",
       "      <th>Residual (Y-y)</th>\n",
       "    </tr>\n",
       "  </thead>\n",
       "  <tbody>\n",
       "    <tr>\n",
       "      <th>0</th>\n",
       "      <td>0</td>\n",
       "      <td>0</td>\n",
       "      <td>0.035714</td>\n",
       "      <td>-0.035714</td>\n",
       "    </tr>\n",
       "    <tr>\n",
       "      <th>1</th>\n",
       "      <td>1</td>\n",
       "      <td>2</td>\n",
       "      <td>1.642857</td>\n",
       "      <td>0.357143</td>\n",
       "    </tr>\n",
       "    <tr>\n",
       "      <th>2</th>\n",
       "      <td>2</td>\n",
       "      <td>3</td>\n",
       "      <td>3.250000</td>\n",
       "      <td>-0.250000</td>\n",
       "    </tr>\n",
       "    <tr>\n",
       "      <th>3</th>\n",
       "      <td>3</td>\n",
       "      <td>5</td>\n",
       "      <td>4.857143</td>\n",
       "      <td>0.142857</td>\n",
       "    </tr>\n",
       "    <tr>\n",
       "      <th>4</th>\n",
       "      <td>4</td>\n",
       "      <td>6</td>\n",
       "      <td>6.464286</td>\n",
       "      <td>-0.464286</td>\n",
       "    </tr>\n",
       "    <tr>\n",
       "      <th>5</th>\n",
       "      <td>5</td>\n",
       "      <td>8</td>\n",
       "      <td>8.071429</td>\n",
       "      <td>-0.071429</td>\n",
       "    </tr>\n",
       "    <tr>\n",
       "      <th>6</th>\n",
       "      <td>6</td>\n",
       "      <td>10</td>\n",
       "      <td>9.678571</td>\n",
       "      <td>0.321429</td>\n",
       "    </tr>\n",
       "  </tbody>\n",
       "</table>\n",
       "</div>"
      ],
      "text/plain": [
       "   X   Y  y predicted  Residual (Y-y)\n",
       "0  0   0     0.035714       -0.035714\n",
       "1  1   2     1.642857        0.357143\n",
       "2  2   3     3.250000       -0.250000\n",
       "3  3   5     4.857143        0.142857\n",
       "4  4   6     6.464286       -0.464286\n",
       "5  5   8     8.071429       -0.071429\n",
       "6  6  10     9.678571        0.321429"
      ]
     },
     "execution_count": 28,
     "metadata": {},
     "output_type": "execute_result"
    }
   ],
   "source": [
    "load_model(name=\"ols.jlib\")"
   ]
  },
  {
   "cell_type": "markdown",
   "metadata": {},
   "source": [
    "# Test PCA"
   ]
  },
  {
   "cell_type": "markdown",
   "metadata": {},
   "source": [
    "https://www.pythonmorsels.com/making-auto-updating-attribute/"
   ]
  },
  {
   "cell_type": "code",
   "execution_count": 2,
   "metadata": {},
   "outputs": [],
   "source": [
    "import numpy as np\n",
    "import pandas as pd\n",
    "import ipywidgets as widgets\n",
    "from chemtools.exploration import principal_component_analysis as pca"
   ]
  },
  {
   "cell_type": "code",
   "execution_count": 3,
   "metadata": {},
   "outputs": [
    {
     "data": {
      "application/vnd.jupyter.widget-view+json": {
       "model_id": "ac9009329c0440f2abe75fa81ed542b8",
       "version_major": 2,
       "version_minor": 0
      },
      "text/plain": [
       "Dropdown(description='Data sheet:', options=('MATRICE DEI DATI',), value='MATRICE DEI DATI')"
      ]
     },
     "metadata": {},
     "output_type": "display_data"
    }
   ],
   "source": [
    "f = \"icp.xlsx\"\n",
    "data = pd.ExcelFile(f)\n",
    "\n",
    "shet = widgets.Dropdown(\n",
    "    options=data.sheet_names,\n",
    "    description='Data sheet:',\n",
    "    disabled=False,\n",
    ")\n",
    "display(shet)\n"
   ]
  },
  {
   "cell_type": "code",
   "execution_count": 4,
   "metadata": {},
   "outputs": [
    {
     "data": {
      "text/html": [
       "<div>\n",
       "<style scoped>\n",
       "    .dataframe tbody tr th:only-of-type {\n",
       "        vertical-align: middle;\n",
       "    }\n",
       "\n",
       "    .dataframe tbody tr th {\n",
       "        vertical-align: top;\n",
       "    }\n",
       "\n",
       "    .dataframe thead th {\n",
       "        text-align: right;\n",
       "    }\n",
       "</style>\n",
       "<table border=\"1\" class=\"dataframe\">\n",
       "  <thead>\n",
       "    <tr style=\"text-align: right;\">\n",
       "      <th></th>\n",
       "      <th>CAMPIONI</th>\n",
       "      <th>Cr</th>\n",
       "      <th>Cu</th>\n",
       "      <th>Mo</th>\n",
       "      <th>Mn</th>\n",
       "      <th>Ni</th>\n",
       "      <th>Pb</th>\n",
       "      <th>V</th>\n",
       "    </tr>\n",
       "  </thead>\n",
       "  <tbody>\n",
       "    <tr>\n",
       "      <th>0</th>\n",
       "      <td>graffetta</td>\n",
       "      <td>0.012097</td>\n",
       "      <td>0.012704</td>\n",
       "      <td>0.002444</td>\n",
       "      <td>0.208169</td>\n",
       "      <td>0.017511</td>\n",
       "      <td>0.002835</td>\n",
       "      <td>0.000049</td>\n",
       "    </tr>\n",
       "    <tr>\n",
       "      <th>1</th>\n",
       "      <td>orologio</td>\n",
       "      <td>0.034978</td>\n",
       "      <td>0.172011</td>\n",
       "      <td>0.010050</td>\n",
       "      <td>0.529800</td>\n",
       "      <td>0.069733</td>\n",
       "      <td>0.005294</td>\n",
       "      <td>0.001963</td>\n",
       "    </tr>\n",
       "    <tr>\n",
       "      <th>2</th>\n",
       "      <td>filo</td>\n",
       "      <td>13.853548</td>\n",
       "      <td>0.256657</td>\n",
       "      <td>1.849671</td>\n",
       "      <td>1.210907</td>\n",
       "      <td>5.640097</td>\n",
       "      <td>0.002278</td>\n",
       "      <td>0.043808</td>\n",
       "    </tr>\n",
       "    <tr>\n",
       "      <th>3</th>\n",
       "      <td>taglierino</td>\n",
       "      <td>0.048148</td>\n",
       "      <td>0.048881</td>\n",
       "      <td>0.008404</td>\n",
       "      <td>0.643808</td>\n",
       "      <td>0.048588</td>\n",
       "      <td>0.003300</td>\n",
       "      <td>0.064381</td>\n",
       "    </tr>\n",
       "    <tr>\n",
       "      <th>4</th>\n",
       "      <td>fascetta</td>\n",
       "      <td>0.306884</td>\n",
       "      <td>0.005591</td>\n",
       "      <td>0.003174</td>\n",
       "      <td>0.241652</td>\n",
       "      <td>0.018525</td>\n",
       "      <td>0.003074</td>\n",
       "      <td>0.003807</td>\n",
       "    </tr>\n",
       "    <tr>\n",
       "      <th>5</th>\n",
       "      <td>foglio</td>\n",
       "      <td>13.250971</td>\n",
       "      <td>0.060986</td>\n",
       "      <td>0.012153</td>\n",
       "      <td>0.419739</td>\n",
       "      <td>0.105570</td>\n",
       "      <td>0.002260</td>\n",
       "      <td>0.094532</td>\n",
       "    </tr>\n",
       "    <tr>\n",
       "      <th>6</th>\n",
       "      <td>siringa</td>\n",
       "      <td>15.549177</td>\n",
       "      <td>0.250666</td>\n",
       "      <td>0.368831</td>\n",
       "      <td>1.734079</td>\n",
       "      <td>7.103451</td>\n",
       "      <td>0.001649</td>\n",
       "      <td>0.052999</td>\n",
       "    </tr>\n",
       "    <tr>\n",
       "      <th>7</th>\n",
       "      <td>spillo</td>\n",
       "      <td>0.031947</td>\n",
       "      <td>0.024526</td>\n",
       "      <td>0.007279</td>\n",
       "      <td>0.550200</td>\n",
       "      <td>2.020916</td>\n",
       "      <td>0.004162</td>\n",
       "      <td>0.001548</td>\n",
       "    </tr>\n",
       "    <tr>\n",
       "      <th>8</th>\n",
       "      <td>filo_2</td>\n",
       "      <td>0.047820</td>\n",
       "      <td>0.049092</td>\n",
       "      <td>0.008041</td>\n",
       "      <td>0.108227</td>\n",
       "      <td>0.049431</td>\n",
       "      <td>0.003818</td>\n",
       "      <td>0.047703</td>\n",
       "    </tr>\n",
       "    <tr>\n",
       "      <th>9</th>\n",
       "      <td>lama</td>\n",
       "      <td>9.996651</td>\n",
       "      <td>0.012189</td>\n",
       "      <td>0.022664</td>\n",
       "      <td>0.702806</td>\n",
       "      <td>0.084975</td>\n",
       "      <td>0.003147</td>\n",
       "      <td>0.026613</td>\n",
       "    </tr>\n",
       "    <tr>\n",
       "      <th>10</th>\n",
       "      <td>penna</td>\n",
       "      <td>0.206072</td>\n",
       "      <td>0.017137</td>\n",
       "      <td>0.002721</td>\n",
       "      <td>0.285841</td>\n",
       "      <td>0.600677</td>\n",
       "      <td>0.005588</td>\n",
       "      <td>0.002039</td>\n",
       "    </tr>\n",
       "    <tr>\n",
       "      <th>11</th>\n",
       "      <td>trucioli</td>\n",
       "      <td>0.114131</td>\n",
       "      <td>0.127671</td>\n",
       "      <td>0.022456</td>\n",
       "      <td>1.032333</td>\n",
       "      <td>0.071577</td>\n",
       "      <td>0.188105</td>\n",
       "      <td>0.002196</td>\n",
       "    </tr>\n",
       "  </tbody>\n",
       "</table>\n",
       "</div>"
      ],
      "text/plain": [
       "      CAMPIONI         Cr        Cu        Mo        Mn        Ni        Pb  \\\n",
       "0    graffetta   0.012097  0.012704  0.002444  0.208169  0.017511  0.002835   \n",
       "1     orologio   0.034978  0.172011  0.010050  0.529800  0.069733  0.005294   \n",
       "2         filo  13.853548  0.256657  1.849671  1.210907  5.640097  0.002278   \n",
       "3   taglierino   0.048148  0.048881  0.008404  0.643808  0.048588  0.003300   \n",
       "4     fascetta   0.306884  0.005591  0.003174  0.241652  0.018525  0.003074   \n",
       "5       foglio  13.250971  0.060986  0.012153  0.419739  0.105570  0.002260   \n",
       "6      siringa  15.549177  0.250666  0.368831  1.734079  7.103451  0.001649   \n",
       "7       spillo   0.031947  0.024526  0.007279  0.550200  2.020916  0.004162   \n",
       "8       filo_2   0.047820  0.049092  0.008041  0.108227  0.049431  0.003818   \n",
       "9         lama   9.996651  0.012189  0.022664  0.702806  0.084975  0.003147   \n",
       "10      penna    0.206072  0.017137  0.002721  0.285841  0.600677  0.005588   \n",
       "11    trucioli   0.114131  0.127671  0.022456  1.032333  0.071577  0.188105   \n",
       "\n",
       "           V  \n",
       "0   0.000049  \n",
       "1   0.001963  \n",
       "2   0.043808  \n",
       "3   0.064381  \n",
       "4   0.003807  \n",
       "5   0.094532  \n",
       "6   0.052999  \n",
       "7   0.001548  \n",
       "8   0.047703  \n",
       "9   0.026613  \n",
       "10  0.002039  \n",
       "11  0.002196  "
      ]
     },
     "execution_count": 4,
     "metadata": {},
     "output_type": "execute_result"
    }
   ],
   "source": [
    "df = pd.read_excel(f, sheet_name=shet.value)\n",
    "df\n"
   ]
  },
  {
   "cell_type": "code",
   "execution_count": 5,
   "metadata": {},
   "outputs": [],
   "source": [
    "pca=pca(df, variable_name_column=[1,7], sample_name_row=[\"CAMPIONI\"])"
   ]
  },
  {
   "cell_type": "code",
   "execution_count": 6,
   "metadata": {},
   "outputs": [
    {
     "data": {
      "text/plain": [
       "2"
      ]
     },
     "execution_count": 6,
     "metadata": {},
     "output_type": "execute_result"
    }
   ],
   "source": [
    "np.argmax(pca.PC_index[2, :] < pca.PC_index[2, :].mean())"
   ]
  },
  {
   "cell_type": "code",
   "execution_count": 7,
   "metadata": {},
   "outputs": [
    {
     "data": {
      "image/png": "[encoded data removed]",
      "text/plain": [
       "<Figure size 600x500 with 1 Axes>"
      ]
     },
     "metadata": {},
     "output_type": "display_data"
    }
   ],
   "source": [
    "pca.eigenvalues_plot()\n"
   ]
  },
  {
   "cell_type": "markdown",
   "metadata": {},
   "source": [
    "## Altri parametri PCA per numero minimo di PC"
   ]
  },
  {
   "cell_type": "code",
   "execution_count": 8,
   "metadata": {},
   "outputs": [],
   "source": [
    "from chemtools.preprocessing import matrix_variance"
   ]
  },
  {
   "cell_type": "code",
   "execution_count": 9,
   "metadata": {},
   "outputs": [
    {
     "name": "stdout",
     "output_type": "stream",
     "text": [
      "6.000000000000001\n",
      "[0.62261273 0.20125269 0.082616   0.05619659 0.0088393  0.02848269]\n",
      "1.0000000000000002\n",
      "0.9810641755348972\n",
      "1.6666666666666667\n",
      "0.5886385053209383\n",
      "\n",
      "\n"
     ]
    },
    {
     "ename": "NameError",
     "evalue": "name 'p' is not defined",
     "output_type": "error",
     "traceback": [
      "\u001b[1;31m---------------------------------------------------------------------------\u001b[0m",
      "\u001b[1;31mNameError\u001b[0m                                 Traceback (most recent call last)",
      "Cell \u001b[1;32mIn [9], line 14\u001b[0m\n\u001b[0;32m     12\u001b[0m \u001b[39mprint\u001b[39m(K)\n\u001b[0;32m     13\u001b[0m \u001b[39mprint\u001b[39m(\u001b[39m\"\u001b[39m\u001b[39m\\n\u001b[39;00m\u001b[39m\"\u001b[39m)\n\u001b[1;32m---> 14\u001b[0m KLtmp \u001b[39m=\u001b[39m (\u001b[39m1\u001b[39m \u001b[39m+\u001b[39m (p\u001b[39m-\u001b[39m\u001b[39m1\u001b[39m)\u001b[39m*\u001b[39m(\u001b[39m1\u001b[39m\u001b[39m-\u001b[39mK))\n\u001b[0;32m     15\u001b[0m \u001b[39mprint\u001b[39m(KLtmp)\n\u001b[0;32m     16\u001b[0m KL \u001b[39m=\u001b[39m \u001b[39mround\u001b[39m(KLtmp)\n",
      "\u001b[1;31mNameError\u001b[0m: name 'p' is not defined"
     ]
    }
   ],
   "source": [
    "sum_eig=pca.V.sum()\n",
    "print(sum_eig)\n",
    "exp_var=pca.V/sum_eig\n",
    "print(exp_var)\n",
    "mean_eig=pca.V.mean()\n",
    "print(mean_eig)\n",
    "num = sum(abs(exp_var - (mean_eig/sum_eig)))\n",
    "print(num)\n",
    "den = den = 2*(sum_eig - mean_eig)/sum_eig\n",
    "print(den)\n",
    "K=(num/den)\n",
    "print(K)\n",
    "print(\"\\n\")\n",
    "KLtmp = (1 + (p-1)*(1-K))\n",
    "print(KLtmp)\n",
    "KL = round(KLtmp)\n",
    "print(KL)\n",
    "KPtmp = pca.V.size ** (1-K)\n",
    "KP = round(KPtmp)\n",
    "print(KP)\n"
   ]
  },
  {
   "cell_type": "code",
   "execution_count": 44,
   "metadata": {},
   "outputs": [
    {
     "data": {
      "text/plain": [
       "array([[ 0.16666667,  0.09464552,  0.09326822,  0.1091773 ,  0.11401943,\n",
       "        -0.03739764],\n",
       "       [ 0.09464552,  0.16666667,  0.1147372 ,  0.13650438,  0.13038941,\n",
       "         0.02203795],\n",
       "       [ 0.09326822,  0.1147372 ,  0.16666667,  0.08721288,  0.11663185,\n",
       "        -0.01829091],\n",
       "       [ 0.1091773 ,  0.13650438,  0.08721288,  0.16666667,  0.13727747,\n",
       "         0.04135398],\n",
       "       [ 0.11401943,  0.13038941,  0.11663185,  0.13727747,  0.16666667,\n",
       "        -0.02860526],\n",
       "       [-0.03739764,  0.02203795, -0.01829091,  0.04135398, -0.02860526,\n",
       "         0.16666667]])"
      ]
     },
     "execution_count": 44,
     "metadata": {},
     "output_type": "execute_result"
    }
   ],
   "source": [
    "variance_m=matrix_variance(pca.x)\n",
    "variance_m"
   ]
  },
  {
   "cell_type": "code",
   "execution_count": 7,
   "metadata": {},
   "outputs": [],
   "source": [
    "eigenvalue=pca.V\n",
    "p = pca.V.size\n",
    "x=pca.correlation_matrix\n",
    "j= pca.V.size"
   ]
  },
  {
   "cell_type": "code",
   "execution_count": 45,
   "metadata": {},
   "outputs": [
    {
     "data": {
      "text/plain": [
       "6"
      ]
     },
     "execution_count": 45,
     "metadata": {},
     "output_type": "execute_result"
    }
   ],
   "source": [
    "n = np.linalg.matrix_rank(variance_m)\n",
    "n"
   ]
  },
  {
   "cell_type": "code",
   "execution_count": 19,
   "metadata": {},
   "outputs": [
    {
     "name": "stdout",
     "output_type": "stream",
     "text": [
      "0.6226127318753932\n",
      "0.2012526892253887\n",
      "0.08261600480836999\n",
      "0.056196586573329606\n",
      "0.008839298279617408\n",
      "0.028482689237901124\n"
     ]
    },
    {
     "data": {
      "text/plain": [
       "array([0.62261273, 0.20125269, 0.082616  , 0.05619659, 0.0088393 ,\n",
       "       0.02848269])"
      ]
     },
     "execution_count": 19,
     "metadata": {},
     "output_type": "execute_result"
    }
   ],
   "source": [
    "EV=[]\n",
    "for i in range(pca.V.size):\n",
    "    EV = np.append(EV,eigenvalue[i]/(eigenvalue.sum()))\n",
    "EV\n"
   ]
  },
  {
   "cell_type": "code",
   "execution_count": 39,
   "metadata": {},
   "outputs": [
    {
     "data": {
      "text/plain": [
       "1.1102230246251565e-16"
      ]
     },
     "execution_count": 39,
     "metadata": {},
     "output_type": "execute_result"
    }
   ],
   "source": [
    "(EV-(1/(pca.V.size))).sum() #numeratore\n"
   ]
  },
  {
   "cell_type": "code",
   "execution_count": 32,
   "metadata": {},
   "outputs": [
    {
     "data": {
      "text/plain": [
       "1.6666666666666667"
      ]
     },
     "execution_count": 32,
     "metadata": {},
     "output_type": "execute_result"
    }
   ],
   "source": [
    "2*(pca.V.size-1)/pca.V.size #denominatore\n"
   ]
  },
  {
   "cell_type": "code",
   "execution_count": 35,
   "metadata": {},
   "outputs": [
    {
     "data": {
      "text/plain": [
       "6.661338147750939e-17"
      ]
     },
     "execution_count": 35,
     "metadata": {},
     "output_type": "execute_result"
    }
   ],
   "source": [
    "K=(EV-1/(pca.V.size)).sum()/(2*(pca.V.size-1)/pca.V.size)\n",
    "k\n"
   ]
  },
  {
   "cell_type": "code",
   "execution_count": 51,
   "metadata": {},
   "outputs": [
    {
     "data": {
      "text/plain": [
       "6"
      ]
     },
     "execution_count": 51,
     "metadata": {},
     "output_type": "execute_result"
    }
   ],
   "source": [
    "round(1+(j-1)*(1-k))\n"
   ]
  },
  {
   "cell_type": "code",
   "execution_count": 52,
   "metadata": {},
   "outputs": [
    {
     "data": {
      "text/plain": [
       "1.1102230246251565e-16"
      ]
     },
     "execution_count": 52,
     "metadata": {},
     "output_type": "execute_result"
    }
   ],
   "source": [
    "a = sum(eigenvalue[m]/eigenvalue.sum()-1/p for m in range(n))\n",
    "a"
   ]
  },
  {
   "cell_type": "code",
   "execution_count": 53,
   "metadata": {},
   "outputs": [
    {
     "data": {
      "text/plain": [
       "6.661338147750939e-17"
      ]
     },
     "execution_count": 53,
     "metadata": {},
     "output_type": "execute_result"
    }
   ],
   "source": [
    "k=(a+(p-n)**(1/p))/(2*(p-1)/p)\n",
    "k"
   ]
  },
  {
   "cell_type": "code",
   "execution_count": 54,
   "metadata": {},
   "outputs": [
    {
     "data": {
      "text/plain": [
       "6"
      ]
     },
     "execution_count": 54,
     "metadata": {},
     "output_type": "execute_result"
    }
   ],
   "source": [
    "kl=round(1+(j-1)*(1-k))\n",
    "kl"
   ]
  },
  {
   "cell_type": "code",
   "execution_count": 55,
   "metadata": {},
   "outputs": [
    {
     "data": {
      "text/plain": [
       "6"
      ]
     },
     "execution_count": 55,
     "metadata": {},
     "output_type": "execute_result"
    }
   ],
   "source": [
    "kp=round(j**(1-k))\n",
    "kp"
   ]
  },
  {
   "cell_type": "markdown",
   "metadata": {},
   "source": [
    "https://www.sciencedirect.com/science/article/pii/S0169743998001245\n",
    "https://www.academia.edu/6648469/The_K_correlation_index_theory_development_and_its_application_in_chemometrics\n",
    "https://www.youtube.com/watch?v=JtrPvAdVJiM&ab_channel=Mattoscacco"
   ]
  },
  {
   "cell_type": "markdown",
   "metadata": {},
   "source": [
    "# Preparazione retta di taratura"
   ]
  },
  {
   "cell_type": "code",
   "execution_count": 1,
   "metadata": {},
   "outputs": [],
   "source": [
    "from chemtools.utility import make_standards"
   ]
  },
  {
   "cell_type": "code",
   "execution_count": 2,
   "metadata": {},
   "outputs": [
    {
     "data": {
      "text/plain": [
       "array([0.1, 0.5, 1. , 1.4, 1.9, 2.3, 2.8, 3.2, 3.7, 4.1, 4.6, 5. ])"
      ]
     },
     "execution_count": 2,
     "metadata": {},
     "output_type": "execute_result"
    }
   ],
   "source": [
    "make_standards(0.1,5,n_standard=12,decimal=1)"
   ]
  },
  {
   "cell_type": "markdown",
   "metadata": {},
   "source": [
    "To compensate for possible slight losses of chromium during digestion or other operations of the analysis, treat the chromium standards by the same procedure as the sample. Accordingly, pipet a chromium standard solution in measured volumes into 250-mL beakers or conical flasks to generate standard concentrations ranging from 0.5 to 5 mg/L Cr(VI) when diluted to the appropriate volume.\n",
    "\n",
    "\n",
    "\n",
    "or 10 to 100 micrograms of Cr(VI)\n"
   ]
  },
  {
   "cell_type": "markdown",
   "metadata": {},
   "source": [
    "# Test Joblib per salvare i modelli ottenuti e non dover ricalcolare tutto da zero ogni volta"
   ]
  },
  {
   "cell_type": "code",
   "execution_count": 4,
   "metadata": {},
   "outputs": [
    {
     "ename": "NameError",
     "evalue": "name 'Pipeline' is not defined",
     "output_type": "error",
     "traceback": [
      "\u001b[1;31m---------------------------------------------------------------------------\u001b[0m",
      "\u001b[1;31mNameError\u001b[0m                                 Traceback (most recent call last)",
      "Cell \u001b[1;32mIn [4], line 3\u001b[0m\n\u001b[0;32m      1\u001b[0m \u001b[39mimport\u001b[39;00m \u001b[39mjoblib\u001b[39;00m\n\u001b[1;32m----> 3\u001b[0m \u001b[39mdef\u001b[39;00m \u001b[39msave_pipeline\u001b[39m(\u001b[39m*\u001b[39m, pipeline_to_persist: Pipeline) \u001b[39m-\u001b[39m\u001b[39m>\u001b[39m \u001b[39mNone\u001b[39;00m:\n\u001b[0;32m      4\u001b[0m     \u001b[39m\"\"\"Persist the pipeline.\u001b[39;00m\n\u001b[0;32m      5\u001b[0m \u001b[39m    Saves the versioned model, and overwrites any previous\u001b[39;00m\n\u001b[0;32m      6\u001b[0m \u001b[39m    saved models. This ensures that when the package is\u001b[39;00m\n\u001b[0;32m      7\u001b[0m \u001b[39m    published, there is only one trained model that can be\u001b[39;00m\n\u001b[0;32m      8\u001b[0m \u001b[39m    called, and we know exactly how it was built.\u001b[39;00m\n\u001b[0;32m      9\u001b[0m \u001b[39m    \"\"\"\u001b[39;00m\n\u001b[0;32m     11\u001b[0m     \u001b[39m# Prepare versioned save file name\u001b[39;00m\n",
      "\u001b[1;31mNameError\u001b[0m: name 'Pipeline' is not defined"
     ]
    }
   ],
   "source": [
    "import joblib\n",
    "\n",
    "def save_pipeline(*, pipeline_to_persist: Pipeline) -> None:\n",
    "    \"\"\"Persist the pipeline.\n",
    "    Saves the versioned model, and overwrites any previous\n",
    "    saved models. This ensures that when the package is\n",
    "    published, there is only one trained model that can be\n",
    "    called, and we know exactly how it was built.\n",
    "    \"\"\"\n",
    "\n",
    "    # Prepare versioned save file name\n",
    "    save_file_name = f\"{config.app_config.pipeline_save_file}{_version}.pkl\"\n",
    "    save_path = TRAINED_MODEL_DIR / save_file_name\n",
    "\n",
    "    remove_old_pipelines(files_to_keep=[save_file_name])\n",
    "    joblib.dump(pipeline_to_persist, save_path)"
   ]
  },
  {
   "cell_type": "code",
   "execution_count": 23,
   "metadata": {},
   "outputs": [],
   "source": [
    "def save_model(model, name, out_dir=\"\"):\n",
    "    # Save the model\n",
    "    if out_dir !=\"\":\n",
    "        out_dir=f\"{out_dir}/\"\n",
    "    joblib.dump(model , f'{out_dir}{name}.jlib')"
   ]
  },
  {
   "cell_type": "code",
   "execution_count": 27,
   "metadata": {},
   "outputs": [],
   "source": [
    "def load_model(name):\n",
    "    # Load the model \"name.jlib\"\n",
    "    return joblib.load(name)"
   ]
  },
  {
   "attachments": {},
   "cell_type": "markdown",
   "metadata": {},
   "source": [
    "# Area under scatter plot in python\n",
    "[link](https://stackoverflow.com/questions/54205300/area-under-scatter-plot-in-python)"
   ]
  },
  {
   "cell_type": "code",
   "execution_count": 6,
   "metadata": {},
   "outputs": [
    {
     "data": {
      "image/png": "[encoded data removed]",
      "text/plain": [
       "<Figure size 640x480 with 1 Axes>"
      ]
     },
     "metadata": {},
     "output_type": "display_data"
    },
    {
     "name": "stdout",
     "output_type": "stream",
     "text": [
      "-890.9999999999999\n"
     ]
    }
   ],
   "source": [
    "import matplotlib.pyplot as plt\n",
    "import numpy as np\n",
    "xs = np.array([-11,-10,-9,-8,-7,-6,-5,-4,-3,-2,-1,0,1,2,3,4,5,6,7,8,9,10,11])\n",
    "ys = xs**2\n",
    "sum = 0\n",
    "plt.plot(xs, ys, 'bo')\n",
    "plt.show()\n",
    "for i in range(1, len(xs)):\n",
    "    slope = (xs[i]-xs[i-1])/(ys[i] - ys[i-1])\n",
    "    delta_x = x_sort[i] - x_sort[i - 1]\n",
    "    delta_y =  ys[i - 1] + (ys[i-1] + delta_x * slope)\n",
    "    sum = sum + (delta_y/2 * delta_x)\n",
    "print(sum)"
   ]
  },
  {
   "attachments": {},
   "cell_type": "markdown",
   "metadata": {},
   "source": [
    "# Spettroscopia di massa"
   ]
  },
  {
   "cell_type": "code",
   "execution_count": 9,
   "metadata": {},
   "outputs": [],
   "source": [
    "import numpy as np"
   ]
  },
  {
   "attachments": {},
   "cell_type": "markdown",
   "metadata": {},
   "source": [
    "## identifico la massa dello ione in base alla modalità di analisi"
   ]
  },
  {
   "cell_type": "code",
   "execution_count": 31,
   "metadata": {},
   "outputs": [],
   "source": [
    "def ionization(ionization, ion_mass):\n",
    "\n",
    "    if ionization == \"EI\":\n",
    "        return ion_mass\n",
    "    elif ionization == \"CI\":\n",
    "        return ion_mass + 1\n",
    "    else:\n",
    "        print(\"ionization può essere solo \\\"EI\\\" o \\\"CI\\\"\")"
   ]
  },
  {
   "cell_type": "code",
   "execution_count": 32,
   "metadata": {},
   "outputs": [
    {
     "data": {
      "text/plain": [
       "4"
      ]
     },
     "execution_count": 32,
     "metadata": {},
     "output_type": "execute_result"
    }
   ],
   "source": [
    "ionization(\"CI\", 3)"
   ]
  },
  {
   "attachments": {},
   "cell_type": "markdown",
   "metadata": {},
   "source": [
    "## Picchi isotopici\n",
    "I picchi isotopici hanno una proporzione che segue il seguente schema:\n",
    "\n",
    "- **q** = numero di volte in cui l’elemento isotopico compare\n",
    "- **n** = numero specie isotopiche dell’elemento\n",
    "- **m** = abbondanza isotopica relativa\n",
    "- **h** = altezza relativa dei picchi isotopici\n",
    "\n",
    "**hpicchi = (m1 + m2 + ... + mn)q**\n",
    "\n",
    "Svolgendo l’elevamento del polinomio si ottengono dei polinomi del tipo (q=2, n=2 m1=3 (75%) e m2=1 (25%)) ⟶ $1a^2 + 2ab + 1b^2 = 9 + 6 + 1$\n",
    "\n",
    "I tre numeri sono l’altezza relativa dei picchi, solo dei picchi isotopici però, non confondere le altezze relative con altre altezze esempio picco base."
   ]
  },
  {
   "cell_type": "markdown",
   "metadata": {},
   "source": [
    "## Elementi possibili data una massa"
   ]
  },
  {
   "attachments": {},
   "cell_type": "markdown",
   "metadata": {},
   "source": [
    "- M ⟶ ione molecolare\n",
    "- M+1 ⟶ informazioni sulla composizione elementare. Dato uno ione $C_nH_m,\\;I_{(M + 1)}= n \\cdot 1.08_{contributo^{13}C}+ m \\cdot 0.012_{contributo^2H} $\n",
    "- M+2 ⟶ informazioni su [[O]], [[S]] e [[alogeni]]\n",
    "- M+4, M+6 ⟶ segnali dovuti a [[Br]] e [[Cl]].\n",
    "1. Per determinare il numero di **N** bisogna tener conto del valore m/z dello ione molecolare. Se una molecola contiene 2n+1 N, la massa nominale di M sarà dispari. 2n N, la massa nominale di M sarà pari (Regola dell’azoto). Questo nelle tecniche Hard, contrariamente, nelle tecniche Soft la regola si inverte e viene mostrata una massa pari con una quantità di 2n+1 N e una massa dispari con una quantità di 2n N.\n",
    "2. Per determinare il numero di atomi di **C** bisogna eseguire il calcolo: $n{^\\circ}C = \\frac{[M + 1](\\%)}{[M](\\%)}$\n",
    "3. Per determinare il numero di atomi che danno $M+2$ (**O** o **S**) devo fare: $n{^\\circ}O\\ o\\ S = \\frac{[M + 2](\\%)}{[M](\\%)}$, se il numero viene particolarmente alto, o $M+2$ è alto, si deve presumere la presenza di S, se sono molto alti entrambi, M e M+2, si ha la compresenza di zolfo e ossigeno.\n",
    "4. Per determinare **alogeni o altri atomi che hanno isotopi stabili** bisogna guardare l’abbondanza dei picchi a M+n"
   ]
  },
  {
   "cell_type": "code",
   "execution_count": 46,
   "metadata": {},
   "outputs": [],
   "source": [
    "\n",
    "def number_of_c(eight_of_M,eight_of_M1):\n",
    "    \"\"\"Per determinare il numero di atomi di **C**\n",
    "\n",
    "    Args:\n",
    "        eight_of_M (_type_): segnale del picco dello ione molecolare Corrisponde all'abbondanza 12C\n",
    "        eight_of_M1 (_type_): segnale del picco dello ione molecolare + 1, corrisponde all'abbondanza 13C\n",
    "    \"\"\"\n",
    "    return round(eight_of_M1/eight_of_M,2)*100-1"
   ]
  },
  {
   "cell_type": "code",
   "execution_count": 47,
   "metadata": {},
   "outputs": [
    {
     "data": {
      "text/plain": [
       "10.0"
      ]
     },
     "execution_count": 47,
     "metadata": {},
     "output_type": "execute_result"
    }
   ],
   "source": [
    "number_of_c(24,2.7)"
   ]
  },
  {
   "cell_type": "code",
   "execution_count": 51,
   "metadata": {},
   "outputs": [],
   "source": [
    "def if_thereis_N(M):\n",
    "    if M % 2 == 0:\n",
    "        return print(\"La molecola contiene 2n N\")\n",
    "    else:\n",
    "        return print(\"La molecola contiene 2n+1 N\")"
   ]
  },
  {
   "cell_type": "code",
   "execution_count": 52,
   "metadata": {},
   "outputs": [
    {
     "name": "stdout",
     "output_type": "stream",
     "text": [
      "La molecola contiene 2n N\n"
     ]
    }
   ],
   "source": [
    "if_thereis_N(100)"
   ]
  },
  {
   "attachments": {},
   "cell_type": "markdown",
   "metadata": {},
   "source": [
    "## Numeri di atomi che danno M+2"
   ]
  },
  {
   "cell_type": "code",
   "execution_count": 60,
   "metadata": {},
   "outputs": [],
   "source": [
    "def number_of_OS(eight_of_M,eight_of_M2):\n",
    "\n",
    "    return round(eight_of_M2/eight_of_M,2)*10"
   ]
  },
  {
   "cell_type": "code",
   "execution_count": 61,
   "metadata": {},
   "outputs": [
    {
     "data": {
      "text/plain": [
       "3.2"
      ]
     },
     "execution_count": 61,
     "metadata": {},
     "output_type": "execute_result"
    }
   ],
   "source": [
    "number_of_OS(4.7,1.5)"
   ]
  },
  {
   "attachments": {},
   "cell_type": "markdown",
   "metadata": {},
   "source": [
    "### Presenza di elementi con rapporti isotipici"
   ]
  },
  {
   "cell_type": "code",
   "execution_count": 63,
   "metadata": {},
   "outputs": [
    {
     "ename": "SyntaxError",
     "evalue": "incomplete input (801286913.py, line 3)",
     "output_type": "error",
     "traceback": [
      "\u001b[1;36m  Cell \u001b[1;32mIn [63], line 3\u001b[1;36m\u001b[0m\n\u001b[1;33m    \u001b[0m\n\u001b[1;37m    ^\u001b[0m\n\u001b[1;31mSyntaxError\u001b[0m\u001b[1;31m:\u001b[0m incomplete input\n"
     ]
    }
   ],
   "source": [
    "import sympy as sy\n",
    "def peack_hight_of_isotope(q,b,m,h):\n",
    "\n"
   ]
  },
  {
   "attachments": {},
   "cell_type": "markdown",
   "metadata": {},
   "source": [
    "# Dendrogramma"
   ]
  },
  {
   "cell_type": "code",
   "execution_count": 24,
   "metadata": {},
   "outputs": [],
   "source": [
    "import numpy as np\n",
    "import matplotlib.pyplot as plt\n",
    "from scipy.cluster.hierarchy import linkage, dendrogram\n",
    "\n",
    "class Dendrogram:\n",
    "\n",
    "    def __init__(self, data, linkage_method='ward'):\n",
    "        self.data = data\n",
    "        self.linkage_method = linkage_method\n",
    "        self.n, _ = data.shape\n",
    "        self.Z = linkage(self.data, linkage_method)\n",
    "\n",
    "    def plot(self):\n",
    "        plt.figure()\n",
    "        plt.title('Hierarchical Clustering Dendrogram')\n",
    "        plt.xlabel('sample index')\n",
    "        plt.ylabel('distance')\n",
    "        dendrogram(self.Z, leaf_rotation=90., leaf_font_size=8.)\n",
    "        plt.show()\n"
   ]
  },
  {
   "cell_type": "code",
   "execution_count": 25,
   "metadata": {},
   "outputs": [],
   "source": [
    "dendogramma=Dendrogram(matrix_data)"
   ]
  },
  {
   "cell_type": "code",
   "execution_count": 27,
   "metadata": {},
   "outputs": [
    {
     "data": {
      "image/png": "[encoded data removed]",
      "text/plain": [
       "<Figure size 640x480 with 1 Axes>"
      ]
     },
     "metadata": {},
     "output_type": "display_data"
    }
   ],
   "source": [
    "dendogramma.plot()"
   ]
  },
  {
   "cell_type": "code",
   "execution_count": 31,
   "metadata": {},
   "outputs": [],
   "source": [
    "import numpy as np\n",
    "import matplotlib.pyplot as plt\n",
    "\n",
    "class Dendrogram:\n",
    "    def __init__(self, data, linkage_method='single'):\n",
    "        self.data = data\n",
    "        self.linkage_method = linkage_method\n",
    "        self.linkage_matrix = self.linkage_matrix(self.data, self.linkage_method)\n",
    "\n",
    "    def linkage_matrix(self, data, linkage_method='single'):\n",
    "        \"\"\"\n",
    "        Calcola la matrice di linkage a partire dai dati e dal metodo di linkage scelto\n",
    "        \"\"\"\n",
    "        n, _ = data.shape\n",
    "        distances = np.zeros((n, n))\n",
    "        for i in range(n):\n",
    "            for j in range(i + 1, n):\n",
    "                distances[i, j] = euclidean_distance(data[i], data[j])\n",
    "                distances[j, i] = distances[i, j]\n",
    "        linkage_matrix = np.zeros((n - 1, 4))\n",
    "        current_cluster_id = n\n",
    "        for i in range(n - 1):\n",
    "            if linkage_method == 'single':\n",
    "                min_distance = np.min(distances)\n",
    "            elif linkage_method == 'complete':\n",
    "                min_distance = np.max(distances)\n",
    "            elif linkage_method == 'average':\n",
    "                min_distance = np.mean(distances)\n",
    "            else:  # linkage_method == 'ward'\n",
    "                min_distance = np.sum(distances)\n",
    "            x, y = np.unravel_index(np.argmin(distances), distances.shape)\n",
    "            linkage_matrix[i, :] = x, y, min_distance, current_cluster_id\n",
    "            current_cluster_id += 1\n",
    "            distances[x, :] = np.minimum(distances[x, :], distances[y, :])\n",
    "            distances[:, x] = distances[x, :]\n",
    "            distances[y, :] = np.inf\n",
    "            distances[:, y] = np.inf\n",
    "        return linkage_matrix\n",
    "\n",
    "    def plot(self):\n",
    "        \"\"\"\n",
    "        Disegna il dendrogramma utilizzando la matrice di linkage\n",
    "        \"\"\"\n",
    "        plt.figure()\n",
    "        plt.title('Hierarchical Clustering Dendrogram')\n",
    "        plt.xlabel('sample index')\n",
    "        plt.ylabel('distance')\n",
    "        dendrogram(self.linkage_matrix, leaf_rotation=90., leaf_font_size=8.)\n",
    "        plt.show()\n",
    "\n"
   ]
  },
  {
   "cell_type": "code",
   "execution_count": 32,
   "metadata": {},
   "outputs": [
    {
     "ename": "NameError",
     "evalue": "name 'euclidean_distance' is not defined",
     "output_type": "error",
     "traceback": [
      "\u001b[1;31m---------------------------------------------------------------------------\u001b[0m",
      "\u001b[1;31mNameError\u001b[0m                                 Traceback (most recent call last)",
      "Cell \u001b[1;32mIn [32], line 1\u001b[0m\n\u001b[1;32m----> 1\u001b[0m Dendrogram(matrix_data)\n",
      "Cell \u001b[1;32mIn [31], line 8\u001b[0m, in \u001b[0;36mDendrogram.__init__\u001b[1;34m(self, data, linkage_method)\u001b[0m\n\u001b[0;32m      6\u001b[0m \u001b[39mself\u001b[39m\u001b[39m.\u001b[39mdata \u001b[39m=\u001b[39m data\n\u001b[0;32m      7\u001b[0m \u001b[39mself\u001b[39m\u001b[39m.\u001b[39mlinkage_method \u001b[39m=\u001b[39m linkage_method\n\u001b[1;32m----> 8\u001b[0m \u001b[39mself\u001b[39m\u001b[39m.\u001b[39mlinkage_matrix \u001b[39m=\u001b[39m \u001b[39mself\u001b[39;49m\u001b[39m.\u001b[39;49mlinkage_matrix(\u001b[39mself\u001b[39;49m\u001b[39m.\u001b[39;49mdata, \u001b[39mself\u001b[39;49m\u001b[39m.\u001b[39;49mlinkage_method)\n",
      "Cell \u001b[1;32mIn [31], line 18\u001b[0m, in \u001b[0;36mDendrogram.linkage_matrix\u001b[1;34m(self, data, linkage_method)\u001b[0m\n\u001b[0;32m     16\u001b[0m \u001b[39mfor\u001b[39;00m i \u001b[39min\u001b[39;00m \u001b[39mrange\u001b[39m(n):\n\u001b[0;32m     17\u001b[0m     \u001b[39mfor\u001b[39;00m j \u001b[39min\u001b[39;00m \u001b[39mrange\u001b[39m(i \u001b[39m+\u001b[39m \u001b[39m1\u001b[39m, n):\n\u001b[1;32m---> 18\u001b[0m         distances[i, j] \u001b[39m=\u001b[39m euclidean_distance(data[i], data[j])\n\u001b[0;32m     19\u001b[0m         distances[j, i] \u001b[39m=\u001b[39m distances[i, j]\n\u001b[0;32m     20\u001b[0m linkage_matrix \u001b[39m=\u001b[39m np\u001b[39m.\u001b[39mzeros((n \u001b[39m-\u001b[39m \u001b[39m1\u001b[39m, \u001b[39m4\u001b[39m))\n",
      "\u001b[1;31mNameError\u001b[0m: name 'euclidean_distance' is not defined"
     ]
    }
   ],
   "source": [
    "Dendrogram(matrix_data)"
   ]
  },
  {
   "cell_type": "code",
   "execution_count": null,
   "metadata": {},
   "outputs": [],
   "source": [
    "§"
   ]
  }
 ],
 "metadata": {
  "kernelspec": {
   "display_name": "chemtools",
   "language": "python",
   "name": "python3"
  },
  "language_info": {
   "codemirror_mode": {
    "name": "ipython",
    "version": 3
   },
   "file_extension": ".py",
   "mimetype": "text/x-python",
   "name": "python",
   "nbconvert_exporter": "python",
   "pygments_lexer": "ipython3",
   "version": "3.11.0"
  },
  "orig_nbformat": 4,
  "vscode": {
   "interpreter": {
    "hash": "37ed4efeacbaf29a14f13f141ae0f4dbbc6c2c22eee5128682cfdaa13f0e7f21"
   }
  }
 },
 "nbformat": 4,
 "nbformat_minor": 2
}
