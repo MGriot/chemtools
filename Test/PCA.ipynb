{
 "cells": [
  {
   "attachments": {},
   "cell_type": "markdown",
   "metadata": {},
   "source": [
    "# PCA"
   ]
  },
  {
   "attachments": {},
   "cell_type": "markdown",
   "metadata": {},
   "source": [
    "# Old"
   ]
  },
  {
   "cell_type": "code",
   "execution_count": null,
   "metadata": {},
   "outputs": [],
   "source": []
  },
  {
   "cell_type": "markdown",
   "metadata": {},
   "source": [
    "https://www.pythonmorsels.com/making-auto-updating-attribute/"
   ]
  },
  {
   "cell_type": "code",
   "execution_count": null,
   "metadata": {},
   "outputs": [],
   "source": [
    "import numpy as np\n",
    "import pandas as pd\n",
    "import ipywidgets as widgets\n",
    "from chemtools.exploration import PrincipalComponentAnalysis as pca"
   ]
  },
  {
   "cell_type": "code",
   "execution_count": null,
   "metadata": {},
   "outputs": [
    {
     "data": {
      "application/vnd.jupyter.widget-view+json": {
       "model_id": "52cc99d33ab84cf784e2fc7a6f238177",
       "version_major": 2,
       "version_minor": 0
      },
      "text/plain": [
       "Dropdown(description='Data sheet:', options=('MATRICE DEI DATI',), value='MATRICE DEI DATI')"
      ]
     },
     "metadata": {},
     "output_type": "display_data"
    }
   ],
   "source": [
    "f = \"icp.xlsx\"\n",
    "data = pd.ExcelFile(f)\n",
    "\n",
    "shet = widgets.Dropdown(\n",
    "    options=data.sheet_names,\n",
    "    description='Data sheet:',\n",
    "    disabled=False,\n",
    ")\n",
    "display(shet)\n"
   ]
  },
  {
   "cell_type": "code",
   "execution_count": null,
   "metadata": {},
   "outputs": [
    {
     "data": {
      "text/html": [
       "<div>\n",
       "<style scoped>\n",
       "    .dataframe tbody tr th:only-of-type {\n",
       "        vertical-align: middle;\n",
       "    }\n",
       "\n",
       "    .dataframe tbody tr th {\n",
       "        vertical-align: top;\n",
       "    }\n",
       "\n",
       "    .dataframe thead th {\n",
       "        text-align: right;\n",
       "    }\n",
       "</style>\n",
       "<table border=\"1\" class=\"dataframe\">\n",
       "  <thead>\n",
       "    <tr style=\"text-align: right;\">\n",
       "      <th></th>\n",
       "      <th>CAMPIONI</th>\n",
       "      <th>Cr</th>\n",
       "      <th>Cu</th>\n",
       "      <th>Mo</th>\n",
       "      <th>Mn</th>\n",
       "      <th>Ni</th>\n",
       "      <th>Pb</th>\n",
       "      <th>V</th>\n",
       "    </tr>\n",
       "  </thead>\n",
       "  <tbody>\n",
       "    <tr>\n",
       "      <th>0</th>\n",
       "      <td>graffetta</td>\n",
       "      <td>0.012097</td>\n",
       "      <td>0.012704</td>\n",
       "      <td>0.002444</td>\n",
       "      <td>0.208169</td>\n",
       "      <td>0.017511</td>\n",
       "      <td>0.002835</td>\n",
       "      <td>0.000049</td>\n",
       "    </tr>\n",
       "    <tr>\n",
       "      <th>1</th>\n",
       "      <td>orologio</td>\n",
       "      <td>0.034978</td>\n",
       "      <td>0.172011</td>\n",
       "      <td>0.010050</td>\n",
       "      <td>0.529800</td>\n",
       "      <td>0.069733</td>\n",
       "      <td>0.005294</td>\n",
       "      <td>0.001963</td>\n",
       "    </tr>\n",
       "    <tr>\n",
       "      <th>2</th>\n",
       "      <td>filo</td>\n",
       "      <td>13.853548</td>\n",
       "      <td>0.256657</td>\n",
       "      <td>1.849671</td>\n",
       "      <td>1.210907</td>\n",
       "      <td>5.640097</td>\n",
       "      <td>0.002278</td>\n",
       "      <td>0.043808</td>\n",
       "    </tr>\n",
       "    <tr>\n",
       "      <th>3</th>\n",
       "      <td>taglierino</td>\n",
       "      <td>0.048148</td>\n",
       "      <td>0.048881</td>\n",
       "      <td>0.008404</td>\n",
       "      <td>0.643808</td>\n",
       "      <td>0.048588</td>\n",
       "      <td>0.003300</td>\n",
       "      <td>0.064381</td>\n",
       "    </tr>\n",
       "    <tr>\n",
       "      <th>4</th>\n",
       "      <td>fascetta</td>\n",
       "      <td>0.306884</td>\n",
       "      <td>0.005591</td>\n",
       "      <td>0.003174</td>\n",
       "      <td>0.241652</td>\n",
       "      <td>0.018525</td>\n",
       "      <td>0.003074</td>\n",
       "      <td>0.003807</td>\n",
       "    </tr>\n",
       "    <tr>\n",
       "      <th>5</th>\n",
       "      <td>foglio</td>\n",
       "      <td>13.250971</td>\n",
       "      <td>0.060986</td>\n",
       "      <td>0.012153</td>\n",
       "      <td>0.419739</td>\n",
       "      <td>0.105570</td>\n",
       "      <td>0.002260</td>\n",
       "      <td>0.094532</td>\n",
       "    </tr>\n",
       "    <tr>\n",
       "      <th>6</th>\n",
       "      <td>siringa</td>\n",
       "      <td>15.549177</td>\n",
       "      <td>0.250666</td>\n",
       "      <td>0.368831</td>\n",
       "      <td>1.734079</td>\n",
       "      <td>7.103451</td>\n",
       "      <td>0.001649</td>\n",
       "      <td>0.052999</td>\n",
       "    </tr>\n",
       "    <tr>\n",
       "      <th>7</th>\n",
       "      <td>spillo</td>\n",
       "      <td>0.031947</td>\n",
       "      <td>0.024526</td>\n",
       "      <td>0.007279</td>\n",
       "      <td>0.550200</td>\n",
       "      <td>2.020916</td>\n",
       "      <td>0.004162</td>\n",
       "      <td>0.001548</td>\n",
       "    </tr>\n",
       "    <tr>\n",
       "      <th>8</th>\n",
       "      <td>filo_2</td>\n",
       "      <td>0.047820</td>\n",
       "      <td>0.049092</td>\n",
       "      <td>0.008041</td>\n",
       "      <td>0.108227</td>\n",
       "      <td>0.049431</td>\n",
       "      <td>0.003818</td>\n",
       "      <td>0.047703</td>\n",
       "    </tr>\n",
       "    <tr>\n",
       "      <th>9</th>\n",
       "      <td>lama</td>\n",
       "      <td>9.996651</td>\n",
       "      <td>0.012189</td>\n",
       "      <td>0.022664</td>\n",
       "      <td>0.702806</td>\n",
       "      <td>0.084975</td>\n",
       "      <td>0.003147</td>\n",
       "      <td>0.026613</td>\n",
       "    </tr>\n",
       "    <tr>\n",
       "      <th>10</th>\n",
       "      <td>penna</td>\n",
       "      <td>0.206072</td>\n",
       "      <td>0.017137</td>\n",
       "      <td>0.002721</td>\n",
       "      <td>0.285841</td>\n",
       "      <td>0.600677</td>\n",
       "      <td>0.005588</td>\n",
       "      <td>0.002039</td>\n",
       "    </tr>\n",
       "    <tr>\n",
       "      <th>11</th>\n",
       "      <td>trucioli</td>\n",
       "      <td>0.114131</td>\n",
       "      <td>0.127671</td>\n",
       "      <td>0.022456</td>\n",
       "      <td>1.032333</td>\n",
       "      <td>0.071577</td>\n",
       "      <td>0.188105</td>\n",
       "      <td>0.002196</td>\n",
       "    </tr>\n",
       "  </tbody>\n",
       "</table>\n",
       "</div>"
      ],
      "text/plain": [
       "      CAMPIONI         Cr        Cu        Mo        Mn        Ni        Pb  \\\n",
       "0    graffetta   0.012097  0.012704  0.002444  0.208169  0.017511  0.002835   \n",
       "1     orologio   0.034978  0.172011  0.010050  0.529800  0.069733  0.005294   \n",
       "2         filo  13.853548  0.256657  1.849671  1.210907  5.640097  0.002278   \n",
       "3   taglierino   0.048148  0.048881  0.008404  0.643808  0.048588  0.003300   \n",
       "4     fascetta   0.306884  0.005591  0.003174  0.241652  0.018525  0.003074   \n",
       "5       foglio  13.250971  0.060986  0.012153  0.419739  0.105570  0.002260   \n",
       "6      siringa  15.549177  0.250666  0.368831  1.734079  7.103451  0.001649   \n",
       "7       spillo   0.031947  0.024526  0.007279  0.550200  2.020916  0.004162   \n",
       "8       filo_2   0.047820  0.049092  0.008041  0.108227  0.049431  0.003818   \n",
       "9         lama   9.996651  0.012189  0.022664  0.702806  0.084975  0.003147   \n",
       "10      penna    0.206072  0.017137  0.002721  0.285841  0.600677  0.005588   \n",
       "11    trucioli   0.114131  0.127671  0.022456  1.032333  0.071577  0.188105   \n",
       "\n",
       "           V  \n",
       "0   0.000049  \n",
       "1   0.001963  \n",
       "2   0.043808  \n",
       "3   0.064381  \n",
       "4   0.003807  \n",
       "5   0.094532  \n",
       "6   0.052999  \n",
       "7   0.001548  \n",
       "8   0.047703  \n",
       "9   0.026613  \n",
       "10  0.002039  \n",
       "11  0.002196  "
      ]
     },
     "metadata": {},
     "output_type": "display_data"
    }
   ],
   "source": [
    "df = pd.read_excel(f, sheet_name=shet.value)\n",
    "df\n"
   ]
  },
  {
   "cell_type": "code",
   "execution_count": null,
   "metadata": {},
   "outputs": [],
   "source": [
    "pca=pca(df, variable_name_column=[1,7], sample_name_row=[\"CAMPIONI\"])"
   ]
  },
  {
   "cell_type": "code",
   "execution_count": null,
   "metadata": {},
   "outputs": [
    {
     "data": {
      "text/plain": [
       "2"
      ]
     },
     "metadata": {},
     "output_type": "display_data"
    }
   ],
   "source": [
    "np.argmax(pca.PC_index[2, :] < pca.PC_index[2, :].mean())"
   ]
  },
  {
   "cell_type": "code",
   "execution_count": null,
   "metadata": {},
   "outputs": [],
   "source": [
    "pca.eigenvalues_plot()"
   ]
  },
  {
   "cell_type": "markdown",
   "metadata": {},
   "source": [
    "## Altri parametri PCA per numero minimo di PC"
   ]
  },
  {
   "cell_type": "code",
   "execution_count": null,
   "metadata": {},
   "outputs": [],
   "source": [
    "from chemtools.preprocessing import matrix_variance"
   ]
  },
  {
   "cell_type": "code",
   "execution_count": null,
   "metadata": {},
   "outputs": [
    {
     "name": "stdout",
     "output_type": "stream",
     "text": [
      "6.000000000000001\n",
      "[0.62261273 0.20125269 0.082616   0.05619659 0.0088393  0.02848269]\n",
      "1.0000000000000002\n",
      "0.9810641755348972\n",
      "1.6666666666666667\n",
      "0.5886385053209383\n",
      "\n",
      "\n"
     ]
    },
    {
     "ename": "NameError",
     "evalue": "name 'p' is not defined",
     "output_type": "error",
     "traceback": [
      "\u001b[1;31m---------------------------------------------------------------------------\u001b[0m\n",
      "\u001b[1;31mNameError\u001b[0m                                 Traceback (most recent call last)\n",
      "Cell \u001b[1;32mIn[8], line 14\u001b[0m\n",
      "\u001b[0;32m     12\u001b[0m \u001b[39mprint\u001b[39m(K)\n",
      "\u001b[0;32m     13\u001b[0m \u001b[39mprint\u001b[39m(\u001b[39m\"\u001b[39m\u001b[39m\\n\u001b[39;00m\u001b[39m\"\u001b[39m)\n",
      "\u001b[1;32m---> 14\u001b[0m KLtmp \u001b[39m=\u001b[39m (\u001b[39m1\u001b[39m \u001b[39m+\u001b[39m (p\u001b[39m-\u001b[39m\u001b[39m1\u001b[39m)\u001b[39m*\u001b[39m(\u001b[39m1\u001b[39m\u001b[39m-\u001b[39mK))\n",
      "\u001b[0;32m     15\u001b[0m \u001b[39mprint\u001b[39m(KLtmp)\n",
      "\u001b[0;32m     16\u001b[0m KL \u001b[39m=\u001b[39m \u001b[39mround\u001b[39m(KLtmp)\n",
      "\n",
      "\u001b[1;31mNameError\u001b[0m: name 'p' is not defined"
     ]
    }
   ],
   "source": [
    "sum_eig=pca.V.sum()\n",
    "print(sum_eig)\n",
    "exp_var=pca.V/sum_eig\n",
    "print(exp_var)\n",
    "mean_eig=pca.V.mean()\n",
    "print(mean_eig)\n",
    "num = sum(abs(exp_var - (mean_eig/sum_eig)))\n",
    "print(num)\n",
    "den = den = 2*(sum_eig - mean_eig)/sum_eig\n",
    "print(den)\n",
    "K=(num/den)\n",
    "print(K)\n",
    "print(\"\\n\")\n",
    "KLtmp = (1 + (p-1)*(1-K))\n",
    "print(KLtmp)\n",
    "KL = round(KLtmp)\n",
    "print(KL)\n",
    "KPtmp = pca.V.size ** (1-K)\n",
    "KP = round(KPtmp)\n",
    "print(KP)\n"
   ]
  },
  {
   "cell_type": "code",
   "execution_count": null,
   "metadata": {},
   "outputs": [
    {
     "data": {
      "text/plain": [
       "array([[ 0.16666667,  0.09464552,  0.09326822,  0.1091773 ,  0.11401943,\n",
       "        -0.03739764],\n",
       "       [ 0.09464552,  0.16666667,  0.1147372 ,  0.13650438,  0.13038941,\n",
       "         0.02203795],\n",
       "       [ 0.09326822,  0.1147372 ,  0.16666667,  0.08721288,  0.11663185,\n",
       "        -0.01829091],\n",
       "       [ 0.1091773 ,  0.13650438,  0.08721288,  0.16666667,  0.13727747,\n",
       "         0.04135398],\n",
       "       [ 0.11401943,  0.13038941,  0.11663185,  0.13727747,  0.16666667,\n",
       "        -0.02860526],\n",
       "       [-0.03739764,  0.02203795, -0.01829091,  0.04135398, -0.02860526,\n",
       "         0.16666667]])"
      ]
     },
     "metadata": {},
     "output_type": "display_data"
    }
   ],
   "source": [
    "variance_m=matrix_variance(pca.x)\n",
    "variance_m"
   ]
  },
  {
   "cell_type": "code",
   "execution_count": null,
   "metadata": {},
   "outputs": [],
   "source": [
    "eigenvalue=pca.V\n",
    "p = pca.V.size\n",
    "x=pca.correlation_matrix\n",
    "j= pca.V.size"
   ]
  },
  {
   "cell_type": "code",
   "execution_count": null,
   "metadata": {},
   "outputs": [
    {
     "data": {
      "text/plain": [
       "6"
      ]
     },
     "metadata": {},
     "output_type": "display_data"
    }
   ],
   "source": [
    "n = np.linalg.matrix_rank(variance_m)\n",
    "n"
   ]
  },
  {
   "cell_type": "code",
   "execution_count": null,
   "metadata": {},
   "outputs": [
    {
     "data": {
      "text/plain": [
       "array([0.62261273, 0.20125269, 0.082616  , 0.05619659, 0.0088393 ,\n",
       "       0.02848269])"
      ]
     },
     "metadata": {},
     "output_type": "display_data"
    }
   ],
   "source": [
    "EV=[]\n",
    "for i in range(pca.V.size):\n",
    "    EV = np.append(EV,eigenvalue[i]/(eigenvalue.sum()))\n",
    "EV\n"
   ]
  },
  {
   "cell_type": "code",
   "execution_count": null,
   "metadata": {},
   "outputs": [
    {
     "data": {
      "text/plain": [
       "0.0"
      ]
     },
     "metadata": {},
     "output_type": "display_data"
    }
   ],
   "source": [
    "(EV-(1/(pca.V.size))).sum() #numeratore\n"
   ]
  },
  {
   "cell_type": "code",
   "execution_count": null,
   "metadata": {},
   "outputs": [
    {
     "data": {
      "text/plain": [
       "1.6666666666666667"
      ]
     },
     "metadata": {},
     "output_type": "display_data"
    }
   ],
   "source": [
    "2*(pca.V.size-1)/pca.V.size #denominatore\n"
   ]
  },
  {
   "cell_type": "code",
   "execution_count": null,
   "metadata": {},
   "outputs": [
    {
     "ename": "NameError",
     "evalue": "name 'k' is not defined",
     "output_type": "error",
     "traceback": [
      "\u001b[1;31m---------------------------------------------------------------------------\u001b[0m\n",
      "\u001b[1;31mNameError\u001b[0m                                 Traceback (most recent call last)\n",
      "Cell \u001b[1;32mIn[15], line 2\u001b[0m\n",
      "\u001b[0;32m      1\u001b[0m K\u001b[39m=\u001b[39m(EV\u001b[39m-\u001b[39m\u001b[39m1\u001b[39m\u001b[39m/\u001b[39m(pca\u001b[39m.\u001b[39mV\u001b[39m.\u001b[39msize))\u001b[39m.\u001b[39msum()\u001b[39m/\u001b[39m(\u001b[39m2\u001b[39m\u001b[39m*\u001b[39m(pca\u001b[39m.\u001b[39mV\u001b[39m.\u001b[39msize\u001b[39m-\u001b[39m\u001b[39m1\u001b[39m)\u001b[39m/\u001b[39mpca\u001b[39m.\u001b[39mV\u001b[39m.\u001b[39msize)\n",
      "\u001b[1;32m----> 2\u001b[0m k\n",
      "\n",
      "\u001b[1;31mNameError\u001b[0m: name 'k' is not defined"
     ]
    }
   ],
   "source": [
    "K=(EV-1/(pca.V.size)).sum()/(2*(pca.V.size-1)/pca.V.size)\n",
    "k\n"
   ]
  },
  {
   "cell_type": "code",
   "execution_count": null,
   "metadata": {},
   "outputs": [
    {
     "ename": "NameError",
     "evalue": "name 'k' is not defined",
     "output_type": "error",
     "traceback": [
      "\u001b[1;31m---------------------------------------------------------------------------\u001b[0m\n",
      "\u001b[1;31mNameError\u001b[0m                                 Traceback (most recent call last)\n",
      "Cell \u001b[1;32mIn[16], line 1\u001b[0m\n",
      "\u001b[1;32m----> 1\u001b[0m \u001b[39mround\u001b[39m(\u001b[39m1\u001b[39m\u001b[39m+\u001b[39m(j\u001b[39m-\u001b[39m\u001b[39m1\u001b[39m)\u001b[39m*\u001b[39m(\u001b[39m1\u001b[39m\u001b[39m-\u001b[39mk))\n",
      "\n",
      "\u001b[1;31mNameError\u001b[0m: name 'k' is not defined"
     ]
    }
   ],
   "source": [
    "round(1+(j-1)*(1-k))\n"
   ]
  },
  {
   "cell_type": "code",
   "execution_count": null,
   "metadata": {},
   "outputs": [
    {
     "data": {
      "text/plain": [
       "0.0"
      ]
     },
     "metadata": {},
     "output_type": "display_data"
    }
   ],
   "source": [
    "a = sum(eigenvalue[m]/eigenvalue.sum()-1/p for m in range(n))\n",
    "a"
   ]
  },
  {
   "cell_type": "code",
   "execution_count": null,
   "metadata": {},
   "outputs": [
    {
     "data": {
      "text/plain": [
       "0.0"
      ]
     },
     "metadata": {},
     "output_type": "display_data"
    }
   ],
   "source": [
    "k=(a+(p-n)**(1/p))/(2*(p-1)/p)\n",
    "k"
   ]
  },
  {
   "cell_type": "code",
   "execution_count": null,
   "metadata": {},
   "outputs": [
    {
     "data": {
      "text/plain": [
       "6"
      ]
     },
     "metadata": {},
     "output_type": "display_data"
    }
   ],
   "source": [
    "kl=round(1+(j-1)*(1-k))\n",
    "kl"
   ]
  },
  {
   "cell_type": "code",
   "execution_count": null,
   "metadata": {},
   "outputs": [
    {
     "data": {
      "text/plain": [
       "6"
      ]
     },
     "metadata": {},
     "output_type": "display_data"
    }
   ],
   "source": [
    "kp=round(j**(1-k))\n",
    "kp"
   ]
  },
  {
   "cell_type": "markdown",
   "metadata": {},
   "source": [
    "https://www.sciencedirect.com/science/article/pii/S0169743998001245\n",
    "https://www.academia.edu/6648469/The_K_correlation_index_theory_development_and_its_application_in_chemometrics\n",
    "https://www.youtube.com/watch?v=JtrPvAdVJiM&ab_channel=Mattoscacco"
   ]
  },
  {
   "attachments": {},
   "cell_type": "markdown",
   "metadata": {},
   "source": [
    "# New"
   ]
  },
  {
   "cell_type": "code",
   "execution_count": null,
   "metadata": {},
   "outputs": [],
   "source": [
    "from chemtools.preprocessing import autoscaling\n",
    "\n",
    "class PrincipalComponentAnalysis:\n",
    "    def __init__(self,X):\n",
    "        self.X=X\n",
    "    \n",
    "    def fit(self):\n",
    "        # Calcola la media\n",
    "        self.mean = np.mean(X, axis=0)\n",
    "        # Calcola la matrice autoscalata\n",
    "        self.X_autoscaled = autoscaling(self.X)"
   ]
  },
  {
   "cell_type": "code",
   "execution_count": null,
   "metadata": {},
   "outputs": [],
   "source": [
    "#mi scrivi una classe python, usando numpy e le formule matriciali, per eseguire una principal components analysis?\n",
    "class PCA:\n",
    "    def __init__(self, n_components):\n",
    "        self.n_components = n_components\n",
    "        self.components = None\n",
    "        self.mean = None\n",
    "\n",
    "    def fit(self, X):\n",
    "        # Calcola la media\n",
    "        self.mean = np.mean(X, axis=0)\n",
    "        X = X - self.mean\n",
    "\n",
    "        # Calcola la matrice di covarianza\n",
    "        cov = np.cov(X.T)\n",
    "\n",
    "        # Calcola gli autovettori e gli autovalori\n",
    "        eigenvalues, eigenvectors = np.linalg.eig(cov)\n",
    "\n",
    "        # Ordina gli autovettori\n",
    "        eigenvectors = eigenvectors.T\n",
    "        idxs = np.argsort(eigenvalues)[::-1]\n",
    "        eigenvalues = eigenvalues[idxs]\n",
    "        eigenvectors = eigenvectors[idxs]\n",
    "\n",
    "        # Memorizza i primi n autovettori\n",
    "        self.components = eigenvectors[0:self.n_components]\n",
    "\n",
    "    def transform(self, X):\n",
    "        # Proietta i dati\n",
    "        X = X - self.mean\n",
    "        return np.dot(X, self.components.T)"
   ]
  }
 ],
 "metadata": {
  "language_info": {
   "name": "python"
  },
  "orig_nbformat": 4
 },
 "nbformat": 4,
 "nbformat_minor": 2
}
