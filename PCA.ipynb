{
 "cells": [
  {
   "attachments": {},
   "cell_type": "markdown",
   "metadata": {},
   "source": [
    "# PCA"
   ]
  },
  {
   "attachments": {},
   "cell_type": "markdown",
   "metadata": {},
   "source": [
    "# Old"
   ]
  },
  {
   "cell_type": "markdown",
   "metadata": {},
   "source": [
    "https://www.pythonmorsels.com/making-auto-updating-attribute/"
   ]
  },
  {
   "cell_type": "code",
   "execution_count": null,
   "metadata": {},
   "outputs": [],
   "source": [
    "import numpy as np\n",
    "import pandas as pd\n",
    "import ipywidgets as widgets\n",
    "from chemtools.exploration import PrincipalComponentAnalysis as pca"
   ]
  },
  {
   "cell_type": "code",
   "execution_count": null,
   "metadata": {},
   "outputs": [
    {
     "data": {
      "application/vnd.jupyter.widget-view+json": {
       "model_id": "52cc99d33ab84cf784e2fc7a6f238177",
       "version_major": 2,
       "version_minor": 0
      },
      "text/plain": [
       "Dropdown(description='Data sheet:', options=('MATRICE DEI DATI',), value='MATRICE DEI DATI')"
      ]
     },
     "metadata": {},
     "output_type": "display_data"
    }
   ],
   "source": [
    "f = \"icp.xlsx\"\n",
    "data = pd.ExcelFile(f)\n",
    "\n",
    "shet = widgets.Dropdown(\n",
    "    options=data.sheet_names,\n",
    "    description='Data sheet:',\n",
    "    disabled=False,\n",
    ")\n",
    "display(shet)\n"
   ]
  },
  {
   "cell_type": "code",
   "execution_count": null,
   "metadata": {},
   "outputs": [
    {
     "data": {
      "text/html": [
       "<div>\n",
       "<style scoped>\n",
       "    .dataframe tbody tr th:only-of-type {\n",
       "        vertical-align: middle;\n",
       "    }\n",
       "\n",
       "    .dataframe tbody tr th {\n",
       "        vertical-align: top;\n",
       "    }\n",
       "\n",
       "    .dataframe thead th {\n",
       "        text-align: right;\n",
       "    }\n",
       "</style>\n",
       "<table border=\"1\" class=\"dataframe\">\n",
       "  <thead>\n",
       "    <tr style=\"text-align: right;\">\n",
       "      <th></th>\n",
       "      <th>CAMPIONI</th>\n",
       "      <th>Cr</th>\n",
       "      <th>Cu</th>\n",
       "      <th>Mo</th>\n",
       "      <th>Mn</th>\n",
       "      <th>Ni</th>\n",
       "      <th>Pb</th>\n",
       "      <th>V</th>\n",
       "    </tr>\n",
       "  </thead>\n",
       "  <tbody>\n",
       "    <tr>\n",
       "      <th>0</th>\n",
       "      <td>graffetta</td>\n",
       "      <td>0.012097</td>\n",
       "      <td>0.012704</td>\n",
       "      <td>0.002444</td>\n",
       "      <td>0.208169</td>\n",
       "      <td>0.017511</td>\n",
       "      <td>0.002835</td>\n",
       "      <td>0.000049</td>\n",
       "    </tr>\n",
       "    <tr>\n",
       "      <th>1</th>\n",
       "      <td>orologio</td>\n",
       "      <td>0.034978</td>\n",
       "      <td>0.172011</td>\n",
       "      <td>0.010050</td>\n",
       "      <td>0.529800</td>\n",
       "      <td>0.069733</td>\n",
       "      <td>0.005294</td>\n",
       "      <td>0.001963</td>\n",
       "    </tr>\n",
       "    <tr>\n",
       "      <th>2</th>\n",
       "      <td>filo</td>\n",
       "      <td>13.853548</td>\n",
       "      <td>0.256657</td>\n",
       "      <td>1.849671</td>\n",
       "      <td>1.210907</td>\n",
       "      <td>5.640097</td>\n",
       "      <td>0.002278</td>\n",
       "      <td>0.043808</td>\n",
       "    </tr>\n",
       "    <tr>\n",
       "      <th>3</th>\n",
       "      <td>taglierino</td>\n",
       "      <td>0.048148</td>\n",
       "      <td>0.048881</td>\n",
       "      <td>0.008404</td>\n",
       "      <td>0.643808</td>\n",
       "      <td>0.048588</td>\n",
       "      <td>0.003300</td>\n",
       "      <td>0.064381</td>\n",
       "    </tr>\n",
       "    <tr>\n",
       "      <th>4</th>\n",
       "      <td>fascetta</td>\n",
       "      <td>0.306884</td>\n",
       "      <td>0.005591</td>\n",
       "      <td>0.003174</td>\n",
       "      <td>0.241652</td>\n",
       "      <td>0.018525</td>\n",
       "      <td>0.003074</td>\n",
       "      <td>0.003807</td>\n",
       "    </tr>\n",
       "    <tr>\n",
       "      <th>5</th>\n",
       "      <td>foglio</td>\n",
       "      <td>13.250971</td>\n",
       "      <td>0.060986</td>\n",
       "      <td>0.012153</td>\n",
       "      <td>0.419739</td>\n",
       "      <td>0.105570</td>\n",
       "      <td>0.002260</td>\n",
       "      <td>0.094532</td>\n",
       "    </tr>\n",
       "    <tr>\n",
       "      <th>6</th>\n",
       "      <td>siringa</td>\n",
       "      <td>15.549177</td>\n",
       "      <td>0.250666</td>\n",
       "      <td>0.368831</td>\n",
       "      <td>1.734079</td>\n",
       "      <td>7.103451</td>\n",
       "      <td>0.001649</td>\n",
       "      <td>0.052999</td>\n",
       "    </tr>\n",
       "    <tr>\n",
       "      <th>7</th>\n",
       "      <td>spillo</td>\n",
       "      <td>0.031947</td>\n",
       "      <td>0.024526</td>\n",
       "      <td>0.007279</td>\n",
       "      <td>0.550200</td>\n",
       "      <td>2.020916</td>\n",
       "      <td>0.004162</td>\n",
       "      <td>0.001548</td>\n",
       "    </tr>\n",
       "    <tr>\n",
       "      <th>8</th>\n",
       "      <td>filo_2</td>\n",
       "      <td>0.047820</td>\n",
       "      <td>0.049092</td>\n",
       "      <td>0.008041</td>\n",
       "      <td>0.108227</td>\n",
       "      <td>0.049431</td>\n",
       "      <td>0.003818</td>\n",
       "      <td>0.047703</td>\n",
       "    </tr>\n",
       "    <tr>\n",
       "      <th>9</th>\n",
       "      <td>lama</td>\n",
       "      <td>9.996651</td>\n",
       "      <td>0.012189</td>\n",
       "      <td>0.022664</td>\n",
       "      <td>0.702806</td>\n",
       "      <td>0.084975</td>\n",
       "      <td>0.003147</td>\n",
       "      <td>0.026613</td>\n",
       "    </tr>\n",
       "    <tr>\n",
       "      <th>10</th>\n",
       "      <td>penna</td>\n",
       "      <td>0.206072</td>\n",
       "      <td>0.017137</td>\n",
       "      <td>0.002721</td>\n",
       "      <td>0.285841</td>\n",
       "      <td>0.600677</td>\n",
       "      <td>0.005588</td>\n",
       "      <td>0.002039</td>\n",
       "    </tr>\n",
       "    <tr>\n",
       "      <th>11</th>\n",
       "      <td>trucioli</td>\n",
       "      <td>0.114131</td>\n",
       "      <td>0.127671</td>\n",
       "      <td>0.022456</td>\n",
       "      <td>1.032333</td>\n",
       "      <td>0.071577</td>\n",
       "      <td>0.188105</td>\n",
       "      <td>0.002196</td>\n",
       "    </tr>\n",
       "  </tbody>\n",
       "</table>\n",
       "</div>"
      ],
      "text/plain": [
       "      CAMPIONI         Cr        Cu        Mo        Mn        Ni        Pb  \\\n",
       "0    graffetta   0.012097  0.012704  0.002444  0.208169  0.017511  0.002835   \n",
       "1     orologio   0.034978  0.172011  0.010050  0.529800  0.069733  0.005294   \n",
       "2         filo  13.853548  0.256657  1.849671  1.210907  5.640097  0.002278   \n",
       "3   taglierino   0.048148  0.048881  0.008404  0.643808  0.048588  0.003300   \n",
       "4     fascetta   0.306884  0.005591  0.003174  0.241652  0.018525  0.003074   \n",
       "5       foglio  13.250971  0.060986  0.012153  0.419739  0.105570  0.002260   \n",
       "6      siringa  15.549177  0.250666  0.368831  1.734079  7.103451  0.001649   \n",
       "7       spillo   0.031947  0.024526  0.007279  0.550200  2.020916  0.004162   \n",
       "8       filo_2   0.047820  0.049092  0.008041  0.108227  0.049431  0.003818   \n",
       "9         lama   9.996651  0.012189  0.022664  0.702806  0.084975  0.003147   \n",
       "10      penna    0.206072  0.017137  0.002721  0.285841  0.600677  0.005588   \n",
       "11    trucioli   0.114131  0.127671  0.022456  1.032333  0.071577  0.188105   \n",
       "\n",
       "           V  \n",
       "0   0.000049  \n",
       "1   0.001963  \n",
       "2   0.043808  \n",
       "3   0.064381  \n",
       "4   0.003807  \n",
       "5   0.094532  \n",
       "6   0.052999  \n",
       "7   0.001548  \n",
       "8   0.047703  \n",
       "9   0.026613  \n",
       "10  0.002039  \n",
       "11  0.002196  "
      ]
     },
     "metadata": {},
     "output_type": "display_data"
    }
   ],
   "source": [
    "df = pd.read_excel(f, sheet_name=shet.value)\n",
    "df\n"
   ]
  },
  {
   "cell_type": "code",
   "execution_count": null,
   "metadata": {},
   "outputs": [],
   "source": [
    "pca=pca(df, variable_name_column=[1,7], sample_name_row=[\"CAMPIONI\"])"
   ]
  },
  {
   "cell_type": "code",
   "execution_count": null,
   "metadata": {},
   "outputs": [
    {
     "data": {
      "text/plain": [
       "2"
      ]
     },
     "metadata": {},
     "output_type": "display_data"
    }
   ],
   "source": [
    "np.argmax(pca.PC_index[2, :] < pca.PC_index[2, :].mean())"
   ]
  },
  {
   "cell_type": "code",
   "execution_count": null,
   "metadata": {},
   "outputs": [],
   "source": [
    "pca.eigenvalues_plot()"
   ]
  },
  {
   "cell_type": "markdown",
   "metadata": {},
   "source": [
    "## Altri parametri PCA per numero minimo di PC"
   ]
  },
  {
   "cell_type": "code",
   "execution_count": null,
   "metadata": {},
   "outputs": [],
   "source": [
    "from chemtools.preprocessing import matrix_variance"
   ]
  },
  {
   "cell_type": "code",
   "execution_count": null,
   "metadata": {},
   "outputs": [
    {
     "name": "stdout",
     "output_type": "stream",
     "text": [
      "6.000000000000001\n",
      "[0.62261273 0.20125269 0.082616   0.05619659 0.0088393  0.02848269]\n",
      "1.0000000000000002\n",
      "0.9810641755348972\n",
      "1.6666666666666667\n",
      "0.5886385053209383\n",
      "\n",
      "\n"
     ]
    },
    {
     "ename": "NameError",
     "evalue": "name 'p' is not defined",
     "output_type": "error",
     "traceback": [
      "\u001b[1;31m---------------------------------------------------------------------------\u001b[0m\n",
      "\u001b[1;31mNameError\u001b[0m                                 Traceback (most recent call last)\n",
      "Cell \u001b[1;32mIn[8], line 14\u001b[0m\n",
      "\u001b[0;32m     12\u001b[0m \u001b[39mprint\u001b[39m(K)\n",
      "\u001b[0;32m     13\u001b[0m \u001b[39mprint\u001b[39m(\u001b[39m\"\u001b[39m\u001b[39m\\n\u001b[39;00m\u001b[39m\"\u001b[39m)\n",
      "\u001b[1;32m---> 14\u001b[0m KLtmp \u001b[39m=\u001b[39m (\u001b[39m1\u001b[39m \u001b[39m+\u001b[39m (p\u001b[39m-\u001b[39m\u001b[39m1\u001b[39m)\u001b[39m*\u001b[39m(\u001b[39m1\u001b[39m\u001b[39m-\u001b[39mK))\n",
      "\u001b[0;32m     15\u001b[0m \u001b[39mprint\u001b[39m(KLtmp)\n",
      "\u001b[0;32m     16\u001b[0m KL \u001b[39m=\u001b[39m \u001b[39mround\u001b[39m(KLtmp)\n",
      "\n",
      "\u001b[1;31mNameError\u001b[0m: name 'p' is not defined"
     ]
    }
   ],
   "source": [
    "sum_eig=pca.V.sum()\n",
    "print(sum_eig)\n",
    "exp_var=pca.V/sum_eig\n",
    "print(exp_var)\n",
    "mean_eig=pca.V.mean()\n",
    "print(mean_eig)\n",
    "num = sum(abs(exp_var - (mean_eig/sum_eig)))\n",
    "print(num)\n",
    "den = den = 2*(sum_eig - mean_eig)/sum_eig\n",
    "print(den)\n",
    "K=(num/den)\n",
    "print(K)\n",
    "print(\"\\n\")\n",
    "KLtmp = (1 + (p-1)*(1-K))\n",
    "print(KLtmp)\n",
    "KL = round(KLtmp)\n",
    "print(KL)\n",
    "KPtmp = pca.V.size ** (1-K)\n",
    "KP = round(KPtmp)\n",
    "print(KP)\n"
   ]
  },
  {
   "cell_type": "code",
   "execution_count": null,
   "metadata": {},
   "outputs": [
    {
     "data": {
      "text/plain": [
       "array([[ 0.16666667,  0.09464552,  0.09326822,  0.1091773 ,  0.11401943,\n",
       "        -0.03739764],\n",
       "       [ 0.09464552,  0.16666667,  0.1147372 ,  0.13650438,  0.13038941,\n",
       "         0.02203795],\n",
       "       [ 0.09326822,  0.1147372 ,  0.16666667,  0.08721288,  0.11663185,\n",
       "        -0.01829091],\n",
       "       [ 0.1091773 ,  0.13650438,  0.08721288,  0.16666667,  0.13727747,\n",
       "         0.04135398],\n",
       "       [ 0.11401943,  0.13038941,  0.11663185,  0.13727747,  0.16666667,\n",
       "        -0.02860526],\n",
       "       [-0.03739764,  0.02203795, -0.01829091,  0.04135398, -0.02860526,\n",
       "         0.16666667]])"
      ]
     },
     "metadata": {},
     "output_type": "display_data"
    }
   ],
   "source": [
    "variance_m=matrix_variance(pca.x)\n",
    "variance_m"
   ]
  },
  {
   "cell_type": "code",
   "execution_count": null,
   "metadata": {},
   "outputs": [],
   "source": [
    "eigenvalue=pca.V\n",
    "p = pca.V.size\n",
    "x=pca.correlation_matrix\n",
    "j= pca.V.size"
   ]
  },
  {
   "cell_type": "code",
   "execution_count": null,
   "metadata": {},
   "outputs": [
    {
     "data": {
      "text/plain": [
       "6"
      ]
     },
     "metadata": {},
     "output_type": "display_data"
    }
   ],
   "source": [
    "n = np.linalg.matrix_rank(variance_m)\n",
    "n"
   ]
  },
  {
   "cell_type": "code",
   "execution_count": null,
   "metadata": {},
   "outputs": [
    {
     "data": {
      "text/plain": [
       "array([0.62261273, 0.20125269, 0.082616  , 0.05619659, 0.0088393 ,\n",
       "       0.02848269])"
      ]
     },
     "metadata": {},
     "output_type": "display_data"
    }
   ],
   "source": [
    "EV=[]\n",
    "for i in range(pca.V.size):\n",
    "    EV = np.append(EV,eigenvalue[i]/(eigenvalue.sum()))\n",
    "EV\n"
   ]
  },
  {
   "cell_type": "code",
   "execution_count": null,
   "metadata": {},
   "outputs": [
    {
     "data": {
      "text/plain": [
       "0.0"
      ]
     },
     "metadata": {},
     "output_type": "display_data"
    }
   ],
   "source": [
    "(EV-(1/(pca.V.size))).sum() #numeratore\n"
   ]
  },
  {
   "cell_type": "code",
   "execution_count": null,
   "metadata": {},
   "outputs": [
    {
     "data": {
      "text/plain": [
       "1.6666666666666667"
      ]
     },
     "metadata": {},
     "output_type": "display_data"
    }
   ],
   "source": [
    "2*(pca.V.size-1)/pca.V.size #denominatore\n"
   ]
  },
  {
   "cell_type": "code",
   "execution_count": null,
   "metadata": {},
   "outputs": [
    {
     "ename": "NameError",
     "evalue": "name 'k' is not defined",
     "output_type": "error",
     "traceback": [
      "\u001b[1;31m---------------------------------------------------------------------------\u001b[0m\n",
      "\u001b[1;31mNameError\u001b[0m                                 Traceback (most recent call last)\n",
      "Cell \u001b[1;32mIn[15], line 2\u001b[0m\n",
      "\u001b[0;32m      1\u001b[0m K\u001b[39m=\u001b[39m(EV\u001b[39m-\u001b[39m\u001b[39m1\u001b[39m\u001b[39m/\u001b[39m(pca\u001b[39m.\u001b[39mV\u001b[39m.\u001b[39msize))\u001b[39m.\u001b[39msum()\u001b[39m/\u001b[39m(\u001b[39m2\u001b[39m\u001b[39m*\u001b[39m(pca\u001b[39m.\u001b[39mV\u001b[39m.\u001b[39msize\u001b[39m-\u001b[39m\u001b[39m1\u001b[39m)\u001b[39m/\u001b[39mpca\u001b[39m.\u001b[39mV\u001b[39m.\u001b[39msize)\n",
      "\u001b[1;32m----> 2\u001b[0m k\n",
      "\n",
      "\u001b[1;31mNameError\u001b[0m: name 'k' is not defined"
     ]
    }
   ],
   "source": [
    "K=(EV-1/(pca.V.size)).sum()/(2*(pca.V.size-1)/pca.V.size)\n",
    "k\n"
   ]
  },
  {
   "cell_type": "code",
   "execution_count": null,
   "metadata": {},
   "outputs": [
    {
     "ename": "NameError",
     "evalue": "name 'k' is not defined",
     "output_type": "error",
     "traceback": [
      "\u001b[1;31m---------------------------------------------------------------------------\u001b[0m\n",
      "\u001b[1;31mNameError\u001b[0m                                 Traceback (most recent call last)\n",
      "Cell \u001b[1;32mIn[16], line 1\u001b[0m\n",
      "\u001b[1;32m----> 1\u001b[0m \u001b[39mround\u001b[39m(\u001b[39m1\u001b[39m\u001b[39m+\u001b[39m(j\u001b[39m-\u001b[39m\u001b[39m1\u001b[39m)\u001b[39m*\u001b[39m(\u001b[39m1\u001b[39m\u001b[39m-\u001b[39mk))\n",
      "\n",
      "\u001b[1;31mNameError\u001b[0m: name 'k' is not defined"
     ]
    }
   ],
   "source": [
    "round(1+(j-1)*(1-k))\n"
   ]
  },
  {
   "cell_type": "code",
   "execution_count": null,
   "metadata": {},
   "outputs": [
    {
     "data": {
      "text/plain": [
       "0.0"
      ]
     },
     "metadata": {},
     "output_type": "display_data"
    }
   ],
   "source": [
    "a = sum(eigenvalue[m]/eigenvalue.sum()-1/p for m in range(n))\n",
    "a"
   ]
  },
  {
   "cell_type": "code",
   "execution_count": null,
   "metadata": {},
   "outputs": [
    {
     "data": {
      "text/plain": [
       "0.0"
      ]
     },
     "metadata": {},
     "output_type": "display_data"
    }
   ],
   "source": [
    "k=(a+(p-n)**(1/p))/(2*(p-1)/p)\n",
    "k"
   ]
  },
  {
   "cell_type": "code",
   "execution_count": null,
   "metadata": {},
   "outputs": [
    {
     "data": {
      "text/plain": [
       "6"
      ]
     },
     "metadata": {},
     "output_type": "display_data"
    }
   ],
   "source": [
    "kl=round(1+(j-1)*(1-k))\n",
    "kl"
   ]
  },
  {
   "cell_type": "code",
   "execution_count": null,
   "metadata": {},
   "outputs": [
    {
     "data": {
      "text/plain": [
       "6"
      ]
     },
     "metadata": {},
     "output_type": "display_data"
    }
   ],
   "source": [
    "kp=round(j**(1-k))\n",
    "kp"
   ]
  },
  {
   "cell_type": "markdown",
   "metadata": {},
   "source": [
    "https://www.sciencedirect.com/science/article/pii/S0169743998001245\n",
    "https://www.academia.edu/6648469/The_K_correlation_index_theory_development_and_its_application_in_chemometrics\n",
    "https://www.youtube.com/watch?v=JtrPvAdVJiM&ab_channel=Mattoscacco"
   ]
  },
  {
   "attachments": {},
   "cell_type": "markdown",
   "metadata": {},
   "source": [
    "# New"
   ]
  },
  {
   "cell_type": "code",
   "execution_count": 1,
   "metadata": {},
   "outputs": [],
   "source": [
    "def set_variables_names(X, variables_names):\n",
    "    if variables_names is None:\n",
    "        n = X.shape[1]\n",
    "        variables = [str(i) for i in range(n)]\n",
    "    else:\n",
    "        variables = variables_names\n",
    "        return variables\n",
    "def set_objects_names(X, objects_names):\n",
    "    if objects_names is None:\n",
    "        n = X.shape[0]\n",
    "        objects = [str(i) for i in range(n)]\n",
    "    else:\n",
    "        objects = objects_names\n",
    "    return objects\n",
    "\n"
   ]
  },
  {
   "cell_type": "code",
   "execution_count": 20,
   "metadata": {},
   "outputs": [],
   "source": [
    "import pandas as pd\n",
    "import numpy as np\n",
    "from scipy.stats import f, norm\n",
    "import matplotlib.pyplot as plt\n",
    "import matplotlib.patches as patches\n",
    "\n",
    "from chemtools.preprocessing import autoscaling\n",
    "from chemtools.preprocessing.matrix_standard_deviation import matrix_standard_deviation\n",
    "from chemtools.preprocessing import correlation_matrix\n",
    "from chemtools.preprocessing import diagonalized_matrix\n",
    "from chemtools.utility import reorder_array\n",
    "from chemtools.utility import heatmap\n",
    "from chemtools.utility import annotate_heatmap\n",
    "\n",
    "class PrincipalComponentAnalysis:\n",
    "    def __init__(self,X, variables_names=None, objects_names=None):\n",
    "        self.X=X\n",
    "        self.variables=set_variables_names(self.X,variables_names)\n",
    "        self.objects=set_objects_names(self.X,objects_names)\n",
    "        self.n_variables=self.X.shape[1]\n",
    "        self.n_objects=self.X.shape[0]\n",
    "    \n",
    "    def fit(self):\n",
    "        # Calcola la media\n",
    "        self.mean = np.mean(self.X, axis=0)\n",
    "        #calcola le deviazioni standard della matrice\n",
    "        self.std=matrix_standard_deviation(self.X, mode=\"column\")\n",
    "        # Calcola la matrice autoscalata\n",
    "        self.X_autoscaled = autoscaling(self.X)\n",
    "        #Calcola la matrice do covarianza\n",
    "        self.correlation_matrix = correlation_matrix(self.X_autoscaled)\n",
    "        # eighenvalue enighenvector\n",
    "        self.V, self.L = diagonalized_matrix(self.correlation_matrix)\n",
    "        self.V_ordered, self.order = reorder_array(self.V)\n",
    "        \n",
    "        # riordino le PCi\n",
    "        PC_index = np.array([[\"PC{}\".format(i+1) for i in range(self.V.shape[0])], self.order, self.V_ordered])\n",
    "        self.PC_index = PC_index\n",
    "        self.number_of_PC = self.L.shape[1]\n",
    "        \n",
    "        self.L_ordered=self.L[self.order]\n",
    "        # Criteri scelta nPC\n",
    "        self.num_eigenvalues_greater_than_one=np.argmax(pca.V_ordered < 1)\n",
    "    \n",
    "    def reduction(self, n_components):\n",
    "        self.n_component = n_components\n",
    "        self.V_reduced=self.V_ordered[:n_components]\n",
    "        # Calcola la matrice di trasformazione\n",
    "        self.W = self.L_ordered[:, :n_components]\n",
    "        # Riduce la dimensionalità dei dati\n",
    "        self.T = np.dot(self.X_autoscaled, self.W)\n",
    "    \n",
    "    def statistics(self,alpha=0.05):\n",
    "        self.X_reconstructed = np.dot(self.T, self.W.T)\n",
    "        self.E = self.X_autoscaled - self.X_reconstructed\n",
    "        self.T2 = np.diag(self.T @ np.diag(self.V_ordered[:self.n_component] ** (-1)) @ self.T.T)\n",
    "        self.T2con = self.T @ np.diag(self.V_ordered[:self.n_component] ** (-1 / 2)) @ self.W.T\n",
    "        self.Q = np.sum(self.E ** 2, axis=1)\n",
    "        self.Qcon = self.E\n",
    "        self.T2_critical_value=self.hotellings_t2_critical_value(alpha=alpha)\n",
    "    \n",
    "\n",
    "    def hotellings_t2_critical_value(self, alpha=0.05):\n",
    "        p = self.n_variables\n",
    "        n = self.n_objects\n",
    "        f_critical_value = f.ppf(1 - alpha, p, n - p)\n",
    "        return (p * (n - 1)) / (n - p) * f_critical_value\n",
    "\n",
    "    ### PLots ----------------------------------------------------------------\n",
    "    def plot_correlation_matrix(self, cmap=\"coolwarm\", threshold=None):\n",
    "        \"\"\"_summary_\n",
    "\n",
    "        Args:\n",
    "            cmap (str, optional): Colormap color. Defaults to \"coolwarm\".\n",
    "                ['viridis', 'plasma', 'inferno', 'magma', 'cividis', 'Greys',\n",
    "                'Purples', 'Blues', 'Greens', 'Oranges', 'Reds',\n",
    "                'YlOrBr', 'YlOrRd', 'OrRd', 'PuRd', 'RdPu', 'BuPu',\n",
    "                'GnBu', 'PuBu', 'YlGnBu', 'PuBuGn', 'BuGn', 'YlGn','binary',\n",
    "                'gist_yarg', 'gist_gray', 'gray', 'bone',\n",
    "                'pink', 'spring', 'summer', 'autumn', 'winter', 'cool',\n",
    "                'Wistia', 'hot', 'afmhot', 'gist_heat', 'copper','PiYG', 'PRGn',\n",
    "                'BrBG', 'PuOr', 'RdGy', 'RdBu', 'RdYlBu',\n",
    "                'RdYlGn', 'Spectral', 'coolwarm', 'bwr', 'seismic',\n",
    "                'twilight', 'twilight_shifted', 'hsv','Pastel1', 'Pastel2',\n",
    "                'Paired', 'Accent', 'Dark2',\n",
    "                'Set1', 'Set2', 'Set3', 'tab10', 'tab20', 'tab20b',\n",
    "                'tab20c','flag', 'prism', 'ocean', 'gist_earth', 'terrain',\n",
    "                'gist_stern', 'gnuplot', 'gnuplot2', 'CMRmap',\n",
    "                'cubehelix', 'brg', 'gist_rainbow', 'rainbow', 'jet',\n",
    "                'turbo', 'nipy_spectral', 'gist_ncar']\n",
    "            threshold (_type_, optional): Value in data units according to which the colors\n",
    "                from textcolors are applied.  If None (the default) uses the middle of the\n",
    "                colormap as separation.  Optional.\n",
    "            pfig (bool, optional): _description_. Defaults to False.\n",
    "        \"\"\"\n",
    "        fig, ax = plt.subplots(figsize=(10, 10))\n",
    "        im, cbar = heatmap(self.correlation_matrix, self.variables, self.variables, ax=ax, cmap=cmap, cbarlabel=\"Correlation value\")\n",
    "        texts = annotate_heatmap(im, threshold=threshold, valfmt=\"{x:.2f}\")\n",
    "        ax.set_title(\"Correlation Matrix\")\n",
    "        plt.tight_layout()\n",
    "\n",
    "    def plot_eigenvalues_greater_than_one(self):\n",
    "        #plt.figure(figsize=(self.PC_index.shape[1], 5))\n",
    "        # grafico degli autovalori maggiori di 1\n",
    "        # da verificare un attimo se non rimane uguale all'autovalore medio\n",
    "        plt.axvline(\n",
    "            x=self.num_eigenvalues_greater_than_one-0.5, #lìultimo 1 è la condizione\n",
    "            color=\"brown\",\n",
    "            linestyle=\"-\",\n",
    "            label=\"Autovalori maggiori di 1\",\n",
    "        )\n",
    "        plt.xticks(range(self.PC_index.shape[1]), range(1,self.PC_index.shape[1]+1))\n",
    "        plt.xlabel(r\"$PC_i$\")\n",
    "        plt.legend(loc=\"best\")\n",
    "        plt.title(\"Eigenvalue\")\n",
    "\n",
    "    def plot_eigenvalues_variance(self):\n",
    "        #plt.figure(figsize=(self.PC_index.shape[1], 5))\n",
    "        # grafico degli autovalori\n",
    "        plt.bar(\n",
    "            x=self.PC_index[0, :],\n",
    "            height=(self.V_ordered/ self.V_ordered.sum()) * 100,\n",
    "            fill=False,\n",
    "            edgecolor=\"darkorange\",\n",
    "            label=\"Varianza %\",\n",
    "        )\n",
    "        plt.xticks(range(self.PC_index.shape[1]), range(1,self.PC_index.shape[1]+1))\n",
    "        plt.xlabel(r\"$PC_i$\")\n",
    "        plt.ylabel(r\"$\\lambda$%\")\n",
    "        plt.legend(loc=\"best\")\n",
    "        plt.title(\"Eigenvalue\")\n",
    "\n",
    "    def plot_cumulative_variance(self):\n",
    "        c = np.cumsum(self.V_ordered / self.V_ordered.sum()) * 100\n",
    "        plt.bar(\n",
    "            x=self.PC_index[0, :],\n",
    "            height=c,\n",
    "            fill=False,\n",
    "            edgecolor=\"black\",\n",
    "            linestyle=\"--\",\n",
    "            width=0.6,\n",
    "            label=\"Varianza cumulata %\",\n",
    "        )\n",
    "        plt.xticks(range(self.PC_index.shape[1]), range(1,self.PC_index.shape[1]+1))\n",
    "        plt.xlabel(r\"$PC_i$\")\n",
    "        plt.ylabel(r\"$\\lambda$%\")\n",
    "        plt.legend(loc=\"best\")\n",
    "        plt.title(\"Eigenvalue\")\n",
    "\n",
    "    def plot_average_eigenvalue_criterion(self):\n",
    "        plt.axvline(\n",
    "            x=np.argmax(self.V_ordered < self.V_ordered.mean()) - 0.5,\n",
    "            color=\"red\",\n",
    "            alpha=0.5,\n",
    "            linestyle=\"-\",\n",
    "            label=\"AEC\",\n",
    "        )\n",
    "        plt.xticks(range(self.PC_index.shape[1]), range(1,self.PC_index.shape[1]+1))\n",
    "        plt.xlabel(r\"$PC_i$\")\n",
    "        plt.ylabel(r\"$\\lambda$%\")\n",
    "        plt.legend(loc=\"best\")\n",
    "        plt.title(\"Eigenvalue\")\n",
    "\n",
    "    def plot_KP_criterion(self):\n",
    "        rank = np.linalg.matrix_rank(self.correlation_matrix)\n",
    "        sum_term = sum(self.V[m] / self.V.sum() - 1 / self.V.size for m in range(rank))\n",
    "        x = round(1+(self.V.size-1)*(1-((sum_term+(self.V.size-rank)**(1/self.V.size))/(2*(self.V.size-1)/self.V.size))))-1\n",
    "        plt.axvline(\n",
    "            x=x,\n",
    "            color=\"purple\",\n",
    "            alpha=0.5,\n",
    "            linestyle=\"--\",\n",
    "            label=\"KP\",\n",
    "        )\n",
    "        plt.xticks(range(self.PC_index.shape[1]), range(1,self.PC_index.shape[1]+1))\n",
    "        plt.xlabel(r\"$PC_i$\")\n",
    "        plt.ylabel(r\"$\\lambda$%\")\n",
    "        plt.legend(loc=\"best\")\n",
    "        plt.title(\"Eigenvalue\")\n",
    "\n",
    "    def plot_KL_criterion(self):\n",
    "        rank = np.linalg.matrix_rank(self.correlation_matrix)\n",
    "        sum_term = sum(self.V[m] / self.V.sum() - 1 / self.V.size for m in range(rank))\n",
    "        x = round(self.V.size**(1-(sum_term+(self.V.size-rank)**(1/self.V.size))/(2*(self.V.size-1)/self.V.size)))-1\n",
    "        plt.axvline(\n",
    "            x=x,\n",
    "            color=\"cyan\",\n",
    "            alpha=0.5,\n",
    "            linestyle=\"-\",\n",
    "            label=\"KL\",\n",
    "        )\n",
    "        plt.xticks(range(self.PC_index.shape[1]), range(1,self.PC_index.shape[1]+1))\n",
    "        plt.xlabel(r\"$PC_i$\")\n",
    "        plt.ylabel(r\"$\\lambda$%\")\n",
    "        plt.legend(loc=\"best\")\n",
    "        plt.title(\"Eigenvalue\")\n",
    "\n",
    "    def plot_CAEC_criterion(self):\n",
    "        plt.axvline(\n",
    "            x=np.argmax(self.V_ordered < 0.7 * self.V_ordered.mean())-0.5,\n",
    "            color=\"blue\",\n",
    "            alpha=0.5,\n",
    "            linestyle=\"--\",\n",
    "            label=\"CAEC\",\n",
    "        )\n",
    "        plt.xticks(range(self.PC_index.shape[1]), range(1,self.PC_index.shape[1]+1))\n",
    "        plt.xlabel(r\"$PC_i$\")\n",
    "        plt.ylabel(r\"$\\lambda$%\")\n",
    "        plt.legend(loc=\"best\")\n",
    "        plt.title(\"Eigenvalue\")\n",
    "\n",
    "    def plot_broken_stick(self):\n",
    "        n = self.V_ordered.shape[0]\n",
    "        dm = (100 / n) * np.cumsum(1 / np.arange(1, n + 1)[::-1])\n",
    "        plt.plot(self.PC_index[0, :], dm, color=\"lightgreen\", label=\"Broken stick\")\n",
    "        plt.xticks(range(self.PC_index.shape[1]), range(1,self.PC_index.shape[1]+1))\n",
    "        plt.xlabel(r\"$PC_i$\")\n",
    "        plt.ylabel(r\"$\\lambda$%\")\n",
    "        plt.legend(loc=\"best\")\n",
    "        plt.title(\"Eigenvalue\")\n",
    "    \n",
    "    def plot_eigenvalue(self):\n",
    "        self.plot_eigenvalues_greater_than_one()\n",
    "        self.plot_eigenvalues_variance()\n",
    "        self.plot_cumulative_variance()\n",
    "        self.plot_average_eigenvalue_criterion()\n",
    "        self.plot_KP_criterion()\n",
    "        self.plot_KL_criterion()\n",
    "        self.plot_CAEC_criterion()\n",
    "        self.plot_broken_stick()\n",
    "\n",
    "    def plot_hotteling_t2_vs_q(self):\n",
    "        # Calcola Q critico\n",
    "        #Q_critico =f_value/(self.T.shape[0]-self.T.shape[1])\n",
    "        # Crea il grafico\n",
    "        for i in range(len(self.Q)):\n",
    "            plt.plot(self.Q[i], self.T2[i], 'o', label=self.objects[i])\n",
    "        # Aggiungi il valore di T2 critico\n",
    "        #plt.axhline(y=T2_critico, color='r', linestyle='-', label=r\"$T^2_{crit}$\")\n",
    "        # Aggiungi il valore di Q critico\n",
    "        #plt.axvline(x=Q_critico, color='r', linestyle='-', label=r\"$Q_{crit}$\")\n",
    "        plt.xlabel(r'$Q$')\n",
    "        plt.ylabel(r'$Hotteling\\'s T^2$')\n",
    "        plt.legend(loc=\"best\")\n",
    "\n",
    "    def plot_pci_contribution(self, text_color=\"black\"):\n",
    "        for i in range(self.W.shape[1]):\n",
    "            plt.plot(np.arange(self.n_variables),self.W[:, i],marker=\"o\",markerfacecolor=\"none\",label=f\"PC$_{i+1}$\")\n",
    "        plt.title(f\"Contributions of the PC$_i$\")\n",
    "        plt.xticks(np.arange(self.n_variables), self.variables)\n",
    "        plt.legend(labelcolor=text_color)\n",
    "        plt.xlabel(\"Variable\")\n",
    "        plt.ylabel(\"Value of loading\")"
   ]
  },
  {
   "cell_type": "code",
   "execution_count": 21,
   "metadata": {},
   "outputs": [
    {
     "data": {
      "text/plain": [
       "array([[0.1260448 , 0.59587817, 0.66257952, 0.23675909, 0.33858079,\n",
       "        0.71085925, 0.90907461],\n",
       "       [0.45852389, 0.14186083, 0.36964145, 0.22096865, 0.02988953,\n",
       "        0.21223724, 0.74950164],\n",
       "       [0.04377749, 0.51023273, 0.63132159, 0.51451932, 0.57012741,\n",
       "        0.50098985, 0.40421292],\n",
       "       [0.50369028, 0.65144241, 0.46619063, 0.3292257 , 0.95796491,\n",
       "        0.5489219 , 0.80120335],\n",
       "       [0.05855644, 0.58299298, 0.4143239 , 0.90117696, 0.195852  ,\n",
       "        0.41848794, 0.59016871],\n",
       "       [0.70968468, 0.02565437, 0.7049892 , 0.98985256, 0.70413744,\n",
       "        0.87113816, 0.44266724],\n",
       "       [0.1112798 , 0.91473441, 0.05703345, 0.66573038, 0.17179616,\n",
       "        0.19956205, 0.74020504],\n",
       "       [0.5478295 , 0.3480536 , 0.54526865, 0.94253586, 0.87389958,\n",
       "        0.71718957, 0.74767998],\n",
       "       [0.5101454 , 0.62602832, 0.22973872, 0.1641747 , 0.45377617,\n",
       "        0.81405562, 0.53361167],\n",
       "       [0.93286916, 0.60143479, 0.52148836, 0.11913704, 0.07543982,\n",
       "        0.37848978, 0.27717522]])"
      ]
     },
     "execution_count": 21,
     "metadata": {},
     "output_type": "execute_result"
    }
   ],
   "source": [
    "import numpy as np\n",
    "\n",
    "n = 10\n",
    "m = 7\n",
    "X = np.random.rand(n, m)\n",
    "X"
   ]
  },
  {
   "cell_type": "code",
   "execution_count": 22,
   "metadata": {},
   "outputs": [
    {
     "data": {
      "image/png": "[encoded data removed]",
      "text/plain": [
       "<Figure size 640x480 with 1 Axes>"
      ]
     },
     "metadata": {},
     "output_type": "display_data"
    }
   ],
   "source": [
    "pca=PrincipalComponentAnalysis(X)\n",
    "pca.fit()\n",
    "#pca.plot_correlation_matrix()\n",
    "pca.plot_eigenvalue()"
   ]
  },
  {
   "cell_type": "code",
   "execution_count": 23,
   "metadata": {},
   "outputs": [],
   "source": [
    "pca.reduction(4)\n",
    "pca.statistics()"
   ]
  },
  {
   "cell_type": "code",
   "execution_count": 24,
   "metadata": {},
   "outputs": [
    {
     "data": {
      "text/plain": [
       "array([[-0.89608617, -0.72140959,  0.16244938, -1.24938199],\n",
       "       [ 0.04080433,  1.85860625,  1.09750191, -0.7061511 ],\n",
       "       [ 0.36587448, -1.09692507,  1.32802101,  0.51885823],\n",
       "       [-1.20508934,  0.14385303, -0.84054654,  0.63274726],\n",
       "       [ 1.33881753, -0.99584151,  0.20313758, -0.24038058],\n",
       "       [-1.7922162 , -1.154267  ,  0.28640721,  0.55801457],\n",
       "       [ 2.4522609 ,  0.42415241, -1.07643231,  0.00441766],\n",
       "       [-1.59560546, -1.05309433, -0.84668891,  0.57155396],\n",
       "       [ 0.35523206,  0.68942681, -0.92011779,  0.6256682 ],\n",
       "       [ 0.93600787,  1.90549899,  0.60626848, -0.7153462 ]])"
      ]
     },
     "execution_count": 24,
     "metadata": {},
     "output_type": "execute_result"
    }
   ],
   "source": [
    "pca.T"
   ]
  },
  {
   "cell_type": "code",
   "execution_count": 25,
   "metadata": {},
   "outputs": [
    {
     "data": {
      "text/plain": [
       "<BarContainer object of 7 artists>"
      ]
     },
     "execution_count": 25,
     "metadata": {},
     "output_type": "execute_result"
    },
    {
     "data": {
      "image/png": "[encoded data removed]",
      "text/plain": [
       "<Figure size 640x480 with 1 Axes>"
      ]
     },
     "metadata": {},
     "output_type": "display_data"
    }
   ],
   "source": [
    "plt.bar(([0,1,2,3,4,5,6]),pca.T2con[1,:])"
   ]
  },
  {
   "cell_type": "code",
   "execution_count": 26,
   "metadata": {},
   "outputs": [
    {
     "data": {
      "image/png": "[encoded data removed]",
      "text/plain": [
       "<Figure size 640x480 with 1 Axes>"
      ]
     },
     "metadata": {},
     "output_type": "display_data"
    }
   ],
   "source": [
    "pca.plot_pci_contribution()\n",
    "\n"
   ]
  },
  {
   "cell_type": "code",
   "execution_count": 9,
   "metadata": {},
   "outputs": [
    {
     "name": "stderr",
     "output_type": "stream",
     "text": [
      "C:\\Users\\Admin\\AppData\\Local\\Temp\\ipykernel_2072\\1787670839.py:18: RuntimeWarning: invalid value encountered in scalar divide\n",
      "  ho = 1 - (2 * t1 * t3) / (3 * t2 ** 2)\n"
     ]
    }
   ],
   "source": [
    "#Sì, posso convertire il codice MATLAB in codice Python. Ecco un esempio di come potrebbe essere fatto:\n",
    "from scipy.stats import f, norm\n",
    "import numpy as np\n",
    "\n",
    "lev_conf = 0.95\n",
    "comp = pca.n_component # insert the value of comp here\n",
    "nobj = pca.n_objects # insert the value of nobj here\n",
    "E = np.diag(pca.V_ordered[:pca.n_component]**(2/(nobj-1)))# insert the values of E here\n",
    "\n",
    "# T2 limit\n",
    "F = f.ppf(lev_conf, comp, nobj - comp)\n",
    "tlim = comp * (nobj - 1) / (nobj - comp) * F\n",
    "\n",
    "# Q limit\n",
    "t1 = np.sum(E[comp:] ** 1)\n",
    "t2 = np.sum(E[comp:] ** 2)\n",
    "t3 = np.sum(E[comp:] ** 3)\n",
    "ho = 1 - (2 * t1 * t3) / (3 * t2 ** 2)\n",
    "ca = norm.ppf(0.95, 0, 1)\n",
    "term1 = (ho * ca * (2 * t2) ** 0.5) / t1\n",
    "term2 = (t2 * ho * (ho - 1)) / (t1 ** 2)\n",
    "qlim = t1 * (term1 + 1 + term2) ** (1 / ho)"
   ]
  },
  {
   "cell_type": "code",
   "execution_count": 10,
   "metadata": {},
   "outputs": [
    {
     "name": "stdout",
     "output_type": "stream",
     "text": [
      "27.20206170165146\n"
     ]
    }
   ],
   "source": [
    "print(tlim)"
   ]
  },
  {
   "cell_type": "code",
   "execution_count": 11,
   "metadata": {},
   "outputs": [
    {
     "name": "stdout",
     "output_type": "stream",
     "text": [
      "0.0\n"
     ]
    }
   ],
   "source": [
    "print(t1)"
   ]
  },
  {
   "cell_type": "code",
   "execution_count": 12,
   "metadata": {},
   "outputs": [
    {
     "ename": "SyntaxError",
     "evalue": "invalid syntax (2939310204.py, line 1)",
     "output_type": "error",
     "traceback": [
      "\u001b[1;36m  Cell \u001b[1;32mIn[12], line 1\u001b[1;36m\u001b[0m\n\u001b[1;33m    np.sum(E[comp:] ** 1)E[comp:] ** 2\u001b[0m\n\u001b[1;37m                         ^\u001b[0m\n\u001b[1;31mSyntaxError\u001b[0m\u001b[1;31m:\u001b[0m invalid syntax\n"
     ]
    }
   ],
   "source": [
    "np.sum(E[comp:] ** 1)E[comp:] ** 2"
   ]
  },
  {
   "cell_type": "code",
   "execution_count": null,
   "metadata": {},
   "outputs": [
    {
     "data": {
      "text/plain": [
       "array([], shape=(0, 4), dtype=float64)"
      ]
     },
     "execution_count": 27,
     "metadata": {},
     "output_type": "execute_result"
    }
   ],
   "source": [
    "E[comp:] ** 2"
   ]
  },
  {
   "cell_type": "code",
   "execution_count": null,
   "metadata": {},
   "outputs": [],
   "source": [
    "def hotellings_t2_critical_value(pca, alpha):\n",
    "    p = pca.n_variables\n",
    "    n = pca.n_objects\n",
    "    f_critical_value = f.ppf(1 - alpha, p, n - p)\n",
    "    T2_critical_value = (p * (n - 1)) / (n - p) * f_critical_value\n",
    "    return T2_critical_value"
   ]
  },
  {
   "cell_type": "code",
   "execution_count": null,
   "metadata": {},
   "outputs": [
    {
     "data": {
      "text/plain": [
       "24.111761370660588"
      ]
     },
     "execution_count": 36,
     "metadata": {},
     "output_type": "execute_result"
    }
   ],
   "source": [
    "hotellings_t2_critical_value(pca=pca, alpha=0.5)"
   ]
  },
  {
   "cell_type": "code",
   "execution_count": null,
   "metadata": {},
   "outputs": [],
   "source": []
  }
 ],
 "metadata": {
  "kernelspec": {
   "display_name": "chemtools",
   "language": "python",
   "name": "python3"
  },
  "language_info": {
   "codemirror_mode": {
    "name": "ipython",
    "version": 3
   },
   "file_extension": ".py",
   "mimetype": "text/x-python",
   "name": "python",
   "nbconvert_exporter": "python",
   "pygments_lexer": "ipython3",
   "version": "3.11.0"
  },
  "orig_nbformat": 4
 },
 "nbformat": 4,
 "nbformat_minor": 2
}
