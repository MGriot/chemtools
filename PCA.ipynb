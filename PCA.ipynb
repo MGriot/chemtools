{
 "cells": [
  {
   "attachments": {},
   "cell_type": "markdown",
   "metadata": {},
   "source": [
    "# PCA"
   ]
  },
  {
   "attachments": {},
   "cell_type": "markdown",
   "metadata": {},
   "source": [
    "# Old"
   ]
  },
  {
   "cell_type": "markdown",
   "metadata": {},
   "source": [
    "https://www.pythonmorsels.com/making-auto-updating-attribute/"
   ]
  },
  {
   "cell_type": "code",
   "execution_count": null,
   "metadata": {},
   "outputs": [],
   "source": [
    "import numpy as np\n",
    "import pandas as pd\n",
    "import ipywidgets as widgets\n",
    "from chemtools.exploration import PrincipalComponentAnalysis as pca"
   ]
  },
  {
   "cell_type": "code",
   "execution_count": null,
   "metadata": {},
   "outputs": [
    {
     "data": {
      "application/vnd.jupyter.widget-view+json": {
       "model_id": "52cc99d33ab84cf784e2fc7a6f238177",
       "version_major": 2,
       "version_minor": 0
      },
      "text/plain": [
       "Dropdown(description='Data sheet:', options=('MATRICE DEI DATI',), value='MATRICE DEI DATI')"
      ]
     },
     "metadata": {},
     "output_type": "display_data"
    }
   ],
   "source": [
    "f = \"icp.xlsx\"\n",
    "data = pd.ExcelFile(f)\n",
    "\n",
    "shet = widgets.Dropdown(\n",
    "    options=data.sheet_names,\n",
    "    description='Data sheet:',\n",
    "    disabled=False,\n",
    ")\n",
    "display(shet)\n"
   ]
  },
  {
   "cell_type": "code",
   "execution_count": null,
   "metadata": {},
   "outputs": [
    {
     "data": {
      "text/html": [
       "<div>\n",
       "<style scoped>\n",
       "    .dataframe tbody tr th:only-of-type {\n",
       "        vertical-align: middle;\n",
       "    }\n",
       "\n",
       "    .dataframe tbody tr th {\n",
       "        vertical-align: top;\n",
       "    }\n",
       "\n",
       "    .dataframe thead th {\n",
       "        text-align: right;\n",
       "    }\n",
       "</style>\n",
       "<table border=\"1\" class=\"dataframe\">\n",
       "  <thead>\n",
       "    <tr style=\"text-align: right;\">\n",
       "      <th></th>\n",
       "      <th>CAMPIONI</th>\n",
       "      <th>Cr</th>\n",
       "      <th>Cu</th>\n",
       "      <th>Mo</th>\n",
       "      <th>Mn</th>\n",
       "      <th>Ni</th>\n",
       "      <th>Pb</th>\n",
       "      <th>V</th>\n",
       "    </tr>\n",
       "  </thead>\n",
       "  <tbody>\n",
       "    <tr>\n",
       "      <th>0</th>\n",
       "      <td>graffetta</td>\n",
       "      <td>0.012097</td>\n",
       "      <td>0.012704</td>\n",
       "      <td>0.002444</td>\n",
       "      <td>0.208169</td>\n",
       "      <td>0.017511</td>\n",
       "      <td>0.002835</td>\n",
       "      <td>0.000049</td>\n",
       "    </tr>\n",
       "    <tr>\n",
       "      <th>1</th>\n",
       "      <td>orologio</td>\n",
       "      <td>0.034978</td>\n",
       "      <td>0.172011</td>\n",
       "      <td>0.010050</td>\n",
       "      <td>0.529800</td>\n",
       "      <td>0.069733</td>\n",
       "      <td>0.005294</td>\n",
       "      <td>0.001963</td>\n",
       "    </tr>\n",
       "    <tr>\n",
       "      <th>2</th>\n",
       "      <td>filo</td>\n",
       "      <td>13.853548</td>\n",
       "      <td>0.256657</td>\n",
       "      <td>1.849671</td>\n",
       "      <td>1.210907</td>\n",
       "      <td>5.640097</td>\n",
       "      <td>0.002278</td>\n",
       "      <td>0.043808</td>\n",
       "    </tr>\n",
       "    <tr>\n",
       "      <th>3</th>\n",
       "      <td>taglierino</td>\n",
       "      <td>0.048148</td>\n",
       "      <td>0.048881</td>\n",
       "      <td>0.008404</td>\n",
       "      <td>0.643808</td>\n",
       "      <td>0.048588</td>\n",
       "      <td>0.003300</td>\n",
       "      <td>0.064381</td>\n",
       "    </tr>\n",
       "    <tr>\n",
       "      <th>4</th>\n",
       "      <td>fascetta</td>\n",
       "      <td>0.306884</td>\n",
       "      <td>0.005591</td>\n",
       "      <td>0.003174</td>\n",
       "      <td>0.241652</td>\n",
       "      <td>0.018525</td>\n",
       "      <td>0.003074</td>\n",
       "      <td>0.003807</td>\n",
       "    </tr>\n",
       "    <tr>\n",
       "      <th>5</th>\n",
       "      <td>foglio</td>\n",
       "      <td>13.250971</td>\n",
       "      <td>0.060986</td>\n",
       "      <td>0.012153</td>\n",
       "      <td>0.419739</td>\n",
       "      <td>0.105570</td>\n",
       "      <td>0.002260</td>\n",
       "      <td>0.094532</td>\n",
       "    </tr>\n",
       "    <tr>\n",
       "      <th>6</th>\n",
       "      <td>siringa</td>\n",
       "      <td>15.549177</td>\n",
       "      <td>0.250666</td>\n",
       "      <td>0.368831</td>\n",
       "      <td>1.734079</td>\n",
       "      <td>7.103451</td>\n",
       "      <td>0.001649</td>\n",
       "      <td>0.052999</td>\n",
       "    </tr>\n",
       "    <tr>\n",
       "      <th>7</th>\n",
       "      <td>spillo</td>\n",
       "      <td>0.031947</td>\n",
       "      <td>0.024526</td>\n",
       "      <td>0.007279</td>\n",
       "      <td>0.550200</td>\n",
       "      <td>2.020916</td>\n",
       "      <td>0.004162</td>\n",
       "      <td>0.001548</td>\n",
       "    </tr>\n",
       "    <tr>\n",
       "      <th>8</th>\n",
       "      <td>filo_2</td>\n",
       "      <td>0.047820</td>\n",
       "      <td>0.049092</td>\n",
       "      <td>0.008041</td>\n",
       "      <td>0.108227</td>\n",
       "      <td>0.049431</td>\n",
       "      <td>0.003818</td>\n",
       "      <td>0.047703</td>\n",
       "    </tr>\n",
       "    <tr>\n",
       "      <th>9</th>\n",
       "      <td>lama</td>\n",
       "      <td>9.996651</td>\n",
       "      <td>0.012189</td>\n",
       "      <td>0.022664</td>\n",
       "      <td>0.702806</td>\n",
       "      <td>0.084975</td>\n",
       "      <td>0.003147</td>\n",
       "      <td>0.026613</td>\n",
       "    </tr>\n",
       "    <tr>\n",
       "      <th>10</th>\n",
       "      <td>penna</td>\n",
       "      <td>0.206072</td>\n",
       "      <td>0.017137</td>\n",
       "      <td>0.002721</td>\n",
       "      <td>0.285841</td>\n",
       "      <td>0.600677</td>\n",
       "      <td>0.005588</td>\n",
       "      <td>0.002039</td>\n",
       "    </tr>\n",
       "    <tr>\n",
       "      <th>11</th>\n",
       "      <td>trucioli</td>\n",
       "      <td>0.114131</td>\n",
       "      <td>0.127671</td>\n",
       "      <td>0.022456</td>\n",
       "      <td>1.032333</td>\n",
       "      <td>0.071577</td>\n",
       "      <td>0.188105</td>\n",
       "      <td>0.002196</td>\n",
       "    </tr>\n",
       "  </tbody>\n",
       "</table>\n",
       "</div>"
      ],
      "text/plain": [
       "      CAMPIONI         Cr        Cu        Mo        Mn        Ni        Pb  \\\n",
       "0    graffetta   0.012097  0.012704  0.002444  0.208169  0.017511  0.002835   \n",
       "1     orologio   0.034978  0.172011  0.010050  0.529800  0.069733  0.005294   \n",
       "2         filo  13.853548  0.256657  1.849671  1.210907  5.640097  0.002278   \n",
       "3   taglierino   0.048148  0.048881  0.008404  0.643808  0.048588  0.003300   \n",
       "4     fascetta   0.306884  0.005591  0.003174  0.241652  0.018525  0.003074   \n",
       "5       foglio  13.250971  0.060986  0.012153  0.419739  0.105570  0.002260   \n",
       "6      siringa  15.549177  0.250666  0.368831  1.734079  7.103451  0.001649   \n",
       "7       spillo   0.031947  0.024526  0.007279  0.550200  2.020916  0.004162   \n",
       "8       filo_2   0.047820  0.049092  0.008041  0.108227  0.049431  0.003818   \n",
       "9         lama   9.996651  0.012189  0.022664  0.702806  0.084975  0.003147   \n",
       "10      penna    0.206072  0.017137  0.002721  0.285841  0.600677  0.005588   \n",
       "11    trucioli   0.114131  0.127671  0.022456  1.032333  0.071577  0.188105   \n",
       "\n",
       "           V  \n",
       "0   0.000049  \n",
       "1   0.001963  \n",
       "2   0.043808  \n",
       "3   0.064381  \n",
       "4   0.003807  \n",
       "5   0.094532  \n",
       "6   0.052999  \n",
       "7   0.001548  \n",
       "8   0.047703  \n",
       "9   0.026613  \n",
       "10  0.002039  \n",
       "11  0.002196  "
      ]
     },
     "metadata": {},
     "output_type": "display_data"
    }
   ],
   "source": [
    "df = pd.read_excel(f, sheet_name=shet.value)\n",
    "df\n"
   ]
  },
  {
   "cell_type": "code",
   "execution_count": null,
   "metadata": {},
   "outputs": [],
   "source": [
    "pca=pca(df, variable_name_column=[1,7], sample_name_row=[\"CAMPIONI\"])"
   ]
  },
  {
   "cell_type": "code",
   "execution_count": null,
   "metadata": {},
   "outputs": [
    {
     "data": {
      "text/plain": [
       "2"
      ]
     },
     "metadata": {},
     "output_type": "display_data"
    }
   ],
   "source": [
    "np.argmax(pca.PC_index[2, :] < pca.PC_index[2, :].mean())"
   ]
  },
  {
   "cell_type": "code",
   "execution_count": null,
   "metadata": {},
   "outputs": [],
   "source": [
    "pca.eigenvalues_plot()"
   ]
  },
  {
   "cell_type": "markdown",
   "metadata": {},
   "source": [
    "## Altri parametri PCA per numero minimo di PC"
   ]
  },
  {
   "cell_type": "code",
   "execution_count": null,
   "metadata": {},
   "outputs": [],
   "source": [
    "from chemtools.preprocessing import matrix_variance"
   ]
  },
  {
   "cell_type": "code",
   "execution_count": null,
   "metadata": {},
   "outputs": [
    {
     "name": "stdout",
     "output_type": "stream",
     "text": [
      "6.000000000000001\n",
      "[0.62261273 0.20125269 0.082616   0.05619659 0.0088393  0.02848269]\n",
      "1.0000000000000002\n",
      "0.9810641755348972\n",
      "1.6666666666666667\n",
      "0.5886385053209383\n",
      "\n",
      "\n"
     ]
    },
    {
     "ename": "NameError",
     "evalue": "name 'p' is not defined",
     "output_type": "error",
     "traceback": [
      "\u001b[1;31m---------------------------------------------------------------------------\u001b[0m\n",
      "\u001b[1;31mNameError\u001b[0m                                 Traceback (most recent call last)\n",
      "Cell \u001b[1;32mIn[8], line 14\u001b[0m\n",
      "\u001b[0;32m     12\u001b[0m \u001b[39mprint\u001b[39m(K)\n",
      "\u001b[0;32m     13\u001b[0m \u001b[39mprint\u001b[39m(\u001b[39m\"\u001b[39m\u001b[39m\\n\u001b[39;00m\u001b[39m\"\u001b[39m)\n",
      "\u001b[1;32m---> 14\u001b[0m KLtmp \u001b[39m=\u001b[39m (\u001b[39m1\u001b[39m \u001b[39m+\u001b[39m (p\u001b[39m-\u001b[39m\u001b[39m1\u001b[39m)\u001b[39m*\u001b[39m(\u001b[39m1\u001b[39m\u001b[39m-\u001b[39mK))\n",
      "\u001b[0;32m     15\u001b[0m \u001b[39mprint\u001b[39m(KLtmp)\n",
      "\u001b[0;32m     16\u001b[0m KL \u001b[39m=\u001b[39m \u001b[39mround\u001b[39m(KLtmp)\n",
      "\n",
      "\u001b[1;31mNameError\u001b[0m: name 'p' is not defined"
     ]
    }
   ],
   "source": [
    "sum_eig=pca.V.sum()\n",
    "print(sum_eig)\n",
    "exp_var=pca.V/sum_eig\n",
    "print(exp_var)\n",
    "mean_eig=pca.V.mean()\n",
    "print(mean_eig)\n",
    "num = sum(abs(exp_var - (mean_eig/sum_eig)))\n",
    "print(num)\n",
    "den = den = 2*(sum_eig - mean_eig)/sum_eig\n",
    "print(den)\n",
    "K=(num/den)\n",
    "print(K)\n",
    "print(\"\\n\")\n",
    "KLtmp = (1 + (p-1)*(1-K))\n",
    "print(KLtmp)\n",
    "KL = round(KLtmp)\n",
    "print(KL)\n",
    "KPtmp = pca.V.size ** (1-K)\n",
    "KP = round(KPtmp)\n",
    "print(KP)\n"
   ]
  },
  {
   "cell_type": "code",
   "execution_count": null,
   "metadata": {},
   "outputs": [
    {
     "data": {
      "text/plain": [
       "array([[ 0.16666667,  0.09464552,  0.09326822,  0.1091773 ,  0.11401943,\n",
       "        -0.03739764],\n",
       "       [ 0.09464552,  0.16666667,  0.1147372 ,  0.13650438,  0.13038941,\n",
       "         0.02203795],\n",
       "       [ 0.09326822,  0.1147372 ,  0.16666667,  0.08721288,  0.11663185,\n",
       "        -0.01829091],\n",
       "       [ 0.1091773 ,  0.13650438,  0.08721288,  0.16666667,  0.13727747,\n",
       "         0.04135398],\n",
       "       [ 0.11401943,  0.13038941,  0.11663185,  0.13727747,  0.16666667,\n",
       "        -0.02860526],\n",
       "       [-0.03739764,  0.02203795, -0.01829091,  0.04135398, -0.02860526,\n",
       "         0.16666667]])"
      ]
     },
     "metadata": {},
     "output_type": "display_data"
    }
   ],
   "source": [
    "variance_m=matrix_variance(pca.x)\n",
    "variance_m"
   ]
  },
  {
   "cell_type": "code",
   "execution_count": null,
   "metadata": {},
   "outputs": [],
   "source": [
    "eigenvalue=pca.V\n",
    "p = pca.V.size\n",
    "x=pca.correlation_matrix\n",
    "j= pca.V.size"
   ]
  },
  {
   "cell_type": "code",
   "execution_count": null,
   "metadata": {},
   "outputs": [
    {
     "data": {
      "text/plain": [
       "6"
      ]
     },
     "metadata": {},
     "output_type": "display_data"
    }
   ],
   "source": [
    "n = np.linalg.matrix_rank(variance_m)\n",
    "n"
   ]
  },
  {
   "cell_type": "code",
   "execution_count": null,
   "metadata": {},
   "outputs": [
    {
     "data": {
      "text/plain": [
       "array([0.62261273, 0.20125269, 0.082616  , 0.05619659, 0.0088393 ,\n",
       "       0.02848269])"
      ]
     },
     "metadata": {},
     "output_type": "display_data"
    }
   ],
   "source": [
    "EV=[]\n",
    "for i in range(pca.V.size):\n",
    "    EV = np.append(EV,eigenvalue[i]/(eigenvalue.sum()))\n",
    "EV\n"
   ]
  },
  {
   "cell_type": "code",
   "execution_count": null,
   "metadata": {},
   "outputs": [
    {
     "data": {
      "text/plain": [
       "0.0"
      ]
     },
     "metadata": {},
     "output_type": "display_data"
    }
   ],
   "source": [
    "(EV-(1/(pca.V.size))).sum() #numeratore\n"
   ]
  },
  {
   "cell_type": "code",
   "execution_count": null,
   "metadata": {},
   "outputs": [
    {
     "data": {
      "text/plain": [
       "1.6666666666666667"
      ]
     },
     "metadata": {},
     "output_type": "display_data"
    }
   ],
   "source": [
    "2*(pca.V.size-1)/pca.V.size #denominatore\n"
   ]
  },
  {
   "cell_type": "code",
   "execution_count": null,
   "metadata": {},
   "outputs": [
    {
     "ename": "NameError",
     "evalue": "name 'k' is not defined",
     "output_type": "error",
     "traceback": [
      "\u001b[1;31m---------------------------------------------------------------------------\u001b[0m\n",
      "\u001b[1;31mNameError\u001b[0m                                 Traceback (most recent call last)\n",
      "Cell \u001b[1;32mIn[15], line 2\u001b[0m\n",
      "\u001b[0;32m      1\u001b[0m K\u001b[39m=\u001b[39m(EV\u001b[39m-\u001b[39m\u001b[39m1\u001b[39m\u001b[39m/\u001b[39m(pca\u001b[39m.\u001b[39mV\u001b[39m.\u001b[39msize))\u001b[39m.\u001b[39msum()\u001b[39m/\u001b[39m(\u001b[39m2\u001b[39m\u001b[39m*\u001b[39m(pca\u001b[39m.\u001b[39mV\u001b[39m.\u001b[39msize\u001b[39m-\u001b[39m\u001b[39m1\u001b[39m)\u001b[39m/\u001b[39mpca\u001b[39m.\u001b[39mV\u001b[39m.\u001b[39msize)\n",
      "\u001b[1;32m----> 2\u001b[0m k\n",
      "\n",
      "\u001b[1;31mNameError\u001b[0m: name 'k' is not defined"
     ]
    }
   ],
   "source": [
    "K=(EV-1/(pca.V.size)).sum()/(2*(pca.V.size-1)/pca.V.size)\n",
    "k\n"
   ]
  },
  {
   "cell_type": "code",
   "execution_count": null,
   "metadata": {},
   "outputs": [
    {
     "ename": "NameError",
     "evalue": "name 'k' is not defined",
     "output_type": "error",
     "traceback": [
      "\u001b[1;31m---------------------------------------------------------------------------\u001b[0m\n",
      "\u001b[1;31mNameError\u001b[0m                                 Traceback (most recent call last)\n",
      "Cell \u001b[1;32mIn[16], line 1\u001b[0m\n",
      "\u001b[1;32m----> 1\u001b[0m \u001b[39mround\u001b[39m(\u001b[39m1\u001b[39m\u001b[39m+\u001b[39m(j\u001b[39m-\u001b[39m\u001b[39m1\u001b[39m)\u001b[39m*\u001b[39m(\u001b[39m1\u001b[39m\u001b[39m-\u001b[39mk))\n",
      "\n",
      "\u001b[1;31mNameError\u001b[0m: name 'k' is not defined"
     ]
    }
   ],
   "source": [
    "round(1+(j-1)*(1-k))\n"
   ]
  },
  {
   "cell_type": "code",
   "execution_count": null,
   "metadata": {},
   "outputs": [
    {
     "data": {
      "text/plain": [
       "0.0"
      ]
     },
     "metadata": {},
     "output_type": "display_data"
    }
   ],
   "source": [
    "a = sum(eigenvalue[m]/eigenvalue.sum()-1/p for m in range(n))\n",
    "a"
   ]
  },
  {
   "cell_type": "code",
   "execution_count": null,
   "metadata": {},
   "outputs": [
    {
     "data": {
      "text/plain": [
       "0.0"
      ]
     },
     "metadata": {},
     "output_type": "display_data"
    }
   ],
   "source": [
    "k=(a+(p-n)**(1/p))/(2*(p-1)/p)\n",
    "k"
   ]
  },
  {
   "cell_type": "code",
   "execution_count": null,
   "metadata": {},
   "outputs": [
    {
     "data": {
      "text/plain": [
       "6"
      ]
     },
     "metadata": {},
     "output_type": "display_data"
    }
   ],
   "source": [
    "kl=round(1+(j-1)*(1-k))\n",
    "kl"
   ]
  },
  {
   "cell_type": "code",
   "execution_count": null,
   "metadata": {},
   "outputs": [
    {
     "data": {
      "text/plain": [
       "6"
      ]
     },
     "metadata": {},
     "output_type": "display_data"
    }
   ],
   "source": [
    "kp=round(j**(1-k))\n",
    "kp"
   ]
  },
  {
   "cell_type": "markdown",
   "metadata": {},
   "source": [
    "https://www.sciencedirect.com/science/article/pii/S0169743998001245\n",
    "https://www.academia.edu/6648469/The_K_correlation_index_theory_development_and_its_application_in_chemometrics\n",
    "https://www.youtube.com/watch?v=JtrPvAdVJiM&ab_channel=Mattoscacco"
   ]
  },
  {
   "attachments": {},
   "cell_type": "markdown",
   "metadata": {},
   "source": [
    "# New"
   ]
  },
  {
   "cell_type": "code",
   "execution_count": 5,
   "metadata": {},
   "outputs": [],
   "source": [
    "import pandas as pd\n",
    "import numpy as np\n",
    "from scipy.stats import f, norm\n",
    "import matplotlib.pyplot as plt\n",
    "import matplotlib.patches as patches\n",
    "\n",
    "from chemtools.preprocessing import autoscaling\n",
    "from chemtools.preprocessing.matrix_standard_deviation import matrix_standard_deviation\n",
    "from chemtools.preprocessing import correlation_matrix\n",
    "from chemtools.preprocessing import diagonalized_matrix\n",
    "from chemtools.utility import reorder_array\n",
    "from chemtools.utility import heatmap\n",
    "from chemtools.utility import annotate_heatmap\n",
    "from chemtools.utility.set_names import set_objects_names, set_variables_names\n",
    "from chemtools.utility import random_colorHEX\n",
    "\n",
    "class PrincipalComponentAnalysis:\n",
    "    def __init__(self,X, variables_names=None, objects_names=None):\n",
    "        self.X=X\n",
    "        self.variables=set_variables_names(self.X,variables_names)\n",
    "        self.objects=set_objects_names(self.X,objects_names)\n",
    "        self.n_variables=self.X.shape[1]\n",
    "        self.n_objects=self.X.shape[0]\n",
    "        self.variables_colors=self.change_variables_colors()\n",
    "        self.objects_colors=self.change_objects_colors()\n",
    "    \n",
    "    def fit(self):\n",
    "        # Calcola la media\n",
    "        self.mean = np.mean(self.X, axis=0)\n",
    "        #calcola le deviazioni standard della matrice\n",
    "        self.std=matrix_standard_deviation(self.X, mode=\"column\")\n",
    "        # Calcola la matrice autoscalata\n",
    "        self.X_autoscaled = autoscaling(self.X)\n",
    "        #Calcola la matrice do covarianza\n",
    "        self.correlation_matrix = correlation_matrix(self.X_autoscaled)\n",
    "        # eighenvalue enighenvector\n",
    "        self.V, self.L = diagonalized_matrix(self.correlation_matrix)\n",
    "        self.V_ordered, self.order = reorder_array(self.V)\n",
    "        \n",
    "        # riordino le PCi\n",
    "        PC_index = np.array([[\"PC{}\".format(i+1) for i in range(self.V.shape[0])], self.order, self.V_ordered])\n",
    "        self.PC_index = PC_index\n",
    "        self.number_of_PC = self.L.shape[1]\n",
    "        \n",
    "        self.L_ordered=self.L[self.order]\n",
    "        # Criteri scelta nPC\n",
    "        self.num_eigenvalues_greater_than_one=np.argmax(pca.V_ordered < 1)\n",
    "    \n",
    "    def reduction(self, n_components):\n",
    "        self.n_component = n_components\n",
    "        self.V_reduced=self.V_ordered[:n_components]\n",
    "        # Calcola la matrice di trasformazione\n",
    "        self.W = self.L_ordered[:, :n_components]\n",
    "        # Riduce la dimensionalità dei dati\n",
    "        self.T = np.dot(self.X_autoscaled, self.W)\n",
    "    \n",
    "    def statistics(self,alpha=0.05):\n",
    "        self.X_reconstructed = np.dot(self.T, self.W.T)\n",
    "        self.E = self.X_autoscaled - self.X_reconstructed\n",
    "        self.T2 = np.diag(self.T @ np.diag(self.V_ordered[:self.n_component] ** (-1)) @ self.T.T)\n",
    "        self.T2con = self.T @ np.diag(self.V_ordered[:self.n_component] ** (-1 / 2)) @ self.W.T\n",
    "        self.Q = np.sum(self.E ** 2, axis=1)\n",
    "        self.Qcon = self.E\n",
    "        self.T2_critical_value=self.hotellings_t2_critical_value(alpha=alpha)\n",
    "    \n",
    "\n",
    "    def hotellings_t2_critical_value(self, alpha=0.05):\n",
    "        p = self.n_variables\n",
    "        n = self.n_objects\n",
    "        f_critical_value = f.ppf(1 - alpha, p, n - p)\n",
    "        return (p * (n - 1)) / (n - p) * f_critical_value\n",
    "    \n",
    "    def change_variables_colors(self):\n",
    "        return random_colorHEX(self.n_variables)\n",
    "    def change_objects_colors(self):\n",
    "        return random_colorHEX(self.n_objects)\n",
    "\n",
    "    ### PLots ----------------------------------------------------------------\n",
    "    def plot_correlation_matrix(self, cmap=\"coolwarm\", threshold=None):\n",
    "        \"\"\"_summary_\n",
    "\n",
    "        Args:\n",
    "            cmap (str, optional): Colormap color. Defaults to \"coolwarm\".\n",
    "                ['viridis', 'plasma', 'inferno', 'magma', 'cividis', 'Greys',\n",
    "                'Purples', 'Blues', 'Greens', 'Oranges', 'Reds',\n",
    "                'YlOrBr', 'YlOrRd', 'OrRd', 'PuRd', 'RdPu', 'BuPu',\n",
    "                'GnBu', 'PuBu', 'YlGnBu', 'PuBuGn', 'BuGn', 'YlGn','binary',\n",
    "                'gist_yarg', 'gist_gray', 'gray', 'bone',\n",
    "                'pink', 'spring', 'summer', 'autumn', 'winter', 'cool',\n",
    "                'Wistia', 'hot', 'afmhot', 'gist_heat', 'copper','PiYG', 'PRGn',\n",
    "                'BrBG', 'PuOr', 'RdGy', 'RdBu', 'RdYlBu',\n",
    "                'RdYlGn', 'Spectral', 'coolwarm', 'bwr', 'seismic',\n",
    "                'twilight', 'twilight_shifted', 'hsv','Pastel1', 'Pastel2',\n",
    "                'Paired', 'Accent', 'Dark2',\n",
    "                'Set1', 'Set2', 'Set3', 'tab10', 'tab20', 'tab20b',\n",
    "                'tab20c','flag', 'prism', 'ocean', 'gist_earth', 'terrain',\n",
    "                'gist_stern', 'gnuplot', 'gnuplot2', 'CMRmap',\n",
    "                'cubehelix', 'brg', 'gist_rainbow', 'rainbow', 'jet',\n",
    "                'turbo', 'nipy_spectral', 'gist_ncar']\n",
    "            threshold (_type_, optional): Value in data units according to which the colors\n",
    "                from textcolors are applied.  If None (the default) uses the middle of the\n",
    "                colormap as separation.  Optional.\n",
    "            pfig (bool, optional): _description_. Defaults to False.\n",
    "        \"\"\"\n",
    "        fig, ax = plt.subplots(figsize=(10, 10))\n",
    "        im, cbar = heatmap(self.correlation_matrix, self.variables, self.variables, ax=ax, cmap=cmap, cbarlabel=\"Correlation value\")\n",
    "        texts = annotate_heatmap(im, threshold=threshold, valfmt=\"{x:.2f}\")\n",
    "        ax.set_title(\"Correlation Matrix\")\n",
    "        plt.tight_layout()\n",
    "\n",
    "    def plot_eigenvalues_greater_than_one(self):\n",
    "        #plt.figure(figsize=(self.PC_index.shape[1], 5))\n",
    "        # grafico degli autovalori maggiori di 1\n",
    "        # da verificare un attimo se non rimane uguale all'autovalore medio\n",
    "        plt.axvline(\n",
    "            x=self.num_eigenvalues_greater_than_one-0.5, #lìultimo 1 è la condizione\n",
    "            color=\"brown\",\n",
    "            linestyle=\"-\",\n",
    "            label=\"Autovalori maggiori di 1\",\n",
    "        )\n",
    "        plt.xticks(range(self.PC_index.shape[1]), range(1,self.PC_index.shape[1]+1))\n",
    "        plt.xlabel(r\"$PC_i$\")\n",
    "        plt.legend(loc=\"best\")\n",
    "        plt.title(\"Eigenvalue\")\n",
    "\n",
    "    def plot_eigenvalues_variance(self):\n",
    "        #plt.figure(figsize=(self.PC_index.shape[1], 5))\n",
    "        # grafico degli autovalori\n",
    "        plt.bar(\n",
    "            x=self.PC_index[0, :],\n",
    "            height=(self.V_ordered/ self.V_ordered.sum()) * 100,\n",
    "            fill=False,\n",
    "            edgecolor=\"darkorange\",\n",
    "            label=\"Varianza %\",\n",
    "        )\n",
    "        plt.xticks(range(self.PC_index.shape[1]), range(1,self.PC_index.shape[1]+1))\n",
    "        plt.xlabel(r\"$PC_i$\")\n",
    "        plt.ylabel(r\"$\\lambda$%\")\n",
    "        plt.legend(loc=\"best\")\n",
    "        plt.title(\"Eigenvalue\")\n",
    "\n",
    "    def plot_cumulative_variance(self):\n",
    "        c = np.cumsum(self.V_ordered / self.V_ordered.sum()) * 100\n",
    "        plt.bar(\n",
    "            x=self.PC_index[0, :],\n",
    "            height=c,\n",
    "            fill=False,\n",
    "            edgecolor=\"black\",\n",
    "            linestyle=\"--\",\n",
    "            width=0.6,\n",
    "            label=\"Varianza cumulata %\",\n",
    "        )\n",
    "        plt.xticks(range(self.PC_index.shape[1]), range(1,self.PC_index.shape[1]+1))\n",
    "        plt.xlabel(r\"$PC_i$\")\n",
    "        plt.ylabel(r\"$\\lambda$%\")\n",
    "        plt.legend(loc=\"best\")\n",
    "        plt.title(\"Eigenvalue\")\n",
    "\n",
    "    def plot_average_eigenvalue_criterion(self):\n",
    "        plt.axvline(\n",
    "            x=np.argmax(self.V_ordered < self.V_ordered.mean()) - 0.5,\n",
    "            color=\"red\",\n",
    "            alpha=0.5,\n",
    "            linestyle=\"-\",\n",
    "            label=\"AEC\",\n",
    "        )\n",
    "        plt.xticks(range(self.PC_index.shape[1]), range(1,self.PC_index.shape[1]+1))\n",
    "        plt.xlabel(r\"$PC_i$\")\n",
    "        plt.ylabel(r\"$\\lambda$%\")\n",
    "        plt.legend(loc=\"best\")\n",
    "        plt.title(\"Eigenvalue\")\n",
    "\n",
    "    def plot_KP_criterion(self):\n",
    "        rank = np.linalg.matrix_rank(self.correlation_matrix)\n",
    "        sum_term = sum(self.V[m] / self.V.sum() - 1 / self.V.size for m in range(rank))\n",
    "        x = round(1+(self.V.size-1)*(1-((sum_term+(self.V.size-rank)**(1/self.V.size))/(2*(self.V.size-1)/self.V.size))))-1\n",
    "        plt.axvline(\n",
    "            x=x,\n",
    "            color=\"purple\",\n",
    "            alpha=0.5,\n",
    "            linestyle=\"--\",\n",
    "            label=\"KP\",\n",
    "        )\n",
    "        plt.xticks(range(self.PC_index.shape[1]), range(1,self.PC_index.shape[1]+1))\n",
    "        plt.xlabel(r\"$PC_i$\")\n",
    "        plt.ylabel(r\"$\\lambda$%\")\n",
    "        plt.legend(loc=\"best\")\n",
    "        plt.title(\"Eigenvalue\")\n",
    "\n",
    "    def plot_KL_criterion(self):\n",
    "        rank = np.linalg.matrix_rank(self.correlation_matrix)\n",
    "        sum_term = sum(self.V[m] / self.V.sum() - 1 / self.V.size for m in range(rank))\n",
    "        x = round(self.V.size**(1-(sum_term+(self.V.size-rank)**(1/self.V.size))/(2*(self.V.size-1)/self.V.size)))-1\n",
    "        plt.axvline(\n",
    "            x=x,\n",
    "            color=\"cyan\",\n",
    "            alpha=0.5,\n",
    "            linestyle=\"-\",\n",
    "            label=\"KL\",\n",
    "        )\n",
    "        plt.xticks(range(self.PC_index.shape[1]), range(1,self.PC_index.shape[1]+1))\n",
    "        plt.xlabel(r\"$PC_i$\")\n",
    "        plt.ylabel(r\"$\\lambda$%\")\n",
    "        plt.legend(loc=\"best\")\n",
    "        plt.title(\"Eigenvalue\")\n",
    "\n",
    "    def plot_CAEC_criterion(self):\n",
    "        plt.axvline(\n",
    "            x=np.argmax(self.V_ordered < 0.7 * self.V_ordered.mean())-0.5,\n",
    "            color=\"blue\",\n",
    "            alpha=0.5,\n",
    "            linestyle=\"--\",\n",
    "            label=\"CAEC\",\n",
    "        )\n",
    "        plt.xticks(range(self.PC_index.shape[1]), range(1,self.PC_index.shape[1]+1))\n",
    "        plt.xlabel(r\"$PC_i$\")\n",
    "        plt.ylabel(r\"$\\lambda$%\")\n",
    "        plt.legend(loc=\"best\")\n",
    "        plt.title(\"Eigenvalue\")\n",
    "\n",
    "    def plot_broken_stick(self):\n",
    "        n = self.V_ordered.shape[0]\n",
    "        dm = (100 / n) * np.cumsum(1 / np.arange(1, n + 1)[::-1])\n",
    "        plt.plot(self.PC_index[0, :], dm, color=\"lightgreen\", label=\"Broken stick\")\n",
    "        plt.xticks(range(self.PC_index.shape[1]), range(1,self.PC_index.shape[1]+1))\n",
    "        plt.xlabel(r\"$PC_i$\")\n",
    "        plt.ylabel(r\"$\\lambda$%\")\n",
    "        plt.legend(loc=\"best\")\n",
    "        plt.title(\"Eigenvalue\")\n",
    "    \n",
    "    def plot_eigenvalue(self):\n",
    "        self.plot_eigenvalues_greater_than_one()\n",
    "        self.plot_eigenvalues_variance()\n",
    "        self.plot_cumulative_variance()\n",
    "        self.plot_average_eigenvalue_criterion()\n",
    "        self.plot_KP_criterion()\n",
    "        self.plot_KL_criterion()\n",
    "        self.plot_CAEC_criterion()\n",
    "        self.plot_broken_stick()\n",
    "\n",
    "    def plot_hotteling_t2_vs_q(self):\n",
    "        # Calcola Q critico\n",
    "        #Q_critico =f_value/(self.T.shape[0]-self.T.shape[1])\n",
    "        # Crea il grafico\n",
    "        for i in range(len(self.Q)):\n",
    "            plt.plot(self.Q[i], self.T2[i], 'o', label=self.objects[i])\n",
    "        # Aggiungi il valore di T2 critico\n",
    "        #plt.axhline(y=T2_critico, color='r', linestyle='-', label=r\"$T^2_{crit}$\")\n",
    "        # Aggiungi il valore di Q critico\n",
    "        #plt.axvline(x=Q_critico, color='r', linestyle='-', label=r\"$Q_{crit}$\")\n",
    "        plt.xlabel(r'$Q$')\n",
    "        plt.ylabel(r'$Hotteling\\'s T^2$')\n",
    "        plt.legend(loc=\"best\")\n",
    "\n",
    "    def plot_pci_contribution(self, text_color=\"black\"):\n",
    "        for i in range(self.W.shape[1]):\n",
    "            plt.plot(np.arange(self.n_variables),self.W[:, i],marker=\"o\",markerfacecolor=\"none\",label=f\"PC$_{i+1}$\")\n",
    "        plt.title(f\"Contributions of the PC$_i$\")\n",
    "        plt.xticks(np.arange(self.n_variables), self.variables)\n",
    "        plt.legend(labelcolor=text_color)\n",
    "        plt.xlabel(\"Variable\")\n",
    "        plt.ylabel(\"Value of loading\")\n",
    "    \n",
    "\n",
    "    def plot_loadings(self,arrows=True, text_color=\"black\"):\n",
    "        # Loadings plot\n",
    "        fig, axs = plt.subplots(\n",
    "            self.n_component,\n",
    "            self.n_component,\n",
    "            figsize=(5 * self.n_component, 5 * self.n_component),\n",
    "        )\n",
    "        a = 1\n",
    "        for i in range(self.n_component):\n",
    "            for j in range(self.n_component):\n",
    "                fig.suptitle(\"Loadings plot\", fontsize=24, y=1, color=text_color)\n",
    "                ax = plt.subplot(self.n_component, self.n_component, a)\n",
    "                if i != j:\n",
    "                    for d in range(self.n_variables):\n",
    "                        #######################\n",
    "                        if self.W[d, i] > self.W[:, i].mean():\n",
    "                            if self.W[d, j] > self.W[:, j].mean():\n",
    "                                position = [\"left\", \"bottom\"]\n",
    "                            elif self.W[d, j] < self.W[:, j].mean():\n",
    "                                position = [\"right\", \"top\"]\n",
    "                        elif self.W[d, i] < self.W[:, i].mean():\n",
    "                            if self.W[d, j] > self.W[:, j].mean():\n",
    "                                position = [\"left\", \"bottom\"]\n",
    "                            elif self.W[d, j] < self.W[:, j].mean():\n",
    "                                position = [\"right\", \"top\"]\n",
    "                        ######################\n",
    "                        ax.scatter(\n",
    "                            x=self.W[d, i],\n",
    "                            y=self.W[d, j],\n",
    "                            label=self.variables[d],\n",
    "                            color=self.variables_colors[d],\n",
    "                        )\n",
    "                        if arrows == True:\n",
    "                            ax.arrow(\n",
    "                                0,\n",
    "                                0,\n",
    "                                self.W[d, i],\n",
    "                                self.W[d, j],\n",
    "                                length_includes_head=True,\n",
    "                                head_width=0.015,\n",
    "                                color=text_color,\n",
    "                                alpha=0.3,\n",
    "                            )\n",
    "                        ax.annotate(\n",
    "                            text=self.variables[d],\n",
    "                            xy=(self.W[d, i], self.W[d, j]),\n",
    "                            ha=position[0],\n",
    "                            va=position[1],\n",
    "                            color=text_color,\n",
    "                        )\n",
    "                        ax.set_xlabel(rf\"PC$_{i+1}$\")\n",
    "                        ax.set_ylabel(rf\"PC$_{j+1}$\")\n",
    "                        # ax.legend()\n",
    "                    handles, labels = ax.get_legend_handles_labels()\n",
    "                    # fig.legend(handles, labels, loc='center left', bbox_to_anchor=(1, 0.5),labelcolor=text_color, framealpha=0.1)\n",
    "                    # fig.legend(labels=variable)\n",
    "                if i == j:\n",
    "                    # build a square in axes coords\n",
    "                    left, width = 0, 1\n",
    "                    bottom, height = 0, 1\n",
    "                    right = left + width\n",
    "                    top = bottom + height\n",
    "                    # axes coordinates: (0, 0) is bottom left and (1, 1) is upper right\n",
    "                    p = patches.Rectangle(\n",
    "                        (left, bottom),\n",
    "                        width,\n",
    "                        height,\n",
    "                        fill=False,\n",
    "                        transform=ax.transAxes,\n",
    "                        clip_on=False,\n",
    "                    )\n",
    "                    ax.text(\n",
    "                        0.5 * (left + right),\n",
    "                        0.5 * (bottom + top),\n",
    "                        rf\"PC$_{i+1}$\",\n",
    "                        horizontalalignment=\"center\",\n",
    "                        verticalalignment=\"center\",\n",
    "                        fontsize=20,\n",
    "                        color=text_color,\n",
    "                        transform=ax.transAxes,\n",
    "                    )\n",
    "                    ax.set_xticks([])\n",
    "                    ax.set_yticks([])\n",
    "\n",
    "                a += 1\n",
    "        fig.legend(\n",
    "            handles,\n",
    "            labels,\n",
    "            loc=\"center left\",\n",
    "            bbox_to_anchor=(1, 0.5),\n",
    "            labelcolor=text_color,\n",
    "        )\n",
    "\n",
    "    def plot_scores(self,label_point=False,text_color=\"black\"):\n",
    "        # Scores plot\n",
    "        fig, axs = plt.subplots(\n",
    "            self.n_component,\n",
    "            self.n_component,\n",
    "            figsize=(5 * self.n_component, 5 * self.n_component),\n",
    "        )\n",
    "        a = 1\n",
    "        for i in range(self.n_component):\n",
    "            for j in range(self.n_component):\n",
    "                fig.tight_layout()\n",
    "                fig.suptitle(\"Scores plot\", fontsize=24, y=1, color=text_color)\n",
    "                ax = plt.subplot(self.n_component, self.n_component, a)\n",
    "                if i != j:\n",
    "                    for d in range(self.n_objects):\n",
    "                        # ax.scatter(x=T_r[d,i], y=T_r[d,j], c=sample_color[d], edgecolors='black', label=sample[d])\n",
    "                        ax.scatter(\n",
    "                            x=self.T[d, i],\n",
    "                            y=self.T[d, j],\n",
    "                            c=self.objects_colors[d],\n",
    "                            label=self.objects[d],\n",
    "                        )\n",
    "                        if label_point == True:\n",
    "                            try:\n",
    "                                ax.annotate(\n",
    "                                    text=self.objects[d][0],\n",
    "                                    xy=(self.T[d, i], self.T[d, j]),\n",
    "                                    color=text_color,\n",
    "                                )\n",
    "                            except:\n",
    "                                pass\n",
    "                        ax.set_xlabel(f\"PC{i+1}\")\n",
    "                        ax.set_ylabel(f\"PC{j+1}\")\n",
    "                        # ax.legend()\n",
    "                    handles, labels = ax.get_legend_handles_labels()\n",
    "                    # fig.legend(handles, labels, loc='center left', bbox_to_anchor=(1, 0.5), labelcolor=text_color, framealpha=0.1)\n",
    "                if i == j:\n",
    "                    # build a square in axes coords\n",
    "                    left, width = 0, 1\n",
    "                    bottom, height = 0, 1\n",
    "                    right = left + width\n",
    "                    top = bottom + height\n",
    "                    # axes coordinates: (0, 0) is bottom left and (1, 1) is upper right\n",
    "                    p = patches.Rectangle(\n",
    "                        (left, bottom),\n",
    "                        width,\n",
    "                        height,\n",
    "                        fill=False,\n",
    "                        transform=ax.transAxes,\n",
    "                        clip_on=False,\n",
    "                    )\n",
    "                    ax.text(\n",
    "                        0.5 * (left + right),\n",
    "                        0.5 * (bottom + top),\n",
    "                        f\"PC{i+1}\",\n",
    "                        horizontalalignment=\"center\",\n",
    "                        verticalalignment=\"center\",\n",
    "                        fontsize=20,\n",
    "                        color=text_color,\n",
    "                        transform=ax.transAxes,\n",
    "                    )\n",
    "                    ax.set_xticks([])\n",
    "                    ax.set_yticks([])\n",
    "                a += 1\n",
    "        fig.legend(\n",
    "            handles,\n",
    "            labels,\n",
    "            loc=\"center left\",\n",
    "            bbox_to_anchor=(1, 0.5),\n",
    "            labelcolor=text_color,\n",
    "        )\n",
    "    def plot_biplot(\n",
    "            self,\n",
    "            label_point=False,\n",
    "            subplot_dimensions=[5, 5],text_color=\"black\"):\n",
    "            # biplots\n",
    "            fig, axs = plt.subplots(\n",
    "                self.n_component,\n",
    "                self.n_component,\n",
    "                figsize=(\n",
    "                    subplot_dimensions[0] * self.n_component,\n",
    "                    subplot_dimensions[1] * self.n_component,\n",
    "                ),\n",
    "            )\n",
    "            fig.suptitle(\"Biplots plot\", fontsize=24, y=1, color=text_color)\n",
    "            a = 1\n",
    "            for i in range(self.n_component):\n",
    "                for j in range(self.n_component):\n",
    "                    ax = plt.subplot(self.n_component, self.n_component, a)\n",
    "                    if i != j:\n",
    "                        for e in range(self.n_objects):\n",
    "                            # ax.scatter(x=T_r[e,i], y=T_r[e,j], c=sample_color[e], edgecolors='black', label=sample[e])\n",
    "                            ax.scatter(\n",
    "                                x=self.T[e, i],\n",
    "                                y=self.T[e, j],\n",
    "                                c=self.objects_colors[e],\n",
    "                                label=self.objects[e],\n",
    "                            )\n",
    "                            if label_point == True:\n",
    "                                try:\n",
    "                                    ax.annotate(\n",
    "                                        text=self.objects[d],\n",
    "                                        xy=(self.T[d, i], self.T[d, j]),\n",
    "                                        color=text_color,\n",
    "                                    )\n",
    "                                except:\n",
    "                                    pass\n",
    "                        for d in range(self.n_variables):\n",
    "                            #######################\n",
    "                            if self.W[d, i] > self.W[:, i].mean():\n",
    "                                if self.W[d, j] > self.W[:, j].mean():\n",
    "                                    position = [\"left\", \"bottom\"]\n",
    "                                elif self.W[d, j] < self.W[:, j].mean():\n",
    "                                    position = [\"right\", \"top\"]\n",
    "                            elif self.W[d, i] < self.W[:, i].mean():\n",
    "                                if self.W[d, j] > self.W[:, j].mean():\n",
    "                                    position = [\"left\", \"bottom\"]\n",
    "                                elif self.W[d, j] < self.W[:, j].mean():\n",
    "                                    position = [\"right\", \"top\"]\n",
    "                            ######################\n",
    "                            ax.arrow(\n",
    "                                0,\n",
    "                                0,\n",
    "                                pow(self.T[:, i] ** 2, 0.5).max() * self.W[d, i],\n",
    "                                pow(self.T[:, j] ** 2, 0.5).max() * self.W[d, j],\n",
    "                                length_includes_head=True,\n",
    "                                head_width=0.15,\n",
    "                                color=text_color,\n",
    "                                alpha=0.3,\n",
    "                            )\n",
    "                            ax.annotate(\n",
    "                                text=self.variables[d],\n",
    "                                xy=(\n",
    "                                    pow(self.T[:, i] ** 2, 0.5).max() * self.W[d, i],\n",
    "                                    pow(self.T[:, j] ** 2, 0.5).max() * self.W[d, j],\n",
    "                                ),\n",
    "                                ha=position[0],\n",
    "                                va=position[1],\n",
    "                                color=text_color,\n",
    "                            )\n",
    "                        ax.set_xlabel(f\"PC{i+1}\")\n",
    "                        ax.set_ylabel(f\"PC{j+1}\")\n",
    "                        handles, labels = ax.get_legend_handles_labels()\n",
    "                        # ax.legend()\n",
    "                    if i == j:\n",
    "                        # build a square in axes coords\n",
    "                        left, width = 0, 1\n",
    "                        bottom, height = 0, 1\n",
    "                        right = left + width\n",
    "                        top = bottom + height\n",
    "                        # axes coordinates: (0, 0) is bottom left and (1, 1) is upper right\n",
    "                        p = patches.Rectangle(\n",
    "                            (left, bottom),\n",
    "                            width,\n",
    "                            height,\n",
    "                            fill=False,\n",
    "                            transform=ax.transAxes,\n",
    "                            clip_on=False,\n",
    "                        )\n",
    "                        ax.text(\n",
    "                            0.5 * (left + right),\n",
    "                            0.5 * (bottom + top),\n",
    "                            f\"PC{i+1}\",\n",
    "                            horizontalalignment=\"center\",\n",
    "                            verticalalignment=\"center\",\n",
    "                            fontsize=20,\n",
    "                            color=text_color,\n",
    "                            transform=ax.transAxes,\n",
    "                        )\n",
    "                        ax.set_xticks([])\n",
    "                        ax.set_yticks([])\n",
    "                    a += 1\n",
    "            fig.legend(\n",
    "                handles,\n",
    "                labels,\n",
    "                loc=\"center left\",\n",
    "                bbox_to_anchor=(1, 0.5),\n",
    "                labelcolor=text_color)"
   ]
  },
  {
   "cell_type": "code",
   "execution_count": 6,
   "metadata": {},
   "outputs": [
    {
     "data": {
      "text/plain": [
       "array([[0.82197282, 0.46759419, 0.08510137, 0.27378084, 0.0771128 ,\n",
       "        0.53897035, 0.43897725],\n",
       "       [0.90171913, 0.32346858, 0.87925929, 0.29972134, 0.82165791,\n",
       "        0.71332046, 0.94205006],\n",
       "       [0.60480015, 0.31628955, 0.75601647, 0.39772036, 0.01827909,\n",
       "        0.03554065, 0.35957012],\n",
       "       [0.58753698, 0.22794793, 0.39072117, 0.15931237, 0.60524677,\n",
       "        0.14731616, 0.17769299],\n",
       "       [0.75378774, 0.00253078, 0.43943428, 0.9432033 , 0.5465728 ,\n",
       "        0.72510402, 0.4434852 ],\n",
       "       [0.23275381, 0.60297055, 0.12647727, 0.33910215, 0.04039847,\n",
       "        0.05377525, 0.39930877],\n",
       "       [0.30460517, 0.27246488, 0.12203307, 0.38300166, 0.43257723,\n",
       "        0.63593658, 0.88765407],\n",
       "       [0.70792722, 0.06049799, 0.63080648, 0.07348146, 0.87995456,\n",
       "        0.87976019, 0.72600681],\n",
       "       [0.95406445, 0.23339458, 0.83357193, 0.02870009, 0.02173469,\n",
       "        0.16299541, 0.88582243],\n",
       "       [0.08129824, 0.51214599, 0.75059663, 0.219039  , 0.41424155,\n",
       "        0.83287545, 0.31385705]])"
      ]
     },
     "execution_count": 6,
     "metadata": {},
     "output_type": "execute_result"
    }
   ],
   "source": [
    "import numpy as np\n",
    "\n",
    "n = 10\n",
    "m = 7\n",
    "X = np.random.rand(n, m)\n",
    "X"
   ]
  },
  {
   "cell_type": "code",
   "execution_count": 7,
   "metadata": {},
   "outputs": [
    {
     "data": {
      "image/png": "[encoded data removed]",
      "text/plain": [
       "<Figure size 640x480 with 1 Axes>"
      ]
     },
     "metadata": {},
     "output_type": "display_data"
    }
   ],
   "source": [
    "pca=PrincipalComponentAnalysis(X)\n",
    "pca.fit()\n",
    "#pca.plot_correlation_matrix()\n",
    "pca.plot_eigenvalue()"
   ]
  },
  {
   "cell_type": "code",
   "execution_count": 8,
   "metadata": {},
   "outputs": [],
   "source": [
    "pca.reduction(4)\n",
    "pca.statistics()"
   ]
  },
  {
   "cell_type": "code",
   "execution_count": 9,
   "metadata": {},
   "outputs": [
    {
     "data": {
      "text/plain": [
       "array([[ 0.97387157,  0.3907757 , -0.31069353, -1.00774225],\n",
       "       [-1.6825861 , -0.68085599, -0.35944973, -0.46044435],\n",
       "       [ 0.77858676,  1.78621893, -0.31103862,  0.44936926],\n",
       "       [ 0.42238747,  0.44740721,  0.46397681,  1.69031551],\n",
       "       [-2.50835007,  0.53267379,  0.04150716,  0.21481532],\n",
       "       [ 2.72173195,  0.38328726,  0.70165313, -0.13898246],\n",
       "       [ 0.2303963 , -1.79088261, -0.11143837, -0.41896398],\n",
       "       [-1.82974145, -1.49163437, -0.17405655,  0.46747472],\n",
       "       [ 0.34974585,  0.58423523, -2.26477111, -0.10450353],\n",
       "       [ 0.54395773, -0.16122516,  2.32431081, -0.69133824]])"
      ]
     },
     "execution_count": 9,
     "metadata": {},
     "output_type": "execute_result"
    }
   ],
   "source": [
    "pca.T"
   ]
  },
  {
   "cell_type": "code",
   "execution_count": 10,
   "metadata": {},
   "outputs": [
    {
     "data": {
      "text/plain": [
       "<BarContainer object of 7 artists>"
      ]
     },
     "execution_count": 10,
     "metadata": {},
     "output_type": "execute_result"
    },
    {
     "data": {
      "image/png": "[encoded data removed]",
      "text/plain": [
       "<Figure size 640x480 with 1 Axes>"
      ]
     },
     "metadata": {},
     "output_type": "display_data"
    }
   ],
   "source": [
    "plt.bar(([0,1,2,3,4,5,6]),pca.T2con[1,:])"
   ]
  },
  {
   "cell_type": "code",
   "execution_count": 15,
   "metadata": {},
   "outputs": [
    {
     "data": {
      "image/png": "[encoded data removed]",
      "text/plain": [
       "<Figure size 640x480 with 1 Axes>"
      ]
     },
     "metadata": {},
     "output_type": "display_data"
    }
   ],
   "source": [
    "def plot_scores(x=None,y=None):\n",
    "    plt.scatter(pca.T[:,x+1],pca.T[:,y+1],label=pca.objects)\n",
    "    plt.title(rf\"Scores plot PC$_{x}$ vs PC$_{y}$\")\n",
    "    plt.xlabel(rf\"PC$_{x}$\")\n",
    "    plt.ylabel(rf\"PC$_{y}$\")\n",
    "    plt.legend()\n",
    "\n",
    "plot_scores(x=1,y=2)"
   ]
  },
  {
   "cell_type": "code",
   "execution_count": null,
   "metadata": {},
   "outputs": [
    {
     "name": "stderr",
     "output_type": "stream",
     "text": [
      "C:\\Users\\Admin\\AppData\\Local\\Temp\\ipykernel_19528\\1787670839.py:18: RuntimeWarning: invalid value encountered in scalar divide\n",
      "  ho = 1 - (2 * t1 * t3) / (3 * t2 ** 2)\n"
     ]
    },
    {
     "ename": "",
     "evalue": "",
     "output_type": "error",
     "traceback": [
      "\u001b[1;31mnotebook controller is DISPOSED. \n",
      "\u001b[1;31mPer ulteriori dettagli, visualizzare Jupyter <a href='command:jupyter.viewOutput'>log</a>."
     ]
    },
    {
     "ename": "",
     "evalue": "",
     "output_type": "error",
     "traceback": [
      "\u001b[1;31mnotebook controller is DISPOSED. \n",
      "\u001b[1;31mPer ulteriori dettagli, visualizzare Jupyter <a href='command:jupyter.viewOutput'>log</a>."
     ]
    }
   ],
   "source": [
    "#Sì, posso convertire il codice MATLAB in codice Python. Ecco un esempio di come potrebbe essere fatto:\n",
    "from scipy.stats import f, norm\n",
    "import numpy as np\n",
    "\n",
    "lev_conf = 0.95\n",
    "comp = pca.n_component # insert the value of comp here\n",
    "nobj = pca.n_objects # insert the value of nobj here\n",
    "E = np.diag(pca.V_ordered[:pca.n_component]**(2/(nobj-1)))# insert the values of E here\n",
    "\n",
    "# T2 limit\n",
    "F = f.ppf(lev_conf, comp, nobj - comp)\n",
    "tlim = comp * (nobj - 1) / (nobj - comp) * F\n",
    "\n",
    "# Q limit\n",
    "t1 = np.sum(E[comp:] ** 1)\n",
    "t2 = np.sum(E[comp:] ** 2)\n",
    "t3 = np.sum(E[comp:] ** 3)\n",
    "ho = 1 - (2 * t1 * t3) / (3 * t2 ** 2)\n",
    "ca = norm.ppf(0.95, 0, 1)\n",
    "term1 = (ho * ca * (2 * t2) ** 0.5) / t1\n",
    "term2 = (t2 * ho * (ho - 1)) / (t1 ** 2)\n",
    "qlim = t1 * (term1 + 1 + term2) ** (1 / ho)"
   ]
  },
  {
   "cell_type": "code",
   "execution_count": null,
   "metadata": {},
   "outputs": [
    {
     "name": "stdout",
     "output_type": "stream",
     "text": [
      "27.20206170165146\n"
     ]
    },
    {
     "ename": "",
     "evalue": "",
     "output_type": "error",
     "traceback": [
      "\u001b[1;31mnotebook controller is DISPOSED. \n",
      "\u001b[1;31mPer ulteriori dettagli, visualizzare Jupyter <a href='command:jupyter.viewOutput'>log</a>."
     ]
    },
    {
     "ename": "",
     "evalue": "",
     "output_type": "error",
     "traceback": [
      "\u001b[1;31mnotebook controller is DISPOSED. \n",
      "\u001b[1;31mPer ulteriori dettagli, visualizzare Jupyter <a href='command:jupyter.viewOutput'>log</a>."
     ]
    }
   ],
   "source": [
    "print(tlim)"
   ]
  },
  {
   "cell_type": "code",
   "execution_count": null,
   "metadata": {},
   "outputs": [
    {
     "name": "stdout",
     "output_type": "stream",
     "text": [
      "0.0\n"
     ]
    },
    {
     "ename": "",
     "evalue": "",
     "output_type": "error",
     "traceback": [
      "\u001b[1;31mnotebook controller is DISPOSED. \n",
      "\u001b[1;31mPer ulteriori dettagli, visualizzare Jupyter <a href='command:jupyter.viewOutput'>log</a>."
     ]
    },
    {
     "ename": "",
     "evalue": "",
     "output_type": "error",
     "traceback": [
      "\u001b[1;31mnotebook controller is DISPOSED. \n",
      "\u001b[1;31mPer ulteriori dettagli, visualizzare Jupyter <a href='command:jupyter.viewOutput'>log</a>."
     ]
    }
   ],
   "source": [
    "print(t1)"
   ]
  },
  {
   "cell_type": "code",
   "execution_count": null,
   "metadata": {},
   "outputs": [
    {
     "ename": "SyntaxError",
     "evalue": "invalid syntax (2939310204.py, line 1)",
     "output_type": "error",
     "traceback": [
      "\u001b[1;36m  Cell \u001b[1;32mIn[11], line 1\u001b[1;36m\u001b[0m\n\u001b[1;33m    np.sum(E[comp:] ** 1)E[comp:] ** 2\u001b[0m\n\u001b[1;37m                         ^\u001b[0m\n\u001b[1;31mSyntaxError\u001b[0m\u001b[1;31m:\u001b[0m invalid syntax\n"
     ]
    },
    {
     "ename": "",
     "evalue": "",
     "output_type": "error",
     "traceback": [
      "\u001b[1;31mnotebook controller is DISPOSED. \n",
      "\u001b[1;31mPer ulteriori dettagli, visualizzare Jupyter <a href='command:jupyter.viewOutput'>log</a>."
     ]
    },
    {
     "ename": "",
     "evalue": "",
     "output_type": "error",
     "traceback": [
      "\u001b[1;31mnotebook controller is DISPOSED. \n",
      "\u001b[1;31mPer ulteriori dettagli, visualizzare Jupyter <a href='command:jupyter.viewOutput'>log</a>."
     ]
    }
   ],
   "source": [
    "np.sum(E[comp:] ** 1)E[comp:] ** 2"
   ]
  },
  {
   "cell_type": "code",
   "execution_count": null,
   "metadata": {},
   "outputs": [
    {
     "data": {
      "text/plain": [
       "array([], shape=(0, 4), dtype=float64)"
      ]
     },
     "execution_count": 27,
     "metadata": {},
     "output_type": "execute_result"
    },
    {
     "ename": "",
     "evalue": "",
     "output_type": "error",
     "traceback": [
      "\u001b[1;31mnotebook controller is DISPOSED. \n",
      "\u001b[1;31mPer ulteriori dettagli, visualizzare Jupyter <a href='command:jupyter.viewOutput'>log</a>."
     ]
    },
    {
     "ename": "",
     "evalue": "",
     "output_type": "error",
     "traceback": [
      "\u001b[1;31mnotebook controller is DISPOSED. \n",
      "\u001b[1;31mPer ulteriori dettagli, visualizzare Jupyter <a href='command:jupyter.viewOutput'>log</a>."
     ]
    }
   ],
   "source": [
    "E[comp:] ** 2"
   ]
  },
  {
   "cell_type": "code",
   "execution_count": null,
   "metadata": {},
   "outputs": [
    {
     "ename": "",
     "evalue": "",
     "output_type": "error",
     "traceback": [
      "\u001b[1;31mnotebook controller is DISPOSED. \n",
      "\u001b[1;31mPer ulteriori dettagli, visualizzare Jupyter <a href='command:jupyter.viewOutput'>log</a>."
     ]
    },
    {
     "ename": "",
     "evalue": "",
     "output_type": "error",
     "traceback": [
      "\u001b[1;31mnotebook controller is DISPOSED. \n",
      "\u001b[1;31mPer ulteriori dettagli, visualizzare Jupyter <a href='command:jupyter.viewOutput'>log</a>."
     ]
    }
   ],
   "source": [
    "def hotellings_t2_critical_value(pca, alpha):\n",
    "    p = pca.n_variables\n",
    "    n = pca.n_objects\n",
    "    f_critical_value = f.ppf(1 - alpha, p, n - p)\n",
    "    T2_critical_value = (p * (n - 1)) / (n - p) * f_critical_value\n",
    "    return T2_critical_value"
   ]
  },
  {
   "cell_type": "code",
   "execution_count": null,
   "metadata": {},
   "outputs": [
    {
     "data": {
      "text/plain": [
       "24.111761370660588"
      ]
     },
     "execution_count": 36,
     "metadata": {},
     "output_type": "execute_result"
    },
    {
     "ename": "",
     "evalue": "",
     "output_type": "error",
     "traceback": [
      "\u001b[1;31mnotebook controller is DISPOSED. \n",
      "\u001b[1;31mPer ulteriori dettagli, visualizzare Jupyter <a href='command:jupyter.viewOutput'>log</a>."
     ]
    },
    {
     "ename": "",
     "evalue": "",
     "output_type": "error",
     "traceback": [
      "\u001b[1;31mnotebook controller is DISPOSED. \n",
      "\u001b[1;31mPer ulteriori dettagli, visualizzare Jupyter <a href='command:jupyter.viewOutput'>log</a>."
     ]
    }
   ],
   "source": [
    "hotellings_t2_critical_value(pca=pca, alpha=0.5)"
   ]
  },
  {
   "cell_type": "code",
   "execution_count": null,
   "metadata": {},
   "outputs": [
    {
     "ename": "",
     "evalue": "",
     "output_type": "error",
     "traceback": [
      "\u001b[1;31mnotebook controller is DISPOSED. \n",
      "\u001b[1;31mPer ulteriori dettagli, visualizzare Jupyter <a href='command:jupyter.viewOutput'>log</a>."
     ]
    },
    {
     "ename": "",
     "evalue": "",
     "output_type": "error",
     "traceback": [
      "\u001b[1;31mnotebook controller is DISPOSED. \n",
      "\u001b[1;31mPer ulteriori dettagli, visualizzare Jupyter <a href='command:jupyter.viewOutput'>log</a>."
     ]
    }
   ],
   "source": []
  }
 ],
 "metadata": {
  "kernelspec": {
   "display_name": "chemtools",
   "language": "python",
   "name": "python3"
  },
  "language_info": {
   "codemirror_mode": {
    "name": "ipython",
    "version": 3
   },
   "file_extension": ".py",
   "mimetype": "text/x-python",
   "name": "python",
   "nbconvert_exporter": "python",
   "pygments_lexer": "ipython3",
   "version": "3.11.2"
  },
  "orig_nbformat": 4,
  "vscode": {
   "interpreter": {
    "hash": "37ed4efeacbaf29a14f13f141ae0f4dbbc6c2c22eee5128682cfdaa13f0e7f21"
   }
  }
 },
 "nbformat": 4,
 "nbformat_minor": 2
}
