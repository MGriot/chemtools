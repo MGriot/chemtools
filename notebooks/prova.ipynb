{
 "cells": [
  {
   "attachments": {},
   "cell_type": "markdown",
   "metadata": {},
   "source": [
    "# Dendrogramma"
   ]
  },
  {
   "cell_type": "code",
   "execution_count": 29,
   "metadata": {},
   "outputs": [],
   "source": [
    "import numpy as np\n",
    "import matplotlib.pyplot as plt"
   ]
  },
  {
   "cell_type": "code",
   "execution_count": 30,
   "metadata": {},
   "outputs": [],
   "source": [
    "def pdist(data):\n",
    "    m, n = data.shape\n",
    "    dm = np.zeros((m * (m - 1)) // 2, dtype=np.double)\n",
    "    k = 0\n",
    "    for i in range(0, m - 1):\n",
    "        for j in range(i + 1, m):\n",
    "            dm[k] = np.sqrt(np.sum((data[i] - data[j]) ** 2))\n",
    "            k += 1\n",
    "    return dm"
   ]
  },
  {
   "cell_type": "code",
   "execution_count": 35,
   "metadata": {},
   "outputs": [],
   "source": [
    "def linkage(Y):\n",
    "    m = int(np.ceil(np.sqrt(Y.shape[0] * 2)))\n",
    "    Z = np.zeros((m - 1, 4))\n",
    "    data = np.zeros((m, m))\n",
    "    data[np.triu_indices(m, k=1)] = Y\n",
    "    for k in range(m - 1):\n",
    "        x, y = np.where(data == np.min(data[np.nonzero(data)]))\n",
    "        i = min(x[0], y[0])\n",
    "        j = max(x[0], y[0])\n",
    "        Z[k, :2] = i, j\n",
    "        Z[k, 2] = data[i, j]\n",
    "        Z[k, 3] = (data[i] != 0).sum() + (data[j] != 0).sum()\n",
    "        data[i] = (data[i] + data[j]) / 2\n",
    "        data[:, i] = (data[:, i] + data[:, j]) / 2\n",
    "        data[j] = 0\n",
    "        data[:, j] = 0\n",
    "    return Z"
   ]
  },
  {
   "cell_type": "code",
   "execution_count": 33,
   "metadata": {},
   "outputs": [],
   "source": [
    "def plot_dendrogram(Z):\n",
    "    m = Z.shape[0] + 1\n",
    "    plt.figure(figsize=(10, 5))\n",
    "    plt.title('Dendrogram')\n",
    "    plt.xlabel('Index')\n",
    "    plt.ylabel('Distance')\n",
    "    for k in range(m - 1):\n",
    "        i = int(Z[k, 0])\n",
    "        j = int(Z[k, 1])\n",
    "        x = [k, k, m + k - 1]\n",
    "        y = [i, j, (Z[i - 1, 2] + Z[j - 1 ,2]) / 2]\n",
    "        plt.plot(x[:2], y[:2], c='k')\n",
    "        plt.plot(x[1:], y[1:], c='k')\n",
    "    plt.show()"
   ]
  },
  {
   "cell_type": "code",
   "execution_count": 37,
   "metadata": {},
   "outputs": [
    {
     "name": "stdout",
     "output_type": "stream",
     "text": [
      "[[0.         1.         2.82842712 3.        ]\n",
      " [0.         0.         0.70710678 4.        ]]\n"
     ]
    },
    {
     "data": {
      "image/png": "[encoded data removed]",
      "text/plain": [
       "<Figure size 1000x500 with 1 Axes>"
      ]
     },
     "metadata": {},
     "output_type": "display_data"
    }
   ],
   "source": [
    "data = np.array([[1., 2.], [3., 4.], [5., 6.]])\n",
    "Y = pdist(data)\n",
    "Z = linkage(Y)\n",
    "print(Z)\n",
    "plot_dendrogram(Z)"
   ]
  },
  {
   "cell_type": "markdown",
   "metadata": {},
   "source": [
    "# Preparazione retta di taratura"
   ]
  },
  {
   "cell_type": "code",
   "execution_count": 1,
   "metadata": {},
   "outputs": [],
   "source": [
    "from chemtools.utility import make_standards"
   ]
  },
  {
   "cell_type": "code",
   "execution_count": 2,
   "metadata": {},
   "outputs": [
    {
     "data": {
      "text/plain": [
       "array([0.1, 0.5, 1. , 1.4, 1.9, 2.3, 2.8, 3.2, 3.7, 4.1, 4.6, 5. ])"
      ]
     },
     "execution_count": 2,
     "metadata": {},
     "output_type": "execute_result"
    }
   ],
   "source": [
    "make_standards(0.1,5,n_standard=12,decimal=1)"
   ]
  },
  {
   "cell_type": "markdown",
   "metadata": {},
   "source": [
    "To compensate for possible slight losses of chromium during digestion or other operations of the analysis, treat the chromium standards by the same procedure as the sample. Accordingly, pipet a chromium standard solution in measured volumes into 250-mL beakers or conical flasks to generate standard concentrations ranging from 0.5 to 5 mg/L Cr(VI) when diluted to the appropriate volume.\n",
    "\n",
    "\n",
    "\n",
    "or 10 to 100 micrograms of Cr(VI)\n"
   ]
  },
  {
   "cell_type": "markdown",
   "metadata": {},
   "source": [
    "# Test Joblib per salvare i modelli ottenuti e non dover ricalcolare tutto da zero ogni volta"
   ]
  },
  {
   "cell_type": "code",
   "execution_count": 4,
   "metadata": {},
   "outputs": [
    {
     "ename": "NameError",
     "evalue": "name 'Pipeline' is not defined",
     "output_type": "error",
     "traceback": [
      "\u001b[1;31m---------------------------------------------------------------------------\u001b[0m",
      "\u001b[1;31mNameError\u001b[0m                                 Traceback (most recent call last)",
      "Cell \u001b[1;32mIn [4], line 3\u001b[0m\n\u001b[0;32m      1\u001b[0m \u001b[39mimport\u001b[39;00m \u001b[39mjoblib\u001b[39;00m\n\u001b[1;32m----> 3\u001b[0m \u001b[39mdef\u001b[39;00m \u001b[39msave_pipeline\u001b[39m(\u001b[39m*\u001b[39m, pipeline_to_persist: Pipeline) \u001b[39m-\u001b[39m\u001b[39m>\u001b[39m \u001b[39mNone\u001b[39;00m:\n\u001b[0;32m      4\u001b[0m     \u001b[39m\"\"\"Persist the pipeline.\u001b[39;00m\n\u001b[0;32m      5\u001b[0m \u001b[39m    Saves the versioned model, and overwrites any previous\u001b[39;00m\n\u001b[0;32m      6\u001b[0m \u001b[39m    saved models. This ensures that when the package is\u001b[39;00m\n\u001b[0;32m      7\u001b[0m \u001b[39m    published, there is only one trained model that can be\u001b[39;00m\n\u001b[0;32m      8\u001b[0m \u001b[39m    called, and we know exactly how it was built.\u001b[39;00m\n\u001b[0;32m      9\u001b[0m \u001b[39m    \"\"\"\u001b[39;00m\n\u001b[0;32m     11\u001b[0m     \u001b[39m# Prepare versioned save file name\u001b[39;00m\n",
      "\u001b[1;31mNameError\u001b[0m: name 'Pipeline' is not defined"
     ]
    }
   ],
   "source": [
    "import joblib\n",
    "\n",
    "def save_pipeline(*, pipeline_to_persist: Pipeline) -> None:\n",
    "    \"\"\"Persist the pipeline.\n",
    "    Saves the versioned model, and overwrites any previous\n",
    "    saved models. This ensures that when the package is\n",
    "    published, there is only one trained model that can be\n",
    "    called, and we know exactly how it was built.\n",
    "    \"\"\"\n",
    "\n",
    "    # Prepare versioned save file name\n",
    "    save_file_name = f\"{config.app_config.pipeline_save_file}{_version}.pkl\"\n",
    "    save_path = TRAINED_MODEL_DIR / save_file_name\n",
    "\n",
    "    remove_old_pipelines(files_to_keep=[save_file_name])\n",
    "    joblib.dump(pipeline_to_persist, save_path)"
   ]
  },
  {
   "cell_type": "code",
   "execution_count": 23,
   "metadata": {},
   "outputs": [],
   "source": [
    "def save_model(model, name, out_dir=\"\"):\n",
    "    # Save the model\n",
    "    if out_dir !=\"\":\n",
    "        out_dir=f\"{out_dir}/\"\n",
    "    joblib.dump(model , f'{out_dir}{name}.jlib')"
   ]
  },
  {
   "cell_type": "code",
   "execution_count": 27,
   "metadata": {},
   "outputs": [],
   "source": [
    "def load_model(name):\n",
    "    # Load the model \"name.jlib\"\n",
    "    return joblib.load(name)"
   ]
  },
  {
   "attachments": {},
   "cell_type": "markdown",
   "metadata": {},
   "source": [
    "# Area under scatter plot in python\n",
    "[link](https://stackoverflow.com/questions/54205300/area-under-scatter-plot-in-python)"
   ]
  },
  {
   "cell_type": "code",
   "execution_count": 6,
   "metadata": {},
   "outputs": [
    {
     "data": {
      "image/png": "[encoded data removed]",
      "text/plain": [
       "<Figure size 640x480 with 1 Axes>"
      ]
     },
     "metadata": {},
     "output_type": "display_data"
    },
    {
     "name": "stdout",
     "output_type": "stream",
     "text": [
      "-890.9999999999999\n"
     ]
    }
   ],
   "source": [
    "import matplotlib.pyplot as plt\n",
    "import numpy as np\n",
    "xs = np.array([-11,-10,-9,-8,-7,-6,-5,-4,-3,-2,-1,0,1,2,3,4,5,6,7,8,9,10,11])\n",
    "ys = xs**2\n",
    "sum = 0\n",
    "plt.plot(xs, ys, 'bo')\n",
    "plt.show()\n",
    "for i in range(1, len(xs)):\n",
    "    slope = (xs[i]-xs[i-1])/(ys[i] - ys[i-1])\n",
    "    delta_x = x_sort[i] - x_sort[i - 1]\n",
    "    delta_y =  ys[i - 1] + (ys[i-1] + delta_x * slope)\n",
    "    sum = sum + (delta_y/2 * delta_x)\n",
    "print(sum)"
   ]
  },
  {
   "attachments": {},
   "cell_type": "markdown",
   "metadata": {},
   "source": [
    "# Spettroscopia di massa"
   ]
  },
  {
   "cell_type": "code",
   "execution_count": 9,
   "metadata": {},
   "outputs": [],
   "source": [
    "import numpy as np"
   ]
  },
  {
   "attachments": {},
   "cell_type": "markdown",
   "metadata": {},
   "source": [
    "## identifico la massa dello ione in base alla modalità di analisi"
   ]
  },
  {
   "cell_type": "code",
   "execution_count": 31,
   "metadata": {},
   "outputs": [],
   "source": [
    "def ionization(ionization, ion_mass):\n",
    "\n",
    "    if ionization == \"EI\":\n",
    "        return ion_mass\n",
    "    elif ionization == \"CI\":\n",
    "        return ion_mass + 1\n",
    "    else:\n",
    "        print(\"ionization può essere solo \\\"EI\\\" o \\\"CI\\\"\")"
   ]
  },
  {
   "cell_type": "code",
   "execution_count": 32,
   "metadata": {},
   "outputs": [
    {
     "data": {
      "text/plain": [
       "4"
      ]
     },
     "execution_count": 32,
     "metadata": {},
     "output_type": "execute_result"
    }
   ],
   "source": [
    "ionization(\"CI\", 3)"
   ]
  },
  {
   "attachments": {},
   "cell_type": "markdown",
   "metadata": {},
   "source": [
    "## Picchi isotopici\n",
    "I picchi isotopici hanno una proporzione che segue il seguente schema:\n",
    "\n",
    "- **q** = numero di volte in cui l’elemento isotopico compare\n",
    "- **n** = numero specie isotopiche dell’elemento\n",
    "- **m** = abbondanza isotopica relativa\n",
    "- **h** = altezza relativa dei picchi isotopici\n",
    "\n",
    "**hpicchi = (m1 + m2 + ... + mn)q**\n",
    "\n",
    "Svolgendo l’elevamento del polinomio si ottengono dei polinomi del tipo (q=2, n=2 m1=3 (75%) e m2=1 (25%)) ⟶ $1a^2 + 2ab + 1b^2 = 9 + 6 + 1$\n",
    "\n",
    "I tre numeri sono l’altezza relativa dei picchi, solo dei picchi isotopici però, non confondere le altezze relative con altre altezze esempio picco base."
   ]
  },
  {
   "cell_type": "markdown",
   "metadata": {},
   "source": [
    "## Elementi possibili data una massa"
   ]
  },
  {
   "attachments": {},
   "cell_type": "markdown",
   "metadata": {},
   "source": [
    "- M ⟶ ione molecolare\n",
    "- M+1 ⟶ informazioni sulla composizione elementare. Dato uno ione $C_nH_m,\\;I_{(M + 1)}= n \\cdot 1.08_{contributo^{13}C}+ m \\cdot 0.012_{contributo^2H} $\n",
    "- M+2 ⟶ informazioni su [[O]], [[S]] e [[alogeni]]\n",
    "- M+4, M+6 ⟶ segnali dovuti a [[Br]] e [[Cl]].\n",
    "1. Per determinare il numero di **N** bisogna tener conto del valore m/z dello ione molecolare. Se una molecola contiene 2n+1 N, la massa nominale di M sarà dispari. 2n N, la massa nominale di M sarà pari (Regola dell’azoto). Questo nelle tecniche Hard, contrariamente, nelle tecniche Soft la regola si inverte e viene mostrata una massa pari con una quantità di 2n+1 N e una massa dispari con una quantità di 2n N.\n",
    "2. Per determinare il numero di atomi di **C** bisogna eseguire il calcolo: $n{^\\circ}C = \\frac{[M + 1](\\%)}{[M](\\%)}$\n",
    "3. Per determinare il numero di atomi che danno $M+2$ (**O** o **S**) devo fare: $n{^\\circ}O\\ o\\ S = \\frac{[M + 2](\\%)}{[M](\\%)}$, se il numero viene particolarmente alto, o $M+2$ è alto, si deve presumere la presenza di S, se sono molto alti entrambi, M e M+2, si ha la compresenza di zolfo e ossigeno.\n",
    "4. Per determinare **alogeni o altri atomi che hanno isotopi stabili** bisogna guardare l’abbondanza dei picchi a M+n"
   ]
  },
  {
   "cell_type": "code",
   "execution_count": 46,
   "metadata": {},
   "outputs": [],
   "source": [
    "\n",
    "def number_of_c(eight_of_M,eight_of_M1):\n",
    "    \"\"\"Per determinare il numero di atomi di **C**\n",
    "\n",
    "    Args:\n",
    "        eight_of_M (_type_): segnale del picco dello ione molecolare Corrisponde all'abbondanza 12C\n",
    "        eight_of_M1 (_type_): segnale del picco dello ione molecolare + 1, corrisponde all'abbondanza 13C\n",
    "    \"\"\"\n",
    "    return round(eight_of_M1/eight_of_M,2)*100-1"
   ]
  },
  {
   "cell_type": "code",
   "execution_count": 47,
   "metadata": {},
   "outputs": [
    {
     "data": {
      "text/plain": [
       "10.0"
      ]
     },
     "execution_count": 47,
     "metadata": {},
     "output_type": "execute_result"
    }
   ],
   "source": [
    "number_of_c(24,2.7)"
   ]
  },
  {
   "cell_type": "code",
   "execution_count": 51,
   "metadata": {},
   "outputs": [],
   "source": [
    "def if_thereis_N(M):\n",
    "    if M % 2 == 0:\n",
    "        return print(\"La molecola contiene 2n N\")\n",
    "    else:\n",
    "        return print(\"La molecola contiene 2n+1 N\")"
   ]
  },
  {
   "cell_type": "code",
   "execution_count": 52,
   "metadata": {},
   "outputs": [
    {
     "name": "stdout",
     "output_type": "stream",
     "text": [
      "La molecola contiene 2n N\n"
     ]
    }
   ],
   "source": [
    "if_thereis_N(100)"
   ]
  },
  {
   "attachments": {},
   "cell_type": "markdown",
   "metadata": {},
   "source": [
    "## Numeri di atomi che danno M+2"
   ]
  },
  {
   "cell_type": "code",
   "execution_count": 60,
   "metadata": {},
   "outputs": [],
   "source": [
    "def number_of_OS(eight_of_M,eight_of_M2):\n",
    "\n",
    "    return round(eight_of_M2/eight_of_M,2)*10"
   ]
  },
  {
   "cell_type": "code",
   "execution_count": 61,
   "metadata": {},
   "outputs": [
    {
     "data": {
      "text/plain": [
       "3.2"
      ]
     },
     "execution_count": 61,
     "metadata": {},
     "output_type": "execute_result"
    }
   ],
   "source": [
    "number_of_OS(4.7,1.5)"
   ]
  },
  {
   "attachments": {},
   "cell_type": "markdown",
   "metadata": {},
   "source": [
    "### Presenza di elementi con rapporti isotipici"
   ]
  },
  {
   "cell_type": "code",
   "execution_count": 63,
   "metadata": {},
   "outputs": [
    {
     "ename": "SyntaxError",
     "evalue": "incomplete input (801286913.py, line 3)",
     "output_type": "error",
     "traceback": [
      "\u001b[1;36m  Cell \u001b[1;32mIn [63], line 3\u001b[1;36m\u001b[0m\n\u001b[1;33m    \u001b[0m\n\u001b[1;37m    ^\u001b[0m\n\u001b[1;31mSyntaxError\u001b[0m\u001b[1;31m:\u001b[0m incomplete input\n"
     ]
    }
   ],
   "source": [
    "import sympy as sy\n",
    "def peack_hight_of_isotope(q,b,m,h):\n",
    "\n"
   ]
  },
  {
   "attachments": {},
   "cell_type": "markdown",
   "metadata": {},
   "source": [
    "# Dendrogramma"
   ]
  },
  {
   "cell_type": "code",
   "execution_count": 24,
   "metadata": {},
   "outputs": [],
   "source": [
    "import numpy as np\n",
    "import matplotlib.pyplot as plt\n",
    "from scipy.cluster.hierarchy import linkage, dendrogram\n",
    "\n",
    "class Dendrogram:\n",
    "\n",
    "    def __init__(self, data, linkage_method='ward'):\n",
    "        self.data = data\n",
    "        self.linkage_method = linkage_method\n",
    "        self.n, _ = data.shape\n",
    "        self.Z = linkage(self.data, linkage_method)\n",
    "\n",
    "    def plot(self):\n",
    "        plt.figure()\n",
    "        plt.title('Hierarchical Clustering Dendrogram')\n",
    "        plt.xlabel('sample index')\n",
    "        plt.ylabel('distance')\n",
    "        dendrogram(self.Z, leaf_rotation=90., leaf_font_size=8.)\n",
    "        plt.show()\n"
   ]
  },
  {
   "cell_type": "code",
   "execution_count": 25,
   "metadata": {},
   "outputs": [],
   "source": [
    "dendogramma=Dendrogram(matrix_data)"
   ]
  },
  {
   "cell_type": "code",
   "execution_count": 27,
   "metadata": {},
   "outputs": [
    {
     "data": {
      "image/png": "[encoded data removed]",
      "text/plain": [
       "<Figure size 640x480 with 1 Axes>"
      ]
     },
     "metadata": {},
     "output_type": "display_data"
    }
   ],
   "source": [
    "dendogramma.plot()"
   ]
  },
  {
   "cell_type": "code",
   "execution_count": 31,
   "metadata": {},
   "outputs": [],
   "source": [
    "import numpy as np\n",
    "import matplotlib.pyplot as plt\n",
    "\n",
    "class Dendrogram:\n",
    "    def __init__(self, data, linkage_method='single'):\n",
    "        self.data = data\n",
    "        self.linkage_method = linkage_method\n",
    "        self.linkage_matrix = self.linkage_matrix(self.data, self.linkage_method)\n",
    "\n",
    "    def linkage_matrix(self, data, linkage_method='single'):\n",
    "        \"\"\"\n",
    "        Calcola la matrice di linkage a partire dai dati e dal metodo di linkage scelto\n",
    "        \"\"\"\n",
    "        n, _ = data.shape\n",
    "        distances = np.zeros((n, n))\n",
    "        for i in range(n):\n",
    "            for j in range(i + 1, n):\n",
    "                distances[i, j] = euclidean_distance(data[i], data[j])\n",
    "                distances[j, i] = distances[i, j]\n",
    "        linkage_matrix = np.zeros((n - 1, 4))\n",
    "        current_cluster_id = n\n",
    "        for i in range(n - 1):\n",
    "            if linkage_method == 'single':\n",
    "                min_distance = np.min(distances)\n",
    "            elif linkage_method == 'complete':\n",
    "                min_distance = np.max(distances)\n",
    "            elif linkage_method == 'average':\n",
    "                min_distance = np.mean(distances)\n",
    "            else:  # linkage_method == 'ward'\n",
    "                min_distance = np.sum(distances)\n",
    "            x, y = np.unravel_index(np.argmin(distances), distances.shape)\n",
    "            linkage_matrix[i, :] = x, y, min_distance, current_cluster_id\n",
    "            current_cluster_id += 1\n",
    "            distances[x, :] = np.minimum(distances[x, :], distances[y, :])\n",
    "            distances[:, x] = distances[x, :]\n",
    "            distances[y, :] = np.inf\n",
    "            distances[:, y] = np.inf\n",
    "        return linkage_matrix\n",
    "\n",
    "    def plot(self):\n",
    "        \"\"\"\n",
    "        Disegna il dendrogramma utilizzando la matrice di linkage\n",
    "        \"\"\"\n",
    "        plt.figure()\n",
    "        plt.title('Hierarchical Clustering Dendrogram')\n",
    "        plt.xlabel('sample index')\n",
    "        plt.ylabel('distance')\n",
    "        dendrogram(self.linkage_matrix, leaf_rotation=90., leaf_font_size=8.)\n",
    "        plt.show()\n",
    "\n"
   ]
  },
  {
   "cell_type": "code",
   "execution_count": 32,
   "metadata": {},
   "outputs": [
    {
     "ename": "NameError",
     "evalue": "name 'euclidean_distance' is not defined",
     "output_type": "error",
     "traceback": [
      "\u001b[1;31m---------------------------------------------------------------------------\u001b[0m",
      "\u001b[1;31mNameError\u001b[0m                                 Traceback (most recent call last)",
      "Cell \u001b[1;32mIn [32], line 1\u001b[0m\n\u001b[1;32m----> 1\u001b[0m Dendrogram(matrix_data)\n",
      "Cell \u001b[1;32mIn [31], line 8\u001b[0m, in \u001b[0;36mDendrogram.__init__\u001b[1;34m(self, data, linkage_method)\u001b[0m\n\u001b[0;32m      6\u001b[0m \u001b[39mself\u001b[39m\u001b[39m.\u001b[39mdata \u001b[39m=\u001b[39m data\n\u001b[0;32m      7\u001b[0m \u001b[39mself\u001b[39m\u001b[39m.\u001b[39mlinkage_method \u001b[39m=\u001b[39m linkage_method\n\u001b[1;32m----> 8\u001b[0m \u001b[39mself\u001b[39m\u001b[39m.\u001b[39mlinkage_matrix \u001b[39m=\u001b[39m \u001b[39mself\u001b[39;49m\u001b[39m.\u001b[39;49mlinkage_matrix(\u001b[39mself\u001b[39;49m\u001b[39m.\u001b[39;49mdata, \u001b[39mself\u001b[39;49m\u001b[39m.\u001b[39;49mlinkage_method)\n",
      "Cell \u001b[1;32mIn [31], line 18\u001b[0m, in \u001b[0;36mDendrogram.linkage_matrix\u001b[1;34m(self, data, linkage_method)\u001b[0m\n\u001b[0;32m     16\u001b[0m \u001b[39mfor\u001b[39;00m i \u001b[39min\u001b[39;00m \u001b[39mrange\u001b[39m(n):\n\u001b[0;32m     17\u001b[0m     \u001b[39mfor\u001b[39;00m j \u001b[39min\u001b[39;00m \u001b[39mrange\u001b[39m(i \u001b[39m+\u001b[39m \u001b[39m1\u001b[39m, n):\n\u001b[1;32m---> 18\u001b[0m         distances[i, j] \u001b[39m=\u001b[39m euclidean_distance(data[i], data[j])\n\u001b[0;32m     19\u001b[0m         distances[j, i] \u001b[39m=\u001b[39m distances[i, j]\n\u001b[0;32m     20\u001b[0m linkage_matrix \u001b[39m=\u001b[39m np\u001b[39m.\u001b[39mzeros((n \u001b[39m-\u001b[39m \u001b[39m1\u001b[39m, \u001b[39m4\u001b[39m))\n",
      "\u001b[1;31mNameError\u001b[0m: name 'euclidean_distance' is not defined"
     ]
    }
   ],
   "source": [
    "Dendrogram(matrix_data)"
   ]
  },
  {
   "cell_type": "code",
   "execution_count": null,
   "metadata": {},
   "outputs": [],
   "source": [
    "§"
   ]
  }
 ],
 "metadata": {
  "kernelspec": {
   "display_name": "chemtools",
   "language": "python",
   "name": "python3"
  },
  "language_info": {
   "codemirror_mode": {
    "name": "ipython",
    "version": 3
   },
   "file_extension": ".py",
   "mimetype": "text/x-python",
   "name": "python",
   "nbconvert_exporter": "python",
   "pygments_lexer": "ipython3",
   "version": "3.11.2"
  },
  "orig_nbformat": 4,
  "vscode": {
   "interpreter": {
    "hash": "37ed4efeacbaf29a14f13f141ae0f4dbbc6c2c22eee5128682cfdaa13f0e7f21"
   }
  }
 },
 "nbformat": 4,
 "nbformat_minor": 2
}
